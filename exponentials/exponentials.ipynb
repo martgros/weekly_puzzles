{
 "cells": [
  {
   "cell_type": "code",
   "execution_count": 13,
   "id": "976194a3",
   "metadata": {},
   "outputs": [],
   "source": [
    "import casadi as casadi\n",
    "import matplotlib.pyplot as plt\n",
    "import struct"
   ]
  },
  {
   "cell_type": "code",
   "execution_count": 39,
   "id": "5ed9ba8b",
   "metadata": {},
   "outputs": [
    {
     "name": "stdout",
     "output_type": "stream",
     "text": [
      " it   obj            cv        du        lg(mu) reg  alpha_du  alpha_pr  ls\n",
      "  0   nan  1.28e+02  inf   2.0   -.-  0.00e+00  0.00e+00  0x \n",
      "  1   -1.5652951e+02  1.07e+02  0.00e+00   2.0   -.-  1.00e+00  3.12e-02  6h \n",
      "  2   -2.5338886e+01  5.38e+01  0.00e+00   0.6   -.-  1.00e+00  2.50e-01  3h \n",
      "  3   -7.6999724e+00  2.53e+01  0.00e+00   0.6   -.-  1.00e+00  1.00e+00  1h \n",
      "  4   -6.6273309e+00  1.98e+00  0.00e+00  -0.1   -.-  1.00e+00  1.00e+00  1h \n",
      "  5   -6.5781965e+00  1.50e-02  0.00e+00  -0.8   -.-  1.00e+00  1.00e+00  1h \n",
      "  6   -6.5779910e+00  8.77e-07  0.00e+00  -3.4   -.-  1.00e+00  1.00e+00  1h \n",
      "  7   -6.5779910e+00  8.53e-14  0.00e+00  -7.6   -.-  1.00e+00  1.00e+00  1h \n",
      "---- stats ----\n",
      "compute_sd:     3.4e-05 s\n",
      "duinf:          2e-06 s\n",
      "initialization: 1e-05 s  count: 7\n",
      "time_FE :       0.001246 s\n",
      "    eval hess:  0.000377 s  count: 7\n",
      "    eval jac:   2.1e-05 s  count: 9\n",
      "    eval cv:    4.1e-05 s  count: 19\n",
      "    eval grad:  0.000712 s  count: 9\n",
      "    eval obj:   9.5e-05 s  count: 34\n",
      "rest  :       0.000426 s\n",
      "----- \n",
      "time_w/o_FE : 0.000472 s\n",
      "time_FE :       0.001246 s\n",
      "time_total : 0.001718 s  iterations: 7\n",
      "found solution\n",
      "      solver  :   t_proc      (avg)   t_wall      (avg)    n_eval\n",
      "       nlp_f  |        0 (       0)  84.00us (  2.47us)        34\n",
      "       nlp_g  |        0 (       0)  15.00us (789.47ns)        19\n",
      "  nlp_grad_f  |   1.00ms (111.11us) 705.00us ( 78.33us)         9\n",
      "  nlp_hess_l  |   1.00ms (142.86us) 368.00us ( 52.57us)         7\n",
      "   nlp_jac_g  |        0 (       0)   6.00us (666.67ns)         9\n",
      "       total  |   2.00ms (  2.00ms)   2.34ms (  2.34ms)         1\n",
      "solution: x= 0.35298438290515527  y= 2.3219280948873626\n",
      "maximized objective =  -6.57799100282363\n"
     ]
    },
    {
     "name": "stderr",
     "output_type": "stream",
     "text": [
      "CasADi - 2025-10-08 19:12:24 WARNING(\"solver:nlp_grad_f failed: NaN detected for output grad_f_x, at (row 0, col 0).\") [.../casadi/core/oracle_function.cpp:408]\n",
      "CasADi - 2025-10-08 19:12:24 WARNING(\"solver:nlp_f failed: NaN detected for output f, at (row 0, col 0).\") [.../casadi/core/oracle_function.cpp:408]\n",
      "CasADi - 2025-10-08 19:12:24 WARNING(\"solver:nlp_grad_f failed: NaN detected for output grad_f_x, at (row 0, col 0).\") [.../casadi/core/oracle_function.cpp:408]\n",
      "CasADi - 2025-10-08 19:12:24 WARNING(\"solver:nlp_f failed: NaN detected for output f, at (row 0, col 0).\") [.../casadi/core/oracle_function.cpp:408]\n",
      "CasADi - 2025-10-08 19:12:24 WARNING(\"solver:nlp_hess_l failed: NaN detected for output grad_gamma_x, at (row 0, col 0).\") [.../casadi/core/oracle_function.cpp:408]\n",
      "CasADi - 2025-10-08 19:12:24 WARNING(\"solver:nlp_hess_l failed: NaN detected for output grad_gamma_x, at (row 0, col 0).\") [.../casadi/core/oracle_function.cpp:408]\n",
      "CasADi - 2025-10-08 19:12:24 WARNING(\"solver:nlp_hess_l failed: NaN detected for output grad_gamma_x, at (row 0, col 0).\") [.../casadi/core/oracle_function.cpp:408]\n",
      "CasADi - 2025-10-08 19:12:24 WARNING(\"solver:nlp_hess_l failed: NaN detected for output grad_gamma_x, at (row 0, col 0).\") [.../casadi/core/oracle_function.cpp:408]\n",
      "CasADi - 2025-10-08 19:12:24 WARNING(\"solver:nlp_hess_l failed: NaN detected for output grad_gamma_x, at (row 0, col 0).\") [.../casadi/core/oracle_function.cpp:408]\n",
      "CasADi - 2025-10-08 19:12:24 WARNING(\"solver:nlp_hess_l failed: NaN detected for output grad_gamma_x, at (row 0, col 0).\") [.../casadi/core/oracle_function.cpp:408]\n",
      "CasADi - 2025-10-08 19:12:24 WARNING(\"solver:nlp_hess_l failed: NaN detected for output grad_gamma_x, at (row 0, col 0).\") [.../casadi/core/oracle_function.cpp:408]\n"
     ]
    }
   ],
   "source": [
    "opti = casadi.Opti()\n",
    "\n",
    "x = opti.variable()\n",
    "y = opti.variable()\n",
    "\n",
    "obj = -y/x\n",
    "opti.minimize(obj)\n",
    "opti.subject_to(2**y+8**y == 130)\n",
    "opti.subject_to(5**x == 5*x)\n",
    "\n",
    "#opti.set_initial(x, 0.5)\n",
    "#opti.set_initial(y, 1)\n",
    "\n",
    "p_opts = {\"expand\":True,'verbose':0}\n",
    "s_opts = {}#{\"max_iter\": 20}\n",
    "# use FATROP solver, IPOPT failed\n",
    "opti.solver('fatrop',p_opts, s_opts)\n",
    "sol = opti.solve()\n",
    "\n",
    "#plt.plot(sol.value(x),sol.value(y),'o');\n",
    "print('solution: x=',sol.value(x),' y=',sol.value(y))\n",
    "print('maximized objective = ',sol.value(obj))"
   ]
  }
 ],
 "metadata": {
  "kernelspec": {
   "display_name": "exponentials",
   "language": "python",
   "name": "python3"
  },
  "language_info": {
   "codemirror_mode": {
    "name": "ipython",
    "version": 3
   },
   "file_extension": ".py",
   "mimetype": "text/x-python",
   "name": "python",
   "nbconvert_exporter": "python",
   "pygments_lexer": "ipython3",
   "version": "3.10.11"
  }
 },
 "nbformat": 4,
 "nbformat_minor": 5
}
