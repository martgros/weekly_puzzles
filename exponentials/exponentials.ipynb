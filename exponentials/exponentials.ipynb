{
 "cells": [
  {
   "cell_type": "code",
   "execution_count": 1,
   "id": "976194a3",
   "metadata": {},
   "outputs": [],
   "source": [
    "import casadi as casadi\n",
    "import matplotlib.pyplot as plt\n",
    "import struct"
   ]
  },
  {
   "cell_type": "markdown",
   "id": "abb85843",
   "metadata": {},
   "source": [
    "## solve with CasADi"
   ]
  },
  {
   "cell_type": "code",
   "execution_count": 2,
   "id": "5ed9ba8b",
   "metadata": {},
   "outputs": [
    {
     "name": "stdout",
     "output_type": "stream",
     "text": [
      " it   obj            cv        du        lg(mu) reg  alpha_du  alpha_pr  ls\n",
      "  0   nan  1.28e+02  inf   2.0   -.-  0.00e+00  0.00e+00  0x \n",
      "  1   -1.5652951e+02  1.07e+02  0.00e+00   2.0   -.-  1.00e+00  3.12e-02  6h \n",
      "  2   -2.5338886e+01  5.38e+01  0.00e+00   0.6   -.-  1.00e+00  2.50e-01  3h \n",
      "  3   -7.6999724e+00  2.53e+01  0.00e+00   0.6   -.-  1.00e+00  1.00e+00  1h \n",
      "  4   -6.6273309e+00  1.98e+00  0.00e+00  -0.1   -.-  1.00e+00  1.00e+00  1h \n",
      "  5   -6.5781965e+00  1.50e-02  0.00e+00  -0.8   -.-  1.00e+00  1.00e+00  1h \n",
      "  6   -6.5779910e+00  8.77e-07  0.00e+00  -3.4   -.-  1.00e+00  1.00e+00  1h \n",
      "  7   -6.5779910e+00  8.53e-14  0.00e+00  -7.6   -.-  1.00e+00  1.00e+00  1h \n",
      "---- stats ----\n",
      "compute_sd:     5.1e-05 s\n",
      "duinf:          2e-06 s\n",
      "initialization: 8.4e-05 s  count: 7\n",
      "time_FE :       0.001485 s\n",
      "    eval hess:  0.000382 s  count: 7\n",
      "    eval jac:   5.1e-05 s  count: 9\n",
      "    eval cv:    4.2e-05 s  count: 19\n",
      "    eval grad:  0.000841 s  count: 9\n",
      "    eval obj:   0.000169 s  count: 34\n",
      "rest  :       0.000551 s\n",
      "----- \n",
      "time_w/o_FE : 0.000688 s\n",
      "time_FE :       0.001485 s\n",
      "time_total : 0.002173 s  iterations: 7\n",
      "found solution\n",
      "      solver  :   t_proc      (avg)   t_wall      (avg)    n_eval\n",
      "       nlp_f  |        0 (       0) 140.00us (  4.12us)        34\n",
      "       nlp_g  |        0 (       0)  29.00us (  1.53us)        19\n",
      "  nlp_grad_f  |        0 (       0) 834.00us ( 92.67us)         9\n",
      "  nlp_hess_l  |   1.00ms (142.86us) 349.00us ( 49.86us)         7\n",
      "   nlp_jac_g  |        0 (       0)  25.00us (  2.78us)         9\n",
      "       total  |   3.00ms (  3.00ms)   2.96ms (  2.96ms)         1\n",
      "solution: x= 0.35298438290515527  y= 2.3219280948873626\n",
      "maximized objective =  -6.57799100282363\n"
     ]
    },
    {
     "name": "stderr",
     "output_type": "stream",
     "text": [
      "CasADi - 2025-10-08 22:24:25 WARNING(\"solver:nlp_grad_f failed: NaN detected for output grad_f_x, at (row 0, col 0).\") [.../casadi/core/oracle_function.cpp:408]\n",
      "CasADi - 2025-10-08 22:24:25 WARNING(\"solver:nlp_f failed: NaN detected for output f, at (row 0, col 0).\") [.../casadi/core/oracle_function.cpp:408]\n",
      "CasADi - 2025-10-08 22:24:25 WARNING(\"solver:nlp_grad_f failed: NaN detected for output grad_f_x, at (row 0, col 0).\") [.../casadi/core/oracle_function.cpp:408]\n",
      "CasADi - 2025-10-08 22:24:25 WARNING(\"solver:nlp_f failed: NaN detected for output f, at (row 0, col 0).\") [.../casadi/core/oracle_function.cpp:408]\n",
      "CasADi - 2025-10-08 22:24:25 WARNING(\"solver:nlp_hess_l failed: NaN detected for output grad_gamma_x, at (row 0, col 0).\") [.../casadi/core/oracle_function.cpp:408]\n",
      "CasADi - 2025-10-08 22:24:25 WARNING(\"solver:nlp_hess_l failed: NaN detected for output grad_gamma_x, at (row 0, col 0).\") [.../casadi/core/oracle_function.cpp:408]\n",
      "CasADi - 2025-10-08 22:24:25 WARNING(\"solver:nlp_hess_l failed: NaN detected for output grad_gamma_x, at (row 0, col 0).\") [.../casadi/core/oracle_function.cpp:408]\n",
      "CasADi - 2025-10-08 22:24:25 WARNING(\"solver:nlp_hess_l failed: NaN detected for output grad_gamma_x, at (row 0, col 0).\") [.../casadi/core/oracle_function.cpp:408]\n",
      "CasADi - 2025-10-08 22:24:25 WARNING(\"solver:nlp_hess_l failed: NaN detected for output grad_gamma_x, at (row 0, col 0).\") [.../casadi/core/oracle_function.cpp:408]\n",
      "CasADi - 2025-10-08 22:24:25 WARNING(\"solver:nlp_hess_l failed: NaN detected for output grad_gamma_x, at (row 0, col 0).\") [.../casadi/core/oracle_function.cpp:408]\n",
      "CasADi - 2025-10-08 22:24:25 WARNING(\"solver:nlp_hess_l failed: NaN detected for output grad_gamma_x, at (row 0, col 0).\") [.../casadi/core/oracle_function.cpp:408]\n"
     ]
    }
   ],
   "source": [
    "opti = casadi.Opti()\n",
    "\n",
    "x = opti.variable()\n",
    "y = opti.variable()\n",
    "\n",
    "obj = -y/x\n",
    "opti.minimize(obj)\n",
    "opti.subject_to(2**y+8**y == 130)\n",
    "opti.subject_to(5**x == 5*x)\n",
    "\n",
    "#opti.set_initial(x, 0.5)\n",
    "#opti.set_initial(y, 1)\n",
    "\n",
    "p_opts = {\"expand\":True,'verbose':0}\n",
    "s_opts = {}#{\"max_iter\": 20}\n",
    "# use FATROP solver, IPOPT failed\n",
    "opti.solver('fatrop',p_opts, s_opts)\n",
    "sol = opti.solve()\n",
    "\n",
    "#plt.plot(sol.value(x),sol.value(y),'o');\n",
    "print('solution: x=',sol.value(x),' y=',sol.value(y))\n",
    "print('maximized objective = ',sol.value(obj))"
   ]
  }
 ],
 "metadata": {
  "kernelspec": {
   "display_name": "exponentials",
   "language": "python",
   "name": "python3"
  },
  "language_info": {
   "codemirror_mode": {
    "name": "ipython",
    "version": 3
   },
   "file_extension": ".py",
   "mimetype": "text/x-python",
   "name": "python",
   "nbconvert_exporter": "python",
   "pygments_lexer": "ipython3",
   "version": "3.11.6"
  }
 },
 "nbformat": 4,
 "nbformat_minor": 5
}
