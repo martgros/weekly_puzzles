{
 "cells": [
  {
   "cell_type": "code",
   "execution_count": 1,
   "id": "366c50db",
   "metadata": {},
   "outputs": [],
   "source": [
    "import matplotlib.pyplot as plt\n",
    "import numpy as np\n",
    "from scipy.stats import gamma, skew\n",
    "import casadi as ca"
   ]
  },
  {
   "cell_type": "markdown",
   "id": "515362c6",
   "metadata": {},
   "source": [
    "### create random samples"
   ]
  },
  {
   "cell_type": "code",
   "execution_count": 2,
   "id": "82d7e26a",
   "metadata": {},
   "outputs": [],
   "source": [
    "\n",
    "sample_size=10000\n",
    "\n",
    "R1 = gamma.rvs(40, scale=1/8, size=sample_size)\n",
    "R2 = gamma.rvs(50, scale=3/25, size=sample_size)\n",
    "R3 = gamma.rvs(30, scale=47/300, size=sample_size)\n",
    "D1 = gamma.rvs(14/5, scale=8/10, size=sample_size)\n",
    "D2 = gamma.rvs(2, scale=3, size=sample_size)\n",
    "D3 = gamma.rvs(np.sqrt(5), scale=np.sqrt(5), size=sample_size)\n",
    "D4 = gamma.rvs(4, scale=11/8, size=sample_size)"
   ]
  },
  {
   "cell_type": "code",
   "execution_count": 3,
   "id": "320c3526",
   "metadata": {},
   "outputs": [],
   "source": [
    "def system_vibration(R,D,f):\n",
    "    return np.sqrt(R**2 + (f*D)**2 - 1.8*f*R*D)\n",
    "\n",
    "def analyze_system_vibration(S):\n",
    "    print(f'mean: {np.round(S.mean(), 2)}, skewness: {np.round(skew(S), 2)}, std: {np.round(S.std(), 2)}')\n",
    "    #plt.hist(system_vibration(R1,D1,1),bins=100);"
   ]
  },
  {
   "cell_type": "markdown",
   "id": "e5b7f2aa",
   "metadata": {},
   "source": [
    "### try inner optimization problem\n",
    "\n",
    "given combination of R&D --> optimize f"
   ]
  },
  {
   "cell_type": "code",
   "execution_count": 4,
   "id": "047617f1",
   "metadata": {},
   "outputs": [],
   "source": [
    "def mean_casadi(data,sample_size):\n",
    "    return ca.sum1(data)/sample_size"
   ]
  },
  {
   "cell_type": "code",
   "execution_count": 5,
   "id": "fa5c6e97",
   "metadata": {},
   "outputs": [],
   "source": [
    "def calc_skew_casadi(data,sample_size):\n",
    "    \"\"\"\n",
    "    Calculate skewness for a 1D array using g1 = m3 / m2**(3/2)\n",
    "    Parameters:\n",
    "        data: array-like (1D)\n",
    "    Returns:\n",
    "        skewness value (float)\n",
    "    \"\"\"\n",
    "    mean = mean_casadi(data,sample_size)\n",
    "    m2 = mean_casadi((data - mean)**2,sample_size)\n",
    "    m3 = mean_casadi((data - mean)**3,sample_size)\n",
    "    return m3 / m2**1.5"
   ]
  },
  {
   "cell_type": "code",
   "execution_count": 6,
   "id": "be5b7db7",
   "metadata": {},
   "outputs": [],
   "source": [
    "def inner_op(R,D,obj,init_f=0.5,verbose=False,alpha=0.5):\n",
    "    opti = ca.Opti()\n",
    "    f = opti.variable()\n",
    "    S = system_vibration(R,D,f)\n",
    "    S_mean = mean_casadi(S,sample_size)# ca.sum1(S)/sample_size\n",
    "    if obj=='min_mean':\n",
    "        obj = S_mean\n",
    "    elif obj=='target_mean':\n",
    "        obj = (S_mean-3.2)**2\n",
    "    elif obj=='min_mean_and_skew':\n",
    "        #S_skew = skew(system_vibration(R,D,f)) # no skew function in casadi implemented up to my knowledge...\n",
    "        S_skew = calc_skew_casadi(S,sample_size)\n",
    "        obj = alpha*S_mean + (1-alpha)*S_skew\n",
    "    opti.minimize(obj)\n",
    "    opti.subject_to(S_mean<3.8)\n",
    "    #opti.subject_to(S_mean>3.0)\n",
    "    opti.subject_to(f>=0)\n",
    "    opti.subject_to(f<=1)\n",
    "    if obj=='min_mean_and_skew':\n",
    "        opti.subject_to(S_skew>0)\n",
    "        opti.subject_to(S_skew<1.0)\n",
    "    opti.set_initial(f, init_f)\n",
    "\n",
    "    p_opts = {\"expand\":False,'verbose':0}\n",
    "    s_opts = {\"print_level\": 0}\n",
    "    opti.solver('fatrop',p_opts, s_opts)\n",
    "    sol = opti.solve()\n",
    "\n",
    "    if verbose:\n",
    "        print('solution: f=',sol.value(f))\n",
    "        print('maximized objective = ',sol.value(obj))\n",
    "        print('mean(S) = ',sol.value(S_mean))\n",
    "        print('skew(S) = ',skew(system_vibration(R,D,sol.value(f))))\n",
    "    return sol.value(f), sol.value(S_mean), skew(system_vibration(R,D,sol.value(f)))"
   ]
  },
  {
   "cell_type": "code",
   "execution_count": 7,
   "id": "76862b34",
   "metadata": {},
   "outputs": [
    {
     "name": "stdout",
     "output_type": "stream",
     "text": [
      "      solver  :   t_proc      (avg)   t_wall      (avg)    n_eval\n",
      "       nlp_f  |   1.00ms ( 50.00us)   1.32ms ( 65.80us)        20\n",
      "       nlp_g  |   1.00ms (142.86us) 470.00us ( 67.14us)         7\n",
      "  nlp_grad_f  |        0 (       0) 878.00us (109.75us)         8\n",
      "  nlp_hess_l  |   1.00ms (166.67us)   1.40ms (232.67us)         6\n",
      "   nlp_jac_g  |   3.00ms (375.00us)   1.47ms (183.50us)         8\n",
      "       total  |   6.00ms (  6.00ms)   6.17ms (  6.17ms)         1\n",
      "solution: f= 0.5356211113155136\n",
      "maximized objective =  0.009548930179345723\n",
      "mean(S) =  3.297718627596512\n",
      "skew(S) =  1.640436698127766\n"
     ]
    }
   ],
   "source": [
    "_=inner_op(R1,D2,'target_mean',verbose=True)"
   ]
  },
  {
   "cell_type": "code",
   "execution_count": 8,
   "id": "da3b3a00",
   "metadata": {},
   "outputs": [
    {
     "name": "stdout",
     "output_type": "stream",
     "text": [
      "      solver  :   t_proc      (avg)   t_wall      (avg)    n_eval\n",
      "       nlp_f  |   2.00ms (100.00us)   1.42ms ( 71.10us)        20\n",
      "       nlp_g  |   2.00ms (285.71us) 966.00us (138.00us)         7\n",
      "  nlp_grad_f  |   2.00ms (250.00us) 771.00us ( 96.37us)         8\n",
      "  nlp_hess_l  |        0 (       0)   1.11ms (184.83us)         6\n",
      "   nlp_jac_g  |        0 (       0) 967.00us (120.87us)         8\n",
      "       total  |   6.00ms (  6.00ms)   5.83ms (  5.83ms)         1\n",
      "solution: f= 0.5356211114237108\n",
      "maximized objective =  3.2977186275965003\n",
      "mean(S) =  3.2977186275965003\n",
      "skew(S) =  1.6404366992374195\n"
     ]
    }
   ],
   "source": [
    "_=inner_op(R1,D2,'min_mean',verbose=True)"
   ]
  },
  {
   "cell_type": "code",
   "execution_count": 9,
   "id": "133a8b80",
   "metadata": {},
   "outputs": [
    {
     "name": "stdout",
     "output_type": "stream",
     "text": [
      "      solver  :   t_proc      (avg)   t_wall      (avg)    n_eval\n",
      "       nlp_f  |  11.00ms (379.31us)  10.42ms (359.34us)        29\n",
      "       nlp_g  |   1.00ms (100.00us) 683.00us ( 68.30us)        10\n",
      "  nlp_grad_f  |   4.00ms (363.64us)   4.94ms (448.82us)        11\n",
      "  nlp_hess_l  |   7.00ms (777.78us)   7.30ms (811.22us)         9\n",
      "   nlp_jac_g  |   2.00ms (181.82us)   1.30ms (118.55us)        11\n",
      "       total  |  26.00ms ( 26.00ms)  25.63ms ( 25.63ms)         1\n",
      "solution: f= 0.3205171991235962\n",
      "maximized objective =  1.9397871605360368\n",
      "mean(S) =  3.579256357405445\n",
      "skew(S) =  0.30031796366661256\n"
     ]
    }
   ],
   "source": [
    "_=inner_op(R1,D2,'min_mean_and_skew',verbose=True)"
   ]
  },
  {
   "cell_type": "markdown",
   "id": "04c27146",
   "metadata": {},
   "source": [
    "## now brute force iterate over all R&D combinations\n",
    "\n",
    "### request target mean of 3.2"
   ]
  },
  {
   "cell_type": "code",
   "execution_count": 10,
   "id": "9c8b6980",
   "metadata": {},
   "outputs": [],
   "source": [
    "def pareto_plot(solutions_list, labels=None):\n",
    "    import plotly.graph_objects as go\n",
    "    colors = ['blue', 'red', 'green', 'orange', 'purple']\n",
    "    fig = go.Figure()\n",
    "    if labels is None:\n",
    "        labels = [f'Set {i+1}' for i in range(len(solutions_list))]\n",
    "    for idx, solutions in enumerate(solutions_list):\n",
    "        S_mean_vals = [sol['S_mean'] for sol in solutions]\n",
    "        S_skew_vals = [sol['S_skew'] for sol in solutions]\n",
    "        f_vals = [sol['f'] for sol in solutions]\n",
    "        cnt_r_vals = [sol['cnt_r'] for sol in solutions]\n",
    "        cnt_d_vals = [sol['cnt_d'] for sol in solutions]\n",
    "        try:\n",
    "            alpha_vals = [sol['alpha'] for sol in solutions]\n",
    "        except Exception as e:\n",
    "            alpha_vals = None\n",
    "        hover_text = [\n",
    "            f\"f: {f:.3f}<br>cnt_r: {cnt_r}<br>cnt_d: {cnt_d}<br>alpha: {alpha}\"\n",
    "            for f, cnt_r, cnt_d, alpha in zip(f_vals, cnt_r_vals, cnt_d_vals, alpha_vals if alpha_vals is not None else [None]*len(f_vals))\n",
    "        ]\n",
    "        fig.add_trace(go.Scatter(\n",
    "            x=S_mean_vals,\n",
    "            y=S_skew_vals,\n",
    "            mode='markers',\n",
    "            marker=dict(size=12, color=colors[idx % len(colors)], symbol='circle', line=dict(width=2, color='black')),\n",
    "            text=hover_text,\n",
    "            hoverinfo='text',\n",
    "            name=labels[idx]\n",
    "        ))\n",
    "    fig.update_layout(\n",
    "        title='Pareto Plot: S_mean vs S_skew',\n",
    "        xaxis_title='S_mean',\n",
    "        yaxis_title='S_skew',\n",
    "        showlegend=True\n",
    "    )\n",
    "    fig.show()"
   ]
  },
  {
   "cell_type": "code",
   "execution_count": 11,
   "id": "082d76e7",
   "metadata": {},
   "outputs": [
    {
     "name": "stdout",
     "output_type": "stream",
     "text": [
      "      solver  :   t_proc      (avg)   t_wall      (avg)    n_eval\n",
      "       nlp_f  |   3.00ms (115.38us)   1.74ms ( 66.85us)        26\n",
      "       nlp_g  |        0 (       0) 597.00us ( 66.33us)         9\n",
      "  nlp_grad_f  |   1.00ms (100.00us)   1.10ms (109.60us)        10\n",
      "  nlp_hess_l  |   2.00ms (250.00us)   1.85ms (231.75us)         8\n",
      "   nlp_jac_g  |        0 (       0)   1.14ms (113.70us)        10\n",
      "       total  |   6.00ms (  6.00ms)   6.83ms (  6.83ms)         1\n",
      "solution: f= 1.0000000067120243\n",
      "maximized objective =  0.02520543866668551\n",
      "mean(S) =  3.3587622079296127\n",
      "skew(S) =  0.43177852728553007\n",
      "      solver  :   t_proc      (avg)   t_wall      (avg)    n_eval\n",
      "       nlp_f  |   1.00ms ( 50.00us)   1.35ms ( 67.65us)        20\n",
      "       nlp_g  |        0 (       0) 465.00us ( 66.43us)         7\n",
      "  nlp_grad_f  |   1.00ms (125.00us) 879.00us (109.87us)         8\n",
      "  nlp_hess_l  |   2.00ms (333.33us)   1.40ms (233.50us)         6\n",
      "   nlp_jac_g  |        0 (       0) 912.00us (114.00us)         8\n",
      "       total  |   5.00ms (  5.00ms)   5.41ms (  5.41ms)         1\n",
      "solution: f= 0.5356211113155136\n",
      "maximized objective =  0.009548930179345723\n",
      "mean(S) =  3.297718627596512\n",
      "skew(S) =  1.640436698127766\n",
      "      solver  :   t_proc      (avg)   t_wall      (avg)    n_eval\n",
      "       nlp_f  |        0 (       0)   1.72ms ( 66.23us)        26\n",
      "       nlp_g  |   1.00ms (111.11us) 666.00us ( 74.00us)         9\n",
      "  nlp_grad_f  |   2.00ms (200.00us)   1.10ms (110.50us)        10\n",
      "  nlp_hess_l  |   3.00ms (375.00us)   1.89ms (236.00us)         8\n",
      "   nlp_jac_g  |        0 (       0)   1.16ms (116.30us)        10\n",
      "       total  |   6.00ms (  6.00ms)   7.36ms (  7.36ms)         1\n",
      "solution: f= 0.6537427288733189\n",
      "maximized objective =  0.0012405485956668914\n",
      "mean(S) =  3.235221422396986\n",
      "skew(S) =  1.5823191899082534\n",
      "      solver  :   t_proc      (avg)   t_wall      (avg)    n_eval\n",
      "       nlp_f  |        0 (       0)   1.55ms ( 67.39us)        23\n",
      "       nlp_g  |   1.00ms (125.00us) 572.00us ( 71.50us)         8\n",
      "  nlp_grad_f  |   2.00ms (222.22us)   1.15ms (127.56us)         9\n",
      "  nlp_hess_l  |   2.00ms (285.71us)   2.27ms (324.43us)         7\n",
      "   nlp_jac_g  |   1.00ms (111.11us)   1.18ms (131.22us)         9\n",
      "       total  |   8.00ms (  8.00ms)   7.17ms (  7.17ms)         1\n",
      "solution: f= 0.4410692393308341\n",
      "maximized objective =  8.707821866084487e-19\n",
      "mean(S) =  3.199999999066843\n",
      "skew(S) =  0.5116610019045683\n",
      "      solver  :   t_proc      (avg)   t_wall      (avg)    n_eval\n",
      "       nlp_f  |   2.00ms ( 80.00us)   1.71ms ( 68.48us)        25\n",
      "       nlp_g  |   3.00ms (136.36us)   2.04ms ( 92.77us)        22\n",
      "  nlp_grad_f  |   1.00ms (142.86us) 759.00us (108.43us)         7\n",
      "  nlp_hess_l  |   4.00ms (307.69us)   3.12ms (239.85us)        13\n",
      "   nlp_jac_g  |        0 (       0)   2.07ms (121.53us)        17\n",
      "       total  |  10.00ms ( 10.00ms)  10.19ms ( 10.19ms)         1\n",
      "no feasible solution\n",
      "      solver  :   t_proc      (avg)   t_wall      (avg)    n_eval\n",
      "       nlp_f  |   7.00ms ( 87.50us)   5.54ms ( 69.30us)        80\n",
      "       nlp_g  |   7.00ms ( 85.37us)   6.13ms ( 74.72us)        82\n",
      "  nlp_grad_f  |        0 (       0) 961.00us (106.78us)         9\n",
      "  nlp_hess_l  |   4.00ms (200.00us)   4.63ms (231.35us)        20\n",
      "   nlp_jac_g  |   2.00ms ( 83.33us)   2.68ms (111.87us)        24\n",
      "       total  |  20.00ms ( 20.00ms)  20.57ms ( 20.57ms)         1\n",
      "no feasible solution\n",
      "      solver  :   t_proc      (avg)   t_wall      (avg)    n_eval\n",
      "       nlp_f  |   7.00ms ( 93.33us)   5.14ms ( 68.52us)        75\n",
      "       nlp_g  |   4.00ms ( 54.05us)   5.40ms ( 72.93us)        74\n",
      "  nlp_grad_f  |        0 (       0)   1.01ms (112.78us)         9\n",
      "  nlp_hess_l  |   6.00ms (285.71us)   6.60ms (314.29us)        21\n",
      "   nlp_jac_g  |   5.00ms (200.00us)   3.34ms (133.64us)        25\n",
      "       total  |  23.00ms ( 23.00ms)  22.59ms ( 22.59ms)         1\n",
      "no feasible solution\n",
      "      solver  :   t_proc      (avg)   t_wall      (avg)    n_eval\n",
      "       nlp_f  |   2.00ms ( 76.92us)   1.77ms ( 68.27us)        26\n",
      "       nlp_g  |        0 (       0) 597.00us ( 66.33us)         9\n",
      "  nlp_grad_f  |   2.00ms (200.00us)   1.09ms (109.00us)        10\n",
      "  nlp_hess_l  |   2.00ms (250.00us)   1.81ms (225.75us)         8\n",
      "   nlp_jac_g  |   1.00ms (100.00us)   1.15ms (115.40us)        10\n",
      "       total  |   7.00ms (  7.00ms)   6.83ms (  6.83ms)         1\n",
      "solution: f= 0.8062734064551546\n",
      "maximized objective =  0.09222423154640387\n",
      "mean(S) =  3.5036844275665184\n",
      "skew(S) =  1.3569249461633983\n",
      "      solver  :   t_proc      (avg)   t_wall      (avg)    n_eval\n",
      "       nlp_f  |   1.00ms ( 34.48us)   1.87ms ( 64.48us)        29\n",
      "       nlp_g  |        0 (       0) 680.00us ( 68.00us)        10\n",
      "  nlp_grad_f  |   2.00ms (181.82us)   1.18ms (107.45us)        11\n",
      "  nlp_hess_l  |   3.00ms (333.33us)   2.08ms (231.00us)         9\n",
      "   nlp_jac_g  |   1.00ms ( 90.91us)   1.23ms (111.55us)        11\n",
      "       total  |   7.00ms (  7.00ms)   7.45ms (  7.45ms)         1\n",
      "solution: f= 0.9059083022668182\n",
      "maximized objective =  1.505748004485281e-17\n",
      "mean(S) =  3.200000003880397\n",
      "skew(S) =  0.5267751674635063\n",
      "      solver  :   t_proc      (avg)   t_wall      (avg)    n_eval\n",
      "       nlp_f  |   2.00ms ( 52.63us)   2.65ms ( 69.82us)        38\n",
      "       nlp_g  |   1.00ms ( 76.92us) 970.00us ( 74.62us)        13\n",
      "  nlp_grad_f  |        0 (       0)   1.73ms (123.57us)        14\n",
      "  nlp_hess_l  |   4.00ms (333.33us)   3.53ms (294.17us)        12\n",
      "   nlp_jac_g  |   3.00ms (214.29us)   1.88ms (134.14us)        14\n",
      "       total  |  11.00ms ( 11.00ms)  11.41ms ( 11.41ms)         1\n",
      "solution: f= 0.3816520774183466\n",
      "maximized objective =  1.3464998135708208e-18\n",
      "mean(S) =  3.1999999988396124\n",
      "skew(S) =  0.6884677605435701\n",
      "      solver  :   t_proc      (avg)   t_wall      (avg)    n_eval\n",
      "       nlp_f  |   2.00ms ( 86.96us)   1.66ms ( 72.17us)        23\n",
      "       nlp_g  |        0 (       0) 571.00us ( 71.37us)         8\n",
      "  nlp_grad_f  |   1.00ms (111.11us)   1.16ms (128.89us)         9\n",
      "  nlp_hess_l  |   2.00ms (285.71us)   2.26ms (322.29us)         7\n",
      "   nlp_jac_g  |   2.00ms (222.22us)   1.33ms (148.22us)         9\n",
      "       total  |   7.00ms (  7.00ms)   7.52ms (  7.52ms)         1\n",
      "solution: f= 0.4341755818477662\n",
      "maximized objective =  9.971378410018295e-19\n",
      "mean(S) =  3.1999999990014323\n",
      "skew(S) =  0.5901677757071782\n",
      "      solver  :   t_proc      (avg)   t_wall      (avg)    n_eval\n",
      "       nlp_f  |   1.00ms ( 38.46us)   1.85ms ( 71.15us)        26\n",
      "       nlp_g  |        0 (       0) 651.00us ( 72.33us)         9\n",
      "  nlp_grad_f  |        0 (       0)   1.08ms (108.00us)        10\n",
      "  nlp_hess_l  |   2.00ms (250.00us)   1.96ms (245.62us)         8\n",
      "   nlp_jac_g  |   5.00ms (500.00us)   1.81ms (180.70us)        10\n",
      "       total  |   9.00ms (  9.00ms)   7.86ms (  7.86ms)         1\n",
      "solution: f= 0.3479453008209798\n",
      "maximized objective =  1.103780996743373e-18\n",
      "mean(S) =  3.1999999989493904\n",
      "skew(S) =  0.4764472277561279\n"
     ]
    },
    {
     "data": {
      "application/vnd.plotly.v1+json": {
       "config": {
        "plotlyServerURL": "https://plot.ly"
       },
       "data": [
        {
         "hoverinfo": "text",
         "marker": {
          "color": "blue",
          "line": {
           "color": "black",
           "width": 2
          },
          "size": 12,
          "symbol": "circle"
         },
         "mode": "markers",
         "name": "target_mean",
         "text": [
          "f: 1.000<br>cnt_r: 1<br>cnt_d: 1<br>alpha: None",
          "f: 0.536<br>cnt_r: 1<br>cnt_d: 2<br>alpha: None",
          "f: 0.654<br>cnt_r: 1<br>cnt_d: 3<br>alpha: None",
          "f: 0.441<br>cnt_r: 1<br>cnt_d: 4<br>alpha: None",
          "f: 0.806<br>cnt_r: 2<br>cnt_d: 4<br>alpha: None",
          "f: 0.906<br>cnt_r: 3<br>cnt_d: 1<br>alpha: None",
          "f: 0.382<br>cnt_r: 3<br>cnt_d: 2<br>alpha: None",
          "f: 0.434<br>cnt_r: 3<br>cnt_d: 3<br>alpha: None",
          "f: 0.348<br>cnt_r: 3<br>cnt_d: 4<br>alpha: None"
         ],
         "type": "scatter",
         "x": [
          3.3587622079296127,
          3.297718627596512,
          3.235221422396986,
          3.199999999066843,
          3.5036844275665184,
          3.200000003880397,
          3.1999999988396124,
          3.1999999990014323,
          3.1999999989493904
         ],
         "y": [
          0.43177852728553007,
          1.640436698127766,
          1.5823191899082534,
          0.5116610019045683,
          1.3569249461633983,
          0.5267751674635063,
          0.6884677605435701,
          0.5901677757071782,
          0.4764472277561279
         ]
        }
       ],
       "layout": {
        "showlegend": true,
        "template": {
         "data": {
          "bar": [
           {
            "error_x": {
             "color": "#2a3f5f"
            },
            "error_y": {
             "color": "#2a3f5f"
            },
            "marker": {
             "line": {
              "color": "#E5ECF6",
              "width": 0.5
             },
             "pattern": {
              "fillmode": "overlay",
              "size": 10,
              "solidity": 0.2
             }
            },
            "type": "bar"
           }
          ],
          "barpolar": [
           {
            "marker": {
             "line": {
              "color": "#E5ECF6",
              "width": 0.5
             },
             "pattern": {
              "fillmode": "overlay",
              "size": 10,
              "solidity": 0.2
             }
            },
            "type": "barpolar"
           }
          ],
          "carpet": [
           {
            "aaxis": {
             "endlinecolor": "#2a3f5f",
             "gridcolor": "white",
             "linecolor": "white",
             "minorgridcolor": "white",
             "startlinecolor": "#2a3f5f"
            },
            "baxis": {
             "endlinecolor": "#2a3f5f",
             "gridcolor": "white",
             "linecolor": "white",
             "minorgridcolor": "white",
             "startlinecolor": "#2a3f5f"
            },
            "type": "carpet"
           }
          ],
          "choropleth": [
           {
            "colorbar": {
             "outlinewidth": 0,
             "ticks": ""
            },
            "type": "choropleth"
           }
          ],
          "contour": [
           {
            "colorbar": {
             "outlinewidth": 0,
             "ticks": ""
            },
            "colorscale": [
             [
              0,
              "#0d0887"
             ],
             [
              0.1111111111111111,
              "#46039f"
             ],
             [
              0.2222222222222222,
              "#7201a8"
             ],
             [
              0.3333333333333333,
              "#9c179e"
             ],
             [
              0.4444444444444444,
              "#bd3786"
             ],
             [
              0.5555555555555556,
              "#d8576b"
             ],
             [
              0.6666666666666666,
              "#ed7953"
             ],
             [
              0.7777777777777778,
              "#fb9f3a"
             ],
             [
              0.8888888888888888,
              "#fdca26"
             ],
             [
              1,
              "#f0f921"
             ]
            ],
            "type": "contour"
           }
          ],
          "contourcarpet": [
           {
            "colorbar": {
             "outlinewidth": 0,
             "ticks": ""
            },
            "type": "contourcarpet"
           }
          ],
          "heatmap": [
           {
            "colorbar": {
             "outlinewidth": 0,
             "ticks": ""
            },
            "colorscale": [
             [
              0,
              "#0d0887"
             ],
             [
              0.1111111111111111,
              "#46039f"
             ],
             [
              0.2222222222222222,
              "#7201a8"
             ],
             [
              0.3333333333333333,
              "#9c179e"
             ],
             [
              0.4444444444444444,
              "#bd3786"
             ],
             [
              0.5555555555555556,
              "#d8576b"
             ],
             [
              0.6666666666666666,
              "#ed7953"
             ],
             [
              0.7777777777777778,
              "#fb9f3a"
             ],
             [
              0.8888888888888888,
              "#fdca26"
             ],
             [
              1,
              "#f0f921"
             ]
            ],
            "type": "heatmap"
           }
          ],
          "histogram": [
           {
            "marker": {
             "pattern": {
              "fillmode": "overlay",
              "size": 10,
              "solidity": 0.2
             }
            },
            "type": "histogram"
           }
          ],
          "histogram2d": [
           {
            "colorbar": {
             "outlinewidth": 0,
             "ticks": ""
            },
            "colorscale": [
             [
              0,
              "#0d0887"
             ],
             [
              0.1111111111111111,
              "#46039f"
             ],
             [
              0.2222222222222222,
              "#7201a8"
             ],
             [
              0.3333333333333333,
              "#9c179e"
             ],
             [
              0.4444444444444444,
              "#bd3786"
             ],
             [
              0.5555555555555556,
              "#d8576b"
             ],
             [
              0.6666666666666666,
              "#ed7953"
             ],
             [
              0.7777777777777778,
              "#fb9f3a"
             ],
             [
              0.8888888888888888,
              "#fdca26"
             ],
             [
              1,
              "#f0f921"
             ]
            ],
            "type": "histogram2d"
           }
          ],
          "histogram2dcontour": [
           {
            "colorbar": {
             "outlinewidth": 0,
             "ticks": ""
            },
            "colorscale": [
             [
              0,
              "#0d0887"
             ],
             [
              0.1111111111111111,
              "#46039f"
             ],
             [
              0.2222222222222222,
              "#7201a8"
             ],
             [
              0.3333333333333333,
              "#9c179e"
             ],
             [
              0.4444444444444444,
              "#bd3786"
             ],
             [
              0.5555555555555556,
              "#d8576b"
             ],
             [
              0.6666666666666666,
              "#ed7953"
             ],
             [
              0.7777777777777778,
              "#fb9f3a"
             ],
             [
              0.8888888888888888,
              "#fdca26"
             ],
             [
              1,
              "#f0f921"
             ]
            ],
            "type": "histogram2dcontour"
           }
          ],
          "mesh3d": [
           {
            "colorbar": {
             "outlinewidth": 0,
             "ticks": ""
            },
            "type": "mesh3d"
           }
          ],
          "parcoords": [
           {
            "line": {
             "colorbar": {
              "outlinewidth": 0,
              "ticks": ""
             }
            },
            "type": "parcoords"
           }
          ],
          "pie": [
           {
            "automargin": true,
            "type": "pie"
           }
          ],
          "scatter": [
           {
            "fillpattern": {
             "fillmode": "overlay",
             "size": 10,
             "solidity": 0.2
            },
            "type": "scatter"
           }
          ],
          "scatter3d": [
           {
            "line": {
             "colorbar": {
              "outlinewidth": 0,
              "ticks": ""
             }
            },
            "marker": {
             "colorbar": {
              "outlinewidth": 0,
              "ticks": ""
             }
            },
            "type": "scatter3d"
           }
          ],
          "scattercarpet": [
           {
            "marker": {
             "colorbar": {
              "outlinewidth": 0,
              "ticks": ""
             }
            },
            "type": "scattercarpet"
           }
          ],
          "scattergeo": [
           {
            "marker": {
             "colorbar": {
              "outlinewidth": 0,
              "ticks": ""
             }
            },
            "type": "scattergeo"
           }
          ],
          "scattergl": [
           {
            "marker": {
             "colorbar": {
              "outlinewidth": 0,
              "ticks": ""
             }
            },
            "type": "scattergl"
           }
          ],
          "scattermap": [
           {
            "marker": {
             "colorbar": {
              "outlinewidth": 0,
              "ticks": ""
             }
            },
            "type": "scattermap"
           }
          ],
          "scattermapbox": [
           {
            "marker": {
             "colorbar": {
              "outlinewidth": 0,
              "ticks": ""
             }
            },
            "type": "scattermapbox"
           }
          ],
          "scatterpolar": [
           {
            "marker": {
             "colorbar": {
              "outlinewidth": 0,
              "ticks": ""
             }
            },
            "type": "scatterpolar"
           }
          ],
          "scatterpolargl": [
           {
            "marker": {
             "colorbar": {
              "outlinewidth": 0,
              "ticks": ""
             }
            },
            "type": "scatterpolargl"
           }
          ],
          "scatterternary": [
           {
            "marker": {
             "colorbar": {
              "outlinewidth": 0,
              "ticks": ""
             }
            },
            "type": "scatterternary"
           }
          ],
          "surface": [
           {
            "colorbar": {
             "outlinewidth": 0,
             "ticks": ""
            },
            "colorscale": [
             [
              0,
              "#0d0887"
             ],
             [
              0.1111111111111111,
              "#46039f"
             ],
             [
              0.2222222222222222,
              "#7201a8"
             ],
             [
              0.3333333333333333,
              "#9c179e"
             ],
             [
              0.4444444444444444,
              "#bd3786"
             ],
             [
              0.5555555555555556,
              "#d8576b"
             ],
             [
              0.6666666666666666,
              "#ed7953"
             ],
             [
              0.7777777777777778,
              "#fb9f3a"
             ],
             [
              0.8888888888888888,
              "#fdca26"
             ],
             [
              1,
              "#f0f921"
             ]
            ],
            "type": "surface"
           }
          ],
          "table": [
           {
            "cells": {
             "fill": {
              "color": "#EBF0F8"
             },
             "line": {
              "color": "white"
             }
            },
            "header": {
             "fill": {
              "color": "#C8D4E3"
             },
             "line": {
              "color": "white"
             }
            },
            "type": "table"
           }
          ]
         },
         "layout": {
          "annotationdefaults": {
           "arrowcolor": "#2a3f5f",
           "arrowhead": 0,
           "arrowwidth": 1
          },
          "autotypenumbers": "strict",
          "coloraxis": {
           "colorbar": {
            "outlinewidth": 0,
            "ticks": ""
           }
          },
          "colorscale": {
           "diverging": [
            [
             0,
             "#8e0152"
            ],
            [
             0.1,
             "#c51b7d"
            ],
            [
             0.2,
             "#de77ae"
            ],
            [
             0.3,
             "#f1b6da"
            ],
            [
             0.4,
             "#fde0ef"
            ],
            [
             0.5,
             "#f7f7f7"
            ],
            [
             0.6,
             "#e6f5d0"
            ],
            [
             0.7,
             "#b8e186"
            ],
            [
             0.8,
             "#7fbc41"
            ],
            [
             0.9,
             "#4d9221"
            ],
            [
             1,
             "#276419"
            ]
           ],
           "sequential": [
            [
             0,
             "#0d0887"
            ],
            [
             0.1111111111111111,
             "#46039f"
            ],
            [
             0.2222222222222222,
             "#7201a8"
            ],
            [
             0.3333333333333333,
             "#9c179e"
            ],
            [
             0.4444444444444444,
             "#bd3786"
            ],
            [
             0.5555555555555556,
             "#d8576b"
            ],
            [
             0.6666666666666666,
             "#ed7953"
            ],
            [
             0.7777777777777778,
             "#fb9f3a"
            ],
            [
             0.8888888888888888,
             "#fdca26"
            ],
            [
             1,
             "#f0f921"
            ]
           ],
           "sequentialminus": [
            [
             0,
             "#0d0887"
            ],
            [
             0.1111111111111111,
             "#46039f"
            ],
            [
             0.2222222222222222,
             "#7201a8"
            ],
            [
             0.3333333333333333,
             "#9c179e"
            ],
            [
             0.4444444444444444,
             "#bd3786"
            ],
            [
             0.5555555555555556,
             "#d8576b"
            ],
            [
             0.6666666666666666,
             "#ed7953"
            ],
            [
             0.7777777777777778,
             "#fb9f3a"
            ],
            [
             0.8888888888888888,
             "#fdca26"
            ],
            [
             1,
             "#f0f921"
            ]
           ]
          },
          "colorway": [
           "#636efa",
           "#EF553B",
           "#00cc96",
           "#ab63fa",
           "#FFA15A",
           "#19d3f3",
           "#FF6692",
           "#B6E880",
           "#FF97FF",
           "#FECB52"
          ],
          "font": {
           "color": "#2a3f5f"
          },
          "geo": {
           "bgcolor": "white",
           "lakecolor": "white",
           "landcolor": "#E5ECF6",
           "showlakes": true,
           "showland": true,
           "subunitcolor": "white"
          },
          "hoverlabel": {
           "align": "left"
          },
          "hovermode": "closest",
          "mapbox": {
           "style": "light"
          },
          "paper_bgcolor": "white",
          "plot_bgcolor": "#E5ECF6",
          "polar": {
           "angularaxis": {
            "gridcolor": "white",
            "linecolor": "white",
            "ticks": ""
           },
           "bgcolor": "#E5ECF6",
           "radialaxis": {
            "gridcolor": "white",
            "linecolor": "white",
            "ticks": ""
           }
          },
          "scene": {
           "xaxis": {
            "backgroundcolor": "#E5ECF6",
            "gridcolor": "white",
            "gridwidth": 2,
            "linecolor": "white",
            "showbackground": true,
            "ticks": "",
            "zerolinecolor": "white"
           },
           "yaxis": {
            "backgroundcolor": "#E5ECF6",
            "gridcolor": "white",
            "gridwidth": 2,
            "linecolor": "white",
            "showbackground": true,
            "ticks": "",
            "zerolinecolor": "white"
           },
           "zaxis": {
            "backgroundcolor": "#E5ECF6",
            "gridcolor": "white",
            "gridwidth": 2,
            "linecolor": "white",
            "showbackground": true,
            "ticks": "",
            "zerolinecolor": "white"
           }
          },
          "shapedefaults": {
           "line": {
            "color": "#2a3f5f"
           }
          },
          "ternary": {
           "aaxis": {
            "gridcolor": "white",
            "linecolor": "white",
            "ticks": ""
           },
           "baxis": {
            "gridcolor": "white",
            "linecolor": "white",
            "ticks": ""
           },
           "bgcolor": "#E5ECF6",
           "caxis": {
            "gridcolor": "white",
            "linecolor": "white",
            "ticks": ""
           }
          },
          "title": {
           "x": 0.05
          },
          "xaxis": {
           "automargin": true,
           "gridcolor": "white",
           "linecolor": "white",
           "ticks": "",
           "title": {
            "standoff": 15
           },
           "zerolinecolor": "white",
           "zerolinewidth": 2
          },
          "yaxis": {
           "automargin": true,
           "gridcolor": "white",
           "linecolor": "white",
           "ticks": "",
           "title": {
            "standoff": 15
           },
           "zerolinecolor": "white",
           "zerolinewidth": 2
          }
         }
        },
        "title": {
         "text": "Pareto Plot: S_mean vs S_skew"
        },
        "xaxis": {
         "title": {
          "text": "S_mean"
         }
        },
        "yaxis": {
         "title": {
          "text": "S_skew"
         }
        }
       }
      }
     },
     "metadata": {},
     "output_type": "display_data"
    }
   ],
   "source": [
    "obj = 'target_mean'\n",
    "cnt_r=0\n",
    "cnt_d=0\n",
    "solutions = []\n",
    "for R in [R1,R2,R3]:\n",
    "    cnt_r+=1\n",
    "    cnt_d=0\n",
    "    for D in [D1,D2,D3,D4]:\n",
    "        cnt_d+=1\n",
    "        try:\n",
    "            f_opt, S_mean, S_skew = inner_op(R,D,obj,verbose=True)\n",
    "            solutions.append({\n",
    "                'f': f_opt,\n",
    "                'cnt_r': cnt_r,\n",
    "                'cnt_d': cnt_d,\n",
    "                'S_mean': S_mean,\n",
    "                'S_skew': S_skew\n",
    "            })\n",
    "        except:\n",
    "            print('no feasible solution')\n",
    "\n",
    "\n",
    "pareto_plot([solutions],labels=['target_mean'])\n",
    "solutions1=solutions"
   ]
  },
  {
   "cell_type": "markdown",
   "id": "517e38d8",
   "metadata": {},
   "source": [
    "\"best\"  solution selected to reach exactly mean(S) = 3.2 mm/s:\n",
    "- f = 0.356\n",
    "- combination: R3 + D4\n",
    "\n",
    "![](./target_mean.png)"
   ]
  },
  {
   "cell_type": "code",
   "execution_count": 12,
   "id": "62dbda04",
   "metadata": {},
   "outputs": [
    {
     "name": "stdout",
     "output_type": "stream",
     "text": [
      "mean: 3.18, skewness: 0.5, std: 0.98\n"
     ]
    }
   ],
   "source": [
    "analyze_system_vibration(system_vibration(R3,D4,0.356))"
   ]
  },
  {
   "cell_type": "markdown",
   "id": "14937a1f",
   "metadata": {},
   "source": [
    "### minimize mean"
   ]
  },
  {
   "cell_type": "code",
   "execution_count": 13,
   "id": "f1bf57cd",
   "metadata": {},
   "outputs": [
    {
     "name": "stdout",
     "output_type": "stream",
     "text": [
      "      solver  :   t_proc      (avg)   t_wall      (avg)    n_eval\n",
      "       nlp_f  |        0 (       0)   2.13ms ( 92.65us)        23\n",
      "       nlp_g  |        0 (       0) 540.00us ( 67.50us)         8\n",
      "  nlp_grad_f  |   2.00ms (222.22us) 882.00us ( 98.00us)         9\n",
      "  nlp_hess_l  |   3.00ms (428.57us)   1.19ms (170.00us)         7\n",
      "   nlp_jac_g  |   1.00ms (111.11us)   1.14ms (126.78us)         9\n",
      "       total  |   6.00ms (  6.00ms)   6.35ms (  6.35ms)         1\n",
      "solution: f= 1.0000000089560142\n",
      "maximized objective =  3.358762205780144\n",
      "mean(S) =  3.358762205780144\n",
      "skew(S) =  0.43177852952585266\n",
      "      solver  :   t_proc      (avg)   t_wall      (avg)    n_eval\n",
      "       nlp_f  |   1.00ms ( 50.00us)   1.35ms ( 67.35us)        20\n",
      "       nlp_g  |   1.00ms (142.86us) 472.00us ( 67.43us)         7\n",
      "  nlp_grad_f  |   1.00ms (125.00us) 670.00us ( 83.75us)         8\n",
      "  nlp_hess_l  |   1.00ms (166.67us) 994.00us (165.67us)         6\n",
      "   nlp_jac_g  |        0 (       0) 934.00us (116.75us)         8\n",
      "       total  |   5.00ms (  5.00ms)   4.93ms (  4.93ms)         1\n",
      "solution: f= 0.5356211114237108\n",
      "maximized objective =  3.2977186275965003\n",
      "mean(S) =  3.2977186275965003\n",
      "skew(S) =  1.6404366992374195\n",
      "      solver  :   t_proc      (avg)   t_wall      (avg)    n_eval\n",
      "       nlp_f  |   1.00ms ( 43.48us)   1.66ms ( 72.13us)        23\n",
      "       nlp_g  |   1.00ms (125.00us) 645.00us ( 80.62us)         8\n",
      "  nlp_grad_f  |        0 (       0) 791.00us ( 87.89us)         9\n",
      "  nlp_hess_l  |   3.00ms (428.57us)   1.47ms (209.57us)         7\n",
      "   nlp_jac_g  |   1.00ms (111.11us)   1.10ms (122.33us)         9\n",
      "       total  |   7.00ms (  7.00ms)   6.63ms (  6.63ms)         1\n",
      "solution: f= 0.6537427312005131\n",
      "maximized objective =  3.235221422396968\n",
      "mean(S) =  3.235221422396968\n",
      "skew(S) =  1.582319208717656\n",
      "      solver  :   t_proc      (avg)   t_wall      (avg)    n_eval\n",
      "       nlp_f  |   1.00ms ( 43.48us)   1.52ms ( 65.91us)        23\n",
      "       nlp_g  |        0 (       0) 532.00us ( 66.50us)         8\n",
      "  nlp_grad_f  |   1.00ms (111.11us) 757.00us ( 84.11us)         9\n",
      "  nlp_hess_l  |   1.00ms (142.86us)   1.12ms (160.29us)         7\n",
      "   nlp_jac_g  |   1.00ms (111.11us)   1.04ms (115.44us)         9\n",
      "       total  |   6.00ms (  6.00ms)   5.41ms (  5.41ms)         1\n",
      "solution: f= 0.6691026530290145\n",
      "maximized objective =  2.9333382128977594\n",
      "mean(S) =  2.9333382128977594\n",
      "skew(S) =  1.3060743369908379\n",
      "      solver  :   t_proc      (avg)   t_wall      (avg)    n_eval\n",
      "       nlp_f  |   2.00ms ( 80.00us)   1.83ms ( 73.40us)        25\n",
      "       nlp_g  |   1.00ms ( 41.67us)   2.22ms ( 92.54us)        24\n",
      "  nlp_grad_f  |        0 (       0) 501.00us ( 83.50us)         6\n",
      "  nlp_hess_l  |   2.00ms (166.67us)   1.97ms (164.00us)        12\n",
      "   nlp_jac_g  |   2.00ms (125.00us)   2.07ms (129.25us)        16\n",
      "       total  |   9.00ms (  9.00ms)   9.19ms (  9.19ms)         1\n",
      "no feasible solution\n",
      "      solver  :   t_proc      (avg)   t_wall      (avg)    n_eval\n",
      "       nlp_f  |   9.00ms (109.76us)   5.55ms ( 67.74us)        82\n",
      "       nlp_g  |   3.00ms ( 35.71us)   6.19ms ( 73.68us)        84\n",
      "  nlp_grad_f  |        0 (       0) 753.00us ( 83.67us)         9\n",
      "  nlp_hess_l  |   3.00ms (150.00us)   3.35ms (167.60us)        20\n",
      "   nlp_jac_g  |   4.00ms (166.67us)   2.89ms (120.42us)        24\n",
      "       total  |  19.00ms ( 19.00ms)  19.40ms ( 19.40ms)         1\n",
      "no feasible solution\n",
      "      solver  :   t_proc      (avg)   t_wall      (avg)    n_eval\n",
      "       nlp_f  |   1.00ms ( 27.78us)   2.37ms ( 65.78us)        36\n",
      "       nlp_g  |   1.00ms ( 29.41us)   2.24ms ( 65.97us)        34\n",
      "  nlp_grad_f  |        0 (       0) 490.00us ( 81.67us)         6\n",
      "  nlp_hess_l  |   2.00ms (181.82us)   1.74ms (158.09us)        11\n",
      "   nlp_jac_g  |   3.00ms (200.00us)   1.73ms (115.20us)        15\n",
      "       total  |   9.00ms (  9.00ms)   9.06ms (  9.06ms)         1\n",
      "no feasible solution\n",
      "      solver  :   t_proc      (avg)   t_wall      (avg)    n_eval\n",
      "       nlp_f  |        0 (       0)   2.29ms ( 78.83us)        29\n",
      "       nlp_g  |        0 (       0) 868.00us ( 86.80us)        10\n",
      "  nlp_grad_f  |   1.00ms ( 90.91us)   1.09ms ( 98.91us)        11\n",
      "  nlp_hess_l  |   5.00ms (555.56us)   2.19ms (243.00us)         9\n",
      "   nlp_jac_g  |   3.00ms (272.73us)   1.97ms (179.00us)        11\n",
      "       total  |   9.00ms (  9.00ms)   8.91ms (  8.91ms)         1\n",
      "solution: f= 0.8062734067750246\n",
      "maximized objective =  3.503684427566534\n",
      "mean(S) =  3.503684427566534\n",
      "skew(S) =  1.3569249479771792\n",
      "      solver  :   t_proc      (avg)   t_wall      (avg)    n_eval\n",
      "       nlp_f  |   2.00ms ( 76.92us)   1.66ms ( 63.73us)        26\n",
      "       nlp_g  |        0 (       0) 580.00us ( 64.44us)         9\n",
      "  nlp_grad_f  |        0 (       0) 810.00us ( 81.00us)        10\n",
      "  nlp_hess_l  |   2.00ms (250.00us)   1.28ms (160.37us)         8\n",
      "   nlp_jac_g  |   1.00ms (100.00us)   1.10ms (109.70us)        10\n",
      "       total  |   6.00ms (  6.00ms)   5.85ms (  5.85ms)         1\n",
      "solution: f= 1.0000000087942231\n",
      "maximized objective =  3.1134405597210257\n",
      "mean(S) =  3.1134405597210257\n",
      "skew(S) =  0.619208842718643\n",
      "      solver  :   t_proc      (avg)   t_wall      (avg)    n_eval\n",
      "       nlp_f  |   1.00ms ( 55.56us)   1.38ms ( 76.89us)        18\n",
      "       nlp_g  |        0 (       0) 499.00us ( 71.29us)         7\n",
      "  nlp_grad_f  |   1.00ms (142.86us) 586.00us ( 83.71us)         7\n",
      "  nlp_hess_l  |   1.00ms (200.00us) 926.00us (185.20us)         5\n",
      "   nlp_jac_g  |   1.00ms (142.86us) 874.00us (124.86us)         7\n",
      "       total  |   5.00ms (  5.00ms)   5.19ms (  5.19ms)         1\n",
      "solution: f= 0.5009122566232828\n",
      "maximized objective =  3.1116075196335995\n",
      "mean(S) =  3.1116075196335995\n",
      "skew(S) =  1.538441377848992\n",
      "      solver  :   t_proc      (avg)   t_wall      (avg)    n_eval\n",
      "       nlp_f  |   1.00ms ( 50.00us)   1.29ms ( 64.35us)        20\n",
      "       nlp_g  |        0 (       0) 459.00us ( 65.57us)         7\n",
      "  nlp_grad_f  |   1.00ms (125.00us)   1.21ms (151.87us)         8\n",
      "  nlp_hess_l  |   1.00ms (166.67us) 946.00us (157.67us)         6\n",
      "   nlp_jac_g  |   1.00ms (125.00us) 968.00us (121.00us)         8\n",
      "       total  |   6.00ms (  6.00ms)   5.34ms (  5.34ms)         1\n",
      "solution: f= 0.6102300261165379\n",
      "maximized objective =  3.062012032758349\n",
      "mean(S) =  3.062012032758349\n",
      "skew(S) =  1.4078073723978257\n",
      "      solver  :   t_proc      (avg)   t_wall      (avg)    n_eval\n",
      "       nlp_f  |   2.00ms (100.00us)   1.29ms ( 64.40us)        20\n",
      "       nlp_g  |        0 (       0) 455.00us ( 65.00us)         7\n",
      "  nlp_grad_f  |   1.00ms (125.00us) 674.00us ( 84.25us)         8\n",
      "  nlp_hess_l  |   1.00ms (166.67us) 935.00us (155.83us)         6\n",
      "   nlp_jac_g  |        0 (       0) 898.00us (112.25us)         8\n",
      "       total  |   4.00ms (  4.00ms)   4.65ms (  4.65ms)         1\n",
      "solution: f= 0.6266340676098635\n",
      "maximized objective =  2.7747590399937727\n",
      "mean(S) =  2.7747590399937727\n",
      "skew(S) =  1.2270722263297469\n"
     ]
    },
    {
     "data": {
      "application/vnd.plotly.v1+json": {
       "config": {
        "plotlyServerURL": "https://plot.ly"
       },
       "data": [
        {
         "hoverinfo": "text",
         "marker": {
          "color": "blue",
          "line": {
           "color": "black",
           "width": 2
          },
          "size": 12,
          "symbol": "circle"
         },
         "mode": "markers",
         "name": "min_mean",
         "text": [
          "f: 1.000<br>cnt_r: 1<br>cnt_d: 1<br>alpha: None",
          "f: 0.536<br>cnt_r: 1<br>cnt_d: 2<br>alpha: None",
          "f: 0.654<br>cnt_r: 1<br>cnt_d: 3<br>alpha: None",
          "f: 0.669<br>cnt_r: 1<br>cnt_d: 4<br>alpha: None",
          "f: 0.806<br>cnt_r: 2<br>cnt_d: 4<br>alpha: None",
          "f: 1.000<br>cnt_r: 3<br>cnt_d: 1<br>alpha: None",
          "f: 0.501<br>cnt_r: 3<br>cnt_d: 2<br>alpha: None",
          "f: 0.610<br>cnt_r: 3<br>cnt_d: 3<br>alpha: None",
          "f: 0.627<br>cnt_r: 3<br>cnt_d: 4<br>alpha: None"
         ],
         "type": "scatter",
         "x": [
          3.358762205780144,
          3.2977186275965003,
          3.235221422396968,
          2.9333382128977594,
          3.503684427566534,
          3.1134405597210257,
          3.1116075196335995,
          3.062012032758349,
          2.7747590399937727
         ],
         "y": [
          0.43177852952585266,
          1.6404366992374195,
          1.582319208717656,
          1.3060743369908379,
          1.3569249479771792,
          0.619208842718643,
          1.538441377848992,
          1.4078073723978257,
          1.2270722263297469
         ]
        }
       ],
       "layout": {
        "showlegend": true,
        "template": {
         "data": {
          "bar": [
           {
            "error_x": {
             "color": "#2a3f5f"
            },
            "error_y": {
             "color": "#2a3f5f"
            },
            "marker": {
             "line": {
              "color": "#E5ECF6",
              "width": 0.5
             },
             "pattern": {
              "fillmode": "overlay",
              "size": 10,
              "solidity": 0.2
             }
            },
            "type": "bar"
           }
          ],
          "barpolar": [
           {
            "marker": {
             "line": {
              "color": "#E5ECF6",
              "width": 0.5
             },
             "pattern": {
              "fillmode": "overlay",
              "size": 10,
              "solidity": 0.2
             }
            },
            "type": "barpolar"
           }
          ],
          "carpet": [
           {
            "aaxis": {
             "endlinecolor": "#2a3f5f",
             "gridcolor": "white",
             "linecolor": "white",
             "minorgridcolor": "white",
             "startlinecolor": "#2a3f5f"
            },
            "baxis": {
             "endlinecolor": "#2a3f5f",
             "gridcolor": "white",
             "linecolor": "white",
             "minorgridcolor": "white",
             "startlinecolor": "#2a3f5f"
            },
            "type": "carpet"
           }
          ],
          "choropleth": [
           {
            "colorbar": {
             "outlinewidth": 0,
             "ticks": ""
            },
            "type": "choropleth"
           }
          ],
          "contour": [
           {
            "colorbar": {
             "outlinewidth": 0,
             "ticks": ""
            },
            "colorscale": [
             [
              0,
              "#0d0887"
             ],
             [
              0.1111111111111111,
              "#46039f"
             ],
             [
              0.2222222222222222,
              "#7201a8"
             ],
             [
              0.3333333333333333,
              "#9c179e"
             ],
             [
              0.4444444444444444,
              "#bd3786"
             ],
             [
              0.5555555555555556,
              "#d8576b"
             ],
             [
              0.6666666666666666,
              "#ed7953"
             ],
             [
              0.7777777777777778,
              "#fb9f3a"
             ],
             [
              0.8888888888888888,
              "#fdca26"
             ],
             [
              1,
              "#f0f921"
             ]
            ],
            "type": "contour"
           }
          ],
          "contourcarpet": [
           {
            "colorbar": {
             "outlinewidth": 0,
             "ticks": ""
            },
            "type": "contourcarpet"
           }
          ],
          "heatmap": [
           {
            "colorbar": {
             "outlinewidth": 0,
             "ticks": ""
            },
            "colorscale": [
             [
              0,
              "#0d0887"
             ],
             [
              0.1111111111111111,
              "#46039f"
             ],
             [
              0.2222222222222222,
              "#7201a8"
             ],
             [
              0.3333333333333333,
              "#9c179e"
             ],
             [
              0.4444444444444444,
              "#bd3786"
             ],
             [
              0.5555555555555556,
              "#d8576b"
             ],
             [
              0.6666666666666666,
              "#ed7953"
             ],
             [
              0.7777777777777778,
              "#fb9f3a"
             ],
             [
              0.8888888888888888,
              "#fdca26"
             ],
             [
              1,
              "#f0f921"
             ]
            ],
            "type": "heatmap"
           }
          ],
          "histogram": [
           {
            "marker": {
             "pattern": {
              "fillmode": "overlay",
              "size": 10,
              "solidity": 0.2
             }
            },
            "type": "histogram"
           }
          ],
          "histogram2d": [
           {
            "colorbar": {
             "outlinewidth": 0,
             "ticks": ""
            },
            "colorscale": [
             [
              0,
              "#0d0887"
             ],
             [
              0.1111111111111111,
              "#46039f"
             ],
             [
              0.2222222222222222,
              "#7201a8"
             ],
             [
              0.3333333333333333,
              "#9c179e"
             ],
             [
              0.4444444444444444,
              "#bd3786"
             ],
             [
              0.5555555555555556,
              "#d8576b"
             ],
             [
              0.6666666666666666,
              "#ed7953"
             ],
             [
              0.7777777777777778,
              "#fb9f3a"
             ],
             [
              0.8888888888888888,
              "#fdca26"
             ],
             [
              1,
              "#f0f921"
             ]
            ],
            "type": "histogram2d"
           }
          ],
          "histogram2dcontour": [
           {
            "colorbar": {
             "outlinewidth": 0,
             "ticks": ""
            },
            "colorscale": [
             [
              0,
              "#0d0887"
             ],
             [
              0.1111111111111111,
              "#46039f"
             ],
             [
              0.2222222222222222,
              "#7201a8"
             ],
             [
              0.3333333333333333,
              "#9c179e"
             ],
             [
              0.4444444444444444,
              "#bd3786"
             ],
             [
              0.5555555555555556,
              "#d8576b"
             ],
             [
              0.6666666666666666,
              "#ed7953"
             ],
             [
              0.7777777777777778,
              "#fb9f3a"
             ],
             [
              0.8888888888888888,
              "#fdca26"
             ],
             [
              1,
              "#f0f921"
             ]
            ],
            "type": "histogram2dcontour"
           }
          ],
          "mesh3d": [
           {
            "colorbar": {
             "outlinewidth": 0,
             "ticks": ""
            },
            "type": "mesh3d"
           }
          ],
          "parcoords": [
           {
            "line": {
             "colorbar": {
              "outlinewidth": 0,
              "ticks": ""
             }
            },
            "type": "parcoords"
           }
          ],
          "pie": [
           {
            "automargin": true,
            "type": "pie"
           }
          ],
          "scatter": [
           {
            "fillpattern": {
             "fillmode": "overlay",
             "size": 10,
             "solidity": 0.2
            },
            "type": "scatter"
           }
          ],
          "scatter3d": [
           {
            "line": {
             "colorbar": {
              "outlinewidth": 0,
              "ticks": ""
             }
            },
            "marker": {
             "colorbar": {
              "outlinewidth": 0,
              "ticks": ""
             }
            },
            "type": "scatter3d"
           }
          ],
          "scattercarpet": [
           {
            "marker": {
             "colorbar": {
              "outlinewidth": 0,
              "ticks": ""
             }
            },
            "type": "scattercarpet"
           }
          ],
          "scattergeo": [
           {
            "marker": {
             "colorbar": {
              "outlinewidth": 0,
              "ticks": ""
             }
            },
            "type": "scattergeo"
           }
          ],
          "scattergl": [
           {
            "marker": {
             "colorbar": {
              "outlinewidth": 0,
              "ticks": ""
             }
            },
            "type": "scattergl"
           }
          ],
          "scattermap": [
           {
            "marker": {
             "colorbar": {
              "outlinewidth": 0,
              "ticks": ""
             }
            },
            "type": "scattermap"
           }
          ],
          "scattermapbox": [
           {
            "marker": {
             "colorbar": {
              "outlinewidth": 0,
              "ticks": ""
             }
            },
            "type": "scattermapbox"
           }
          ],
          "scatterpolar": [
           {
            "marker": {
             "colorbar": {
              "outlinewidth": 0,
              "ticks": ""
             }
            },
            "type": "scatterpolar"
           }
          ],
          "scatterpolargl": [
           {
            "marker": {
             "colorbar": {
              "outlinewidth": 0,
              "ticks": ""
             }
            },
            "type": "scatterpolargl"
           }
          ],
          "scatterternary": [
           {
            "marker": {
             "colorbar": {
              "outlinewidth": 0,
              "ticks": ""
             }
            },
            "type": "scatterternary"
           }
          ],
          "surface": [
           {
            "colorbar": {
             "outlinewidth": 0,
             "ticks": ""
            },
            "colorscale": [
             [
              0,
              "#0d0887"
             ],
             [
              0.1111111111111111,
              "#46039f"
             ],
             [
              0.2222222222222222,
              "#7201a8"
             ],
             [
              0.3333333333333333,
              "#9c179e"
             ],
             [
              0.4444444444444444,
              "#bd3786"
             ],
             [
              0.5555555555555556,
              "#d8576b"
             ],
             [
              0.6666666666666666,
              "#ed7953"
             ],
             [
              0.7777777777777778,
              "#fb9f3a"
             ],
             [
              0.8888888888888888,
              "#fdca26"
             ],
             [
              1,
              "#f0f921"
             ]
            ],
            "type": "surface"
           }
          ],
          "table": [
           {
            "cells": {
             "fill": {
              "color": "#EBF0F8"
             },
             "line": {
              "color": "white"
             }
            },
            "header": {
             "fill": {
              "color": "#C8D4E3"
             },
             "line": {
              "color": "white"
             }
            },
            "type": "table"
           }
          ]
         },
         "layout": {
          "annotationdefaults": {
           "arrowcolor": "#2a3f5f",
           "arrowhead": 0,
           "arrowwidth": 1
          },
          "autotypenumbers": "strict",
          "coloraxis": {
           "colorbar": {
            "outlinewidth": 0,
            "ticks": ""
           }
          },
          "colorscale": {
           "diverging": [
            [
             0,
             "#8e0152"
            ],
            [
             0.1,
             "#c51b7d"
            ],
            [
             0.2,
             "#de77ae"
            ],
            [
             0.3,
             "#f1b6da"
            ],
            [
             0.4,
             "#fde0ef"
            ],
            [
             0.5,
             "#f7f7f7"
            ],
            [
             0.6,
             "#e6f5d0"
            ],
            [
             0.7,
             "#b8e186"
            ],
            [
             0.8,
             "#7fbc41"
            ],
            [
             0.9,
             "#4d9221"
            ],
            [
             1,
             "#276419"
            ]
           ],
           "sequential": [
            [
             0,
             "#0d0887"
            ],
            [
             0.1111111111111111,
             "#46039f"
            ],
            [
             0.2222222222222222,
             "#7201a8"
            ],
            [
             0.3333333333333333,
             "#9c179e"
            ],
            [
             0.4444444444444444,
             "#bd3786"
            ],
            [
             0.5555555555555556,
             "#d8576b"
            ],
            [
             0.6666666666666666,
             "#ed7953"
            ],
            [
             0.7777777777777778,
             "#fb9f3a"
            ],
            [
             0.8888888888888888,
             "#fdca26"
            ],
            [
             1,
             "#f0f921"
            ]
           ],
           "sequentialminus": [
            [
             0,
             "#0d0887"
            ],
            [
             0.1111111111111111,
             "#46039f"
            ],
            [
             0.2222222222222222,
             "#7201a8"
            ],
            [
             0.3333333333333333,
             "#9c179e"
            ],
            [
             0.4444444444444444,
             "#bd3786"
            ],
            [
             0.5555555555555556,
             "#d8576b"
            ],
            [
             0.6666666666666666,
             "#ed7953"
            ],
            [
             0.7777777777777778,
             "#fb9f3a"
            ],
            [
             0.8888888888888888,
             "#fdca26"
            ],
            [
             1,
             "#f0f921"
            ]
           ]
          },
          "colorway": [
           "#636efa",
           "#EF553B",
           "#00cc96",
           "#ab63fa",
           "#FFA15A",
           "#19d3f3",
           "#FF6692",
           "#B6E880",
           "#FF97FF",
           "#FECB52"
          ],
          "font": {
           "color": "#2a3f5f"
          },
          "geo": {
           "bgcolor": "white",
           "lakecolor": "white",
           "landcolor": "#E5ECF6",
           "showlakes": true,
           "showland": true,
           "subunitcolor": "white"
          },
          "hoverlabel": {
           "align": "left"
          },
          "hovermode": "closest",
          "mapbox": {
           "style": "light"
          },
          "paper_bgcolor": "white",
          "plot_bgcolor": "#E5ECF6",
          "polar": {
           "angularaxis": {
            "gridcolor": "white",
            "linecolor": "white",
            "ticks": ""
           },
           "bgcolor": "#E5ECF6",
           "radialaxis": {
            "gridcolor": "white",
            "linecolor": "white",
            "ticks": ""
           }
          },
          "scene": {
           "xaxis": {
            "backgroundcolor": "#E5ECF6",
            "gridcolor": "white",
            "gridwidth": 2,
            "linecolor": "white",
            "showbackground": true,
            "ticks": "",
            "zerolinecolor": "white"
           },
           "yaxis": {
            "backgroundcolor": "#E5ECF6",
            "gridcolor": "white",
            "gridwidth": 2,
            "linecolor": "white",
            "showbackground": true,
            "ticks": "",
            "zerolinecolor": "white"
           },
           "zaxis": {
            "backgroundcolor": "#E5ECF6",
            "gridcolor": "white",
            "gridwidth": 2,
            "linecolor": "white",
            "showbackground": true,
            "ticks": "",
            "zerolinecolor": "white"
           }
          },
          "shapedefaults": {
           "line": {
            "color": "#2a3f5f"
           }
          },
          "ternary": {
           "aaxis": {
            "gridcolor": "white",
            "linecolor": "white",
            "ticks": ""
           },
           "baxis": {
            "gridcolor": "white",
            "linecolor": "white",
            "ticks": ""
           },
           "bgcolor": "#E5ECF6",
           "caxis": {
            "gridcolor": "white",
            "linecolor": "white",
            "ticks": ""
           }
          },
          "title": {
           "x": 0.05
          },
          "xaxis": {
           "automargin": true,
           "gridcolor": "white",
           "linecolor": "white",
           "ticks": "",
           "title": {
            "standoff": 15
           },
           "zerolinecolor": "white",
           "zerolinewidth": 2
          },
          "yaxis": {
           "automargin": true,
           "gridcolor": "white",
           "linecolor": "white",
           "ticks": "",
           "title": {
            "standoff": 15
           },
           "zerolinecolor": "white",
           "zerolinewidth": 2
          }
         }
        },
        "title": {
         "text": "Pareto Plot: S_mean vs S_skew"
        },
        "xaxis": {
         "title": {
          "text": "S_mean"
         }
        },
        "yaxis": {
         "title": {
          "text": "S_skew"
         }
        }
       }
      }
     },
     "metadata": {},
     "output_type": "display_data"
    }
   ],
   "source": [
    "obj = 'min_mean'\n",
    "cnt_r=0\n",
    "cnt_d=0\n",
    "solutions = []\n",
    "for R in [R1,R2,R3]:\n",
    "    cnt_r+=1\n",
    "    cnt_d=0\n",
    "    for D in [D1,D2,D3,D4]:\n",
    "        cnt_d+=1\n",
    "        try:\n",
    "            f_opt, S_mean, S_skew = inner_op(R,D,obj,verbose=True)\n",
    "            solutions.append({\n",
    "                'f': f_opt,\n",
    "                'cnt_r': cnt_r,\n",
    "                'cnt_d': cnt_d,\n",
    "                'S_mean': S_mean,\n",
    "                'S_skew': S_skew\n",
    "            })\n",
    "        except:\n",
    "            print('no feasible solution')\n",
    "\n",
    "pareto_plot([solutions],labels=['min_mean'])\n",
    "solutions2=solutions"
   ]
  },
  {
   "cell_type": "markdown",
   "id": "807a3de5",
   "metadata": {},
   "source": [
    "\"best\"  solution selected to reach minimal mean(S):\n",
    "- f = 0.634\n",
    "- combination: R3 + D4\n",
    "\n",
    "![](./min_mean.png)"
   ]
  },
  {
   "cell_type": "code",
   "execution_count": 14,
   "id": "c29a52b3",
   "metadata": {},
   "outputs": [
    {
     "name": "stdout",
     "output_type": "stream",
     "text": [
      "mean: 2.78, skewness: 1.26, std: 0.91\n"
     ]
    }
   ],
   "source": [
    "analyze_system_vibration(system_vibration(R3,D4,0.634))"
   ]
  },
  {
   "cell_type": "markdown",
   "id": "45fad156",
   "metadata": {},
   "source": [
    "### minimize mean and skew at once\n",
    "\n",
    "note: in this case we have 2 objectives as a linear combination in the cost function with weighting factor $\\alpha \\in [0,1]$"
   ]
  },
  {
   "cell_type": "code",
   "execution_count": 15,
   "id": "3db3f811",
   "metadata": {},
   "outputs": [
    {
     "name": "stdout",
     "output_type": "stream",
     "text": [
      "      solver  :   t_proc      (avg)   t_wall      (avg)    n_eval\n",
      "       nlp_f  |   8.00ms (400.00us)   8.31ms (415.45us)        20\n",
      "       nlp_g  |        0 (       0) 519.00us ( 74.14us)         7\n",
      "  nlp_grad_f  |   3.00ms (375.00us)   4.20ms (525.25us)         8\n",
      "  nlp_hess_l  |   6.00ms (  1.00ms)   5.55ms (924.50us)         6\n",
      "   nlp_jac_g  |   3.00ms (375.00us)   1.66ms (207.37us)         8\n",
      "       total  |  21.00ms ( 21.00ms)  21.18ms ( 21.18ms)         1\n",
      "solution: f= 0.6504822488124902\n",
      "maximized objective =  0.18952721039107467\n",
      "mean(S) =  3.8000000347205924\n",
      "skew(S) =  0.15305778792303948\n",
      "      solver  :   t_proc      (avg)   t_wall      (avg)    n_eval\n",
      "       nlp_f  |  10.00ms (434.78us)  10.11ms (439.61us)        23\n",
      "       nlp_g  |   1.00ms (125.00us) 785.00us ( 98.12us)         8\n",
      "  nlp_grad_f  |   7.00ms (777.78us)   5.58ms (619.56us)         9\n",
      "  nlp_hess_l  |   7.00ms (  1.00ms)   7.25ms (  1.04ms)         7\n",
      "   nlp_jac_g  |        0 (       0)   1.47ms (163.00us)         9\n",
      "       total  |  27.00ms ( 27.00ms)  26.15ms ( 26.15ms)         1\n",
      "solution: f= 0.6504822507035888\n",
      "maximized objective =  0.5866386999574352\n",
      "mean(S) =  3.8000000318046054\n",
      "skew(S) =  0.1530577888507073\n",
      "      solver  :   t_proc      (avg)   t_wall      (avg)    n_eval\n",
      "       nlp_f  |  12.00ms (413.79us)  10.78ms (371.86us)        29\n",
      "       nlp_g  |        0 (       0) 682.00us ( 68.20us)        10\n",
      "  nlp_grad_f  |   8.00ms (727.27us)   5.22ms (474.36us)        11\n",
      "  nlp_hess_l  |   5.00ms (555.56us)   7.75ms (861.22us)         9\n",
      "   nlp_jac_g  |   1.00ms ( 90.91us)   1.30ms (117.82us)        11\n",
      "       total  |  27.00ms ( 27.00ms)  26.68ms ( 26.68ms)         1\n",
      "solution: f= 0.6504822830246499\n",
      "maximized objective =  0.9837501895261747\n",
      "mean(S) =  3.799999981966589\n",
      "skew(S) =  0.15305780470557706\n",
      "      solver  :   t_proc      (avg)   t_wall      (avg)    n_eval\n",
      "       nlp_f  |   9.00ms (391.30us)   9.78ms (425.39us)        23\n",
      "       nlp_g  |        0 (       0) 657.00us ( 82.12us)         8\n",
      "  nlp_grad_f  |   6.00ms (666.67us)   4.70ms (522.44us)         9\n",
      "  nlp_hess_l  |   7.00ms (  1.00ms)   6.67ms (953.57us)         7\n",
      "   nlp_jac_g  |   1.00ms (111.11us)   1.27ms (140.78us)         9\n",
      "       total  |  25.00ms ( 25.00ms)  24.08ms ( 24.08ms)         1\n",
      "solution: f= 0.7462748883325935\n",
      "maximized objective =  1.372056254989226\n",
      "mean(S) =  3.6590132353402556\n",
      "skew(S) =  0.21133939561507828\n",
      "      solver  :   t_proc      (avg)   t_wall      (avg)    n_eval\n",
      "       nlp_f  |  10.00ms (384.62us)   9.79ms (376.65us)        26\n",
      "       nlp_g  |   2.00ms (222.22us) 759.00us ( 84.33us)         9\n",
      "  nlp_grad_f  |   5.00ms (500.00us)   5.07ms (507.10us)        10\n",
      "  nlp_hess_l  |   6.00ms (750.00us)   6.96ms (869.87us)         8\n",
      "   nlp_jac_g  |   2.00ms (200.00us)   1.94ms (194.20us)        10\n",
      "       total  |  26.00ms ( 26.00ms)  25.66ms ( 25.66ms)         1\n",
      "solution: f= 0.905652848347456\n",
      "maximized objective =  1.730049155324759\n",
      "mean(S) =  3.457216576126551\n",
      "skew(S) =  0.34208495544194173\n",
      "      solver  :   t_proc      (avg)   t_wall      (avg)    n_eval\n",
      "       nlp_f  |   9.00ms (310.34us)  10.04ms (346.31us)        29\n",
      "       nlp_g  |   1.00ms (100.00us)   1.15ms (115.00us)        10\n",
      "  nlp_grad_f  |   6.00ms (545.45us)   4.92ms (446.91us)        11\n",
      "  nlp_hess_l  |   7.00ms (777.78us)   6.68ms (742.33us)         9\n",
      "   nlp_jac_g  |   1.00ms ( 90.91us)   1.25ms (113.91us)        11\n",
      "       total  |  25.00ms ( 25.00ms)  24.84ms ( 24.84ms)         1\n",
      "solution: f= 0.9999999984050382\n",
      "maximized objective =  2.054628368714734\n",
      "mean(S) =  3.358762215886629\n",
      "skew(S) =  0.4317785189921221\n",
      "      solver  :   t_proc      (avg)   t_wall      (avg)    n_eval\n",
      "       nlp_f  |  16.00ms (615.38us)  16.88ms (649.35us)        26\n",
      "       nlp_g  |   1.00ms (111.11us) 887.00us ( 98.56us)         9\n",
      "  nlp_grad_f  |   6.00ms (600.00us)   6.50ms (650.10us)        10\n",
      "  nlp_hess_l  |  10.00ms (  1.25ms)   9.49ms (  1.19ms)         8\n",
      "   nlp_jac_g  |   3.00ms (300.00us)   1.56ms (155.60us)        10\n",
      "       total  |  36.00ms ( 36.00ms)  36.83ms ( 36.83ms)         1\n",
      "solution: f= 1.0000000066584336\n",
      "maximized objective =  2.3733443687954687\n",
      "mean(S) =  3.3587622079809356\n",
      "skew(S) =  0.4317785272320252\n",
      "      solver  :   t_proc      (avg)   t_wall      (avg)    n_eval\n",
      "       nlp_f  |  11.00ms (423.08us)  12.03ms (462.81us)        26\n",
      "       nlp_g  |        0 (       0) 871.00us ( 96.78us)         9\n",
      "  nlp_grad_f  |   8.00ms (800.00us)   5.92ms (591.80us)        10\n",
      "  nlp_hess_l  |   9.00ms (  1.12ms)   8.61ms (  1.08ms)         8\n",
      "   nlp_jac_g  |   1.00ms (100.00us)   1.61ms (161.10us)        10\n",
      "       total  |  29.00ms ( 29.00ms)  30.07ms ( 30.07ms)         1\n",
      "solution: f= 1.0000000080479385\n",
      "maximized objective =  2.6920603688763056\n",
      "mean(S) =  3.3587622066499656\n",
      "skew(S) =  0.43177852861926086\n",
      "      solver  :   t_proc      (avg)   t_wall      (avg)    n_eval\n",
      "       nlp_f  |   8.00ms (347.83us)   8.56ms (372.22us)        23\n",
      "       nlp_g  |   2.00ms (250.00us) 658.00us ( 82.25us)         8\n",
      "  nlp_grad_f  |   4.00ms (444.44us)   4.70ms (522.11us)         9\n",
      "  nlp_hess_l  |   5.00ms (714.29us)   6.82ms (974.00us)         7\n",
      "   nlp_jac_g  |   2.00ms (222.22us)   1.28ms (141.89us)         9\n",
      "       total  |  23.00ms ( 23.00ms)  22.88ms ( 22.88ms)         1\n",
      "solution: f= 1.0000000086212453\n",
      "maximized objective =  3.010776368957166\n",
      "mean(S) =  3.358762206100813\n",
      "skew(S) =  0.4317785291916286\n",
      "      solver  :   t_proc      (avg)   t_wall      (avg)    n_eval\n",
      "       nlp_f  |   8.00ms (347.83us)   9.08ms (394.61us)        23\n",
      "       nlp_g  |        0 (       0) 618.00us ( 77.25us)         8\n",
      "  nlp_grad_f  |   4.00ms (444.44us)   3.89ms (432.22us)         9\n",
      "  nlp_hess_l  |   6.00ms (857.14us)   5.39ms (769.57us)         7\n",
      "   nlp_jac_g  |   2.00ms (222.22us)   1.13ms (125.78us)         9\n",
      "       total  |  21.00ms ( 21.00ms)  21.44ms ( 21.44ms)         1\n",
      "solution: f= 1.0000000089342485\n",
      "maximized objective =  3.32949236903802\n",
      "mean(S) =  3.3587622058009883\n",
      "skew(S) =  0.4317785295041239\n",
      "      solver  :   t_proc      (avg)   t_wall      (avg)    n_eval\n",
      "       nlp_f  |   9.00ms (391.30us)   8.45ms (367.35us)        23\n",
      "       nlp_g  |   1.00ms (125.00us) 548.00us ( 68.50us)         8\n",
      "  nlp_grad_f  |   4.00ms (444.44us)   3.88ms (431.33us)         9\n",
      "  nlp_hess_l  |   5.00ms (714.29us)   5.35ms (764.71us)         7\n",
      "   nlp_jac_g  |        0 (       0)   1.05ms (116.44us)         9\n",
      "       total  |  20.00ms ( 20.00ms)  20.09ms ( 20.09ms)         1\n",
      "solution: f= 0.2513839427223601\n",
      "maximized objective =  0.17087314527349928\n",
      "mean(S) =  3.8000000361700796\n",
      "skew(S) =  0.13421529789070466\n",
      "      solver  :   t_proc      (avg)   t_wall      (avg)    n_eval\n",
      "       nlp_f  |  11.00ms (423.08us)   9.40ms (361.42us)        26\n",
      "       nlp_g  |   1.00ms (111.11us) 607.00us ( 67.44us)         9\n",
      "  nlp_grad_f  |   3.00ms (300.00us)   4.11ms (411.50us)        10\n",
      "  nlp_hess_l  |   6.00ms (750.00us)   6.49ms (811.75us)         8\n",
      "   nlp_jac_g  |   1.00ms (100.00us)   1.25ms (125.50us)        10\n",
      "       total  |  23.00ms ( 23.00ms)  22.67ms ( 22.67ms)         1\n",
      "solution: f= 0.25138394294903393\n",
      "maximized objective =  0.5700363726418118\n",
      "mean(S) =  3.800000035343103\n",
      "skew(S) =  0.13421529835555124\n",
      "      solver  :   t_proc      (avg)   t_wall      (avg)    n_eval\n",
      "       nlp_f  |  10.00ms (384.62us)  10.54ms (405.23us)        26\n",
      "       nlp_g  |   1.00ms (111.11us) 770.00us ( 85.56us)         9\n",
      "  nlp_grad_f  |   5.00ms (500.00us)   5.48ms (548.40us)        10\n",
      "  nlp_hess_l  |   8.00ms (  1.00ms)   7.92ms (990.37us)         8\n",
      "   nlp_jac_g  |   2.00ms (200.00us)   1.45ms (145.40us)        10\n",
      "       total  |  27.00ms ( 27.00ms)  27.31ms ( 27.31ms)         1\n",
      "solution: f= 0.251383943549559\n",
      "maximized objective =  0.96919960001025\n",
      "mean(S) =  3.8000000331521355\n",
      "skew(S) =  0.13421529958706963\n",
      "      solver  :   t_proc      (avg)   t_wall      (avg)    n_eval\n",
      "       nlp_f  |  13.00ms (371.43us)  12.99ms (371.29us)        35\n",
      "       nlp_g  |        0 (       0) 827.00us ( 68.92us)        12\n",
      "  nlp_grad_f  |   6.00ms (461.54us)   5.66ms (435.23us)        13\n",
      "  nlp_hess_l  |   9.00ms (818.18us)   9.17ms (833.36us)        11\n",
      "   nlp_jac_g  |   3.00ms (230.77us)   1.72ms (132.69us)        13\n",
      "       total  |  31.00ms ( 31.00ms)  31.24ms ( 31.24ms)         1\n",
      "solution: f= 0.2513839497984647\n",
      "maximized objective =  1.3683628273790376\n",
      "mean(S) =  3.8000000103537923\n",
      "skew(S) =  0.13421531240191537\n",
      "      solver  :   t_proc      (avg)   t_wall      (avg)    n_eval\n",
      "       nlp_f  |  11.00ms (379.31us)  10.71ms (369.34us)        29\n",
      "       nlp_g  |   1.00ms (100.00us) 706.00us ( 70.60us)        10\n",
      "  nlp_grad_f  |   6.00ms (545.45us)   5.03ms (457.09us)        11\n",
      "  nlp_hess_l  |   8.00ms (888.89us)   6.94ms (771.11us)         9\n",
      "   nlp_jac_g  |        0 (       0)   1.26ms (114.73us)        11\n",
      "       total  |  26.00ms ( 26.00ms)  25.45ms ( 25.45ms)         1\n",
      "solution: f= 0.2941660647153659\n",
      "maximized objective =  1.7574439006993474\n",
      "mean(S) =  3.6558339405973825\n",
      "skew(S) =  0.23188396883737472\n",
      "      solver  :   t_proc      (avg)   t_wall      (avg)    n_eval\n",
      "       nlp_f  |   9.00ms (346.15us)   9.09ms (349.69us)        26\n",
      "       nlp_g  |   1.00ms (111.11us) 695.00us ( 77.22us)         9\n",
      "  nlp_grad_f  |   4.00ms (400.00us)   4.28ms (427.80us)        10\n",
      "  nlp_hess_l  |   7.00ms (875.00us)   6.85ms (856.37us)         8\n",
      "   nlp_jac_g  |   1.00ms (100.00us)   1.15ms (114.60us)        10\n",
      "       total  |  23.00ms ( 23.00ms)  22.86ms ( 22.86ms)         1\n",
      "solution: f= 0.3423139405990331\n",
      "maximized objective =  2.1149763878483263\n",
      "mean(S) =  3.5230983169561174\n",
      "skew(S) =  0.3627249099810209\n",
      "      solver  :   t_proc      (avg)   t_wall      (avg)    n_eval\n",
      "       nlp_f  |   9.00ms (391.30us)   8.64ms (375.70us)        23\n",
      "       nlp_g  |        0 (       0) 533.00us ( 66.62us)         8\n",
      "  nlp_grad_f  |   3.00ms (333.33us)   3.92ms (436.11us)         9\n",
      "  nlp_hess_l  |   6.00ms (857.14us)   5.25ms (750.71us)         7\n",
      "   nlp_jac_g  |   1.00ms (111.11us)   1.07ms (118.89us)         9\n",
      "       total  |  21.00ms ( 21.00ms)  20.27ms ( 20.27ms)         1\n",
      "solution: f= 0.37765172969579336\n",
      "maximized objective =  2.4481486891282946\n",
      "mean(S) =  3.445867575025503\n",
      "skew(S) =  0.4823461317664473\n",
      "      solver  :   t_proc      (avg)   t_wall      (avg)    n_eval\n",
      "       nlp_f  |   7.00ms (304.35us)   8.12ms (353.00us)        23\n",
      "       nlp_g  |        0 (       0) 597.00us ( 74.62us)         8\n",
      "  nlp_grad_f  |   6.00ms (666.67us)   3.78ms (419.78us)         9\n",
      "  nlp_hess_l  |   7.00ms (  1.00ms)   5.91ms (844.71us)         7\n",
      "   nlp_jac_g  |        0 (       0)   1.02ms (113.56us)         9\n",
      "       total  |  20.00ms ( 20.00ms)  20.26ms ( 20.26ms)         1\n",
      "solution: f= 0.4108761631972955\n",
      "maximized objective =  2.7601037632126406\n",
      "mean(S) =  3.3886108482155133\n",
      "skew(S) =  0.6293114506419386\n",
      "      solver  :   t_proc      (avg)   t_wall      (avg)    n_eval\n",
      "       nlp_f  |   8.00ms (400.00us)   7.87ms (393.50us)        20\n",
      "       nlp_g  |        0 (       0) 488.00us ( 69.71us)         7\n",
      "  nlp_grad_f  |   5.00ms (625.00us)   3.32ms (414.62us)         8\n",
      "  nlp_hess_l  |   4.00ms (666.67us)   4.42ms (737.00us)         6\n",
      "   nlp_jac_g  |        0 (       0) 967.00us (120.87us)         8\n",
      "       total  |  18.00ms ( 18.00ms)  18.34ms ( 18.34ms)         1\n",
      "solution: f= 0.4522820262371929\n",
      "maximized objective =  3.0456084305103017\n",
      "mean(S) =  3.3374110685492413\n",
      "skew(S) =  0.8829963560721629\n",
      "      solver  :   t_proc      (avg)   t_wall      (avg)    n_eval\n",
      "       nlp_f  |   7.00ms (350.00us)   7.05ms (352.75us)        20\n",
      "       nlp_g  |   2.00ms (285.71us) 497.00us ( 71.00us)         7\n",
      "  nlp_grad_f  |   4.00ms (500.00us)   3.85ms (481.00us)         8\n",
      "  nlp_hess_l  |   4.00ms (666.67us)   4.84ms (807.33us)         6\n",
      "   nlp_jac_g  |        0 (       0) 892.00us (111.50us)         8\n",
      "       total  |  18.00ms ( 18.00ms)  18.01ms ( 18.01ms)         1\n",
      "solution: f= 0.526278314783883\n",
      "maximized objective =  3.2806647887585676\n",
      "mean(S) =  3.298196932228868\n",
      "skew(S) =  1.5449825851988512\n",
      "      solver  :   t_proc      (avg)   t_wall      (avg)    n_eval\n",
      "       nlp_f  |  11.00ms (423.08us)   9.53ms (366.62us)        26\n",
      "       nlp_g  |        0 (       0) 599.00us ( 66.56us)         9\n",
      "  nlp_grad_f  |   4.00ms (400.00us)   4.26ms (426.30us)        10\n",
      "  nlp_hess_l  |   6.00ms (750.00us)   6.13ms (765.87us)         8\n",
      "   nlp_jac_g  |   1.00ms (100.00us)   1.13ms (113.40us)        10\n",
      "       total  |  22.00ms ( 22.00ms)  22.48ms ( 22.48ms)         1\n",
      "solution: f= 0.29468252428748354\n",
      "maximized objective =  0.19283256630687118\n",
      "mean(S) =  3.800000035868604\n",
      "skew(S) =  0.156396531260878\n",
      "      solver  :   t_proc      (avg)   t_wall      (avg)    n_eval\n",
      "       nlp_f  |  10.00ms (384.62us)   9.39ms (361.31us)        26\n",
      "       nlp_g  |        0 (       0) 756.00us ( 84.00us)         9\n",
      "  nlp_grad_f  |   4.00ms (400.00us)   4.92ms (492.50us)        10\n",
      "  nlp_hess_l  |   7.00ms (875.00us)   6.55ms (818.37us)         8\n",
      "   nlp_jac_g  |   3.00ms (300.00us)   1.31ms (131.50us)        10\n",
      "       total  |  24.00ms ( 24.00ms)  23.78ms ( 23.78ms)         1\n",
      "solution: f= 0.2946825246355634\n",
      "maximized objective =  0.5895805038197717\n",
      "mean(S) =  3.8000000347487686\n",
      "skew(S) =  0.1563965318028773\n",
      "      solver  :   t_proc      (avg)   t_wall      (avg)    n_eval\n",
      "       nlp_f  |   8.00ms (307.69us)   9.10ms (349.85us)        26\n",
      "       nlp_g  |        0 (       0) 712.00us ( 79.11us)         9\n",
      "  nlp_grad_f  |   2.00ms (200.00us)   4.98ms (497.90us)        10\n",
      "  nlp_hess_l  |   8.00ms (  1.00ms)   6.88ms (860.25us)         8\n",
      "   nlp_jac_g  |   3.00ms (300.00us)   1.33ms (133.30us)        10\n",
      "       total  |  24.00ms ( 24.00ms)  24.13ms ( 24.13ms)         1\n",
      "solution: f= 0.29468252575698717\n",
      "maximized objective =  0.9863284413339077\n",
      "mean(S) =  3.800000031141023\n",
      "skew(S) =  0.1563965335490557\n",
      "      solver  :   t_proc      (avg)   t_wall      (avg)    n_eval\n",
      "       nlp_f  |  10.00ms (285.71us)  12.25ms (350.00us)        35\n",
      "       nlp_g  |   1.00ms ( 83.33us) 897.00us ( 74.75us)        12\n",
      "  nlp_grad_f  |   6.00ms (461.54us)   6.20ms (476.92us)        13\n",
      "  nlp_hess_l  |  11.00ms (  1.00ms)   9.30ms (845.73us)        11\n",
      "   nlp_jac_g  |   3.00ms (230.77us)   1.58ms (121.62us)        13\n",
      "       total  |  31.00ms ( 31.00ms)  31.10ms ( 31.10ms)         1\n",
      "solution: f= 0.2999795500113351\n",
      "maximized objective =  1.3829444881165445\n",
      "mean(S) =  3.783077313339484\n",
      "skew(S) =  0.16478662204859537\n",
      "      solver  :   t_proc      (avg)   t_wall      (avg)    n_eval\n",
      "       nlp_f  |  13.00ms (500.00us)  10.20ms (392.42us)        26\n",
      "       nlp_g  |        0 (       0) 680.00us ( 75.56us)         9\n",
      "  nlp_grad_f  |   5.00ms (500.00us)   4.98ms (497.80us)        10\n",
      "  nlp_hess_l  |   6.00ms (750.00us)   6.49ms (811.62us)         8\n",
      "   nlp_jac_g  |        0 (       0)   1.15ms (114.70us)        10\n",
      "       total  |  24.00ms ( 24.00ms)  24.61ms ( 24.61ms)         1\n",
      "solution: f= 0.36964923743184447\n",
      "maximized objective =  1.7598077009594038\n",
      "mean(S) =  3.5836131054884355\n",
      "skew(S) =  0.2941845201655588\n",
      "      solver  :   t_proc      (avg)   t_wall      (avg)    n_eval\n",
      "       nlp_f  |   8.00ms (347.83us)   9.02ms (392.30us)        23\n",
      "       nlp_g  |   1.00ms (125.00us) 546.00us ( 68.25us)         8\n",
      "  nlp_grad_f  |   7.00ms (777.78us)   4.51ms (500.67us)         9\n",
      "  nlp_hess_l  |   5.00ms (714.29us)   5.99ms (855.43us)         7\n",
      "   nlp_jac_g  |   1.00ms (111.11us)   1.40ms (155.22us)         9\n",
      "       total  |  23.00ms ( 23.00ms)  22.72ms ( 22.72ms)         1\n",
      "solution: f= 0.4309813440821241\n",
      "maximized objective =  2.101849328792761\n",
      "mean(S) =  3.4454872338785854\n",
      "skew(S) =  0.42984106286299306\n",
      "      solver  :   t_proc      (avg)   t_wall      (avg)    n_eval\n",
      "       nlp_f  |  11.00ms (550.00us)   7.84ms (392.20us)        20\n",
      "       nlp_g  |        0 (       0) 475.00us ( 67.86us)         7\n",
      "  nlp_grad_f  |   3.00ms (375.00us)   3.71ms (463.87us)         8\n",
      "  nlp_hess_l  |   3.00ms (500.00us)   4.58ms (763.67us)         6\n",
      "   nlp_jac_g  |        0 (       0)   1.02ms (127.00us)         8\n",
      "       total  |  19.00ms ( 19.00ms)  18.50ms ( 18.50ms)         1\n",
      "solution: f= 0.4733769427964867\n",
      "maximized objective =  2.419582609739796\n",
      "mean(S) =  3.3709619163137794\n",
      "skew(S) =  0.5450827878762257\n",
      "      solver  :   t_proc      (avg)   t_wall      (avg)    n_eval\n",
      "       nlp_f  |   7.00ms (411.76us)   6.10ms (358.88us)        17\n",
      "       nlp_g  |   1.00ms (166.67us) 526.00us ( 87.67us)         6\n",
      "  nlp_grad_f  |   2.00ms (285.71us)   3.07ms (438.71us)         7\n",
      "  nlp_hess_l  |   4.00ms (800.00us)   4.04ms (807.40us)         5\n",
      "   nlp_jac_g  |   1.00ms (142.86us)   1.40ms (199.43us)         7\n",
      "       total  |  17.00ms ( 17.00ms)  16.12ms ( 16.12ms)         1\n",
      "solution: f= 0.5123273640794853\n",
      "maximized objective =  2.7172085298559634\n",
      "mean(S) =  3.317373518003779\n",
      "skew(S) =  0.6825028383304359\n",
      "      solver  :   t_proc      (avg)   t_wall      (avg)    n_eval\n",
      "       nlp_f  |   7.00ms (350.00us)   7.55ms (377.50us)        20\n",
      "       nlp_g  |        0 (       0) 482.00us ( 68.86us)         7\n",
      "  nlp_grad_f  |   5.00ms (625.00us)   3.56ms (445.50us)         8\n",
      "  nlp_hess_l  |   6.00ms (  1.00ms)   4.66ms (776.17us)         6\n",
      "   nlp_jac_g  |        0 (       0) 932.00us (116.50us)         8\n",
      "       total  |  18.00ms ( 18.00ms)  17.96ms ( 17.96ms)         1\n",
      "solution: f= 0.5601609918224548\n",
      "maximized objective =  2.9903727063100543\n",
      "mean(S) =  3.2704612020604773\n",
      "skew(S) =  0.9145766583653513\n",
      "      solver  :   t_proc      (avg)   t_wall      (avg)    n_eval\n",
      "       nlp_f  |   9.00ms (450.00us)   7.08ms (354.15us)        20\n",
      "       nlp_g  |        0 (       0) 482.00us ( 68.86us)         7\n",
      "  nlp_grad_f  |   3.00ms (375.00us)   3.43ms (428.50us)         8\n",
      "  nlp_hess_l  |   5.00ms (833.33us)   5.23ms (872.17us)         6\n",
      "   nlp_jac_g  |        0 (       0) 918.00us (114.75us)         8\n",
      "       total  |  18.00ms ( 18.00ms)  17.93ms ( 17.93ms)         1\n",
      "solution: f= 0.64334174207003\n",
      "maximized objective =  3.218270539583093\n",
      "mean(S) =  3.2356401731807645\n",
      "skew(S) =  1.4986768134136\n",
      "      solver  :   t_proc      (avg)   t_wall      (avg)    n_eval\n",
      "       nlp_f  |  12.00ms (461.54us)   9.58ms (368.65us)        26\n",
      "       nlp_g  |   1.00ms (111.11us)   1.11ms (123.89us)         9\n",
      "  nlp_grad_f  |   5.00ms (500.00us)   4.51ms (450.90us)        10\n",
      "  nlp_hess_l  |   6.00ms (750.00us)   7.01ms (876.50us)         8\n",
      "   nlp_jac_g  |        0 (       0)   1.18ms (118.50us)        10\n",
      "       total  |  24.00ms ( 24.00ms)  24.25ms ( 24.25ms)         1\n",
      "solution: f= 0.2588616175526069\n",
      "maximized objective =  0.1978975898358792\n",
      "mean(S) =  3.8000000323091867\n",
      "skew(S) =  0.161512716679613\n",
      "      solver  :   t_proc      (avg)   t_wall      (avg)    n_eval\n",
      "       nlp_f  |   8.00ms (250.00us)  11.71ms (366.03us)        32\n",
      "       nlp_g  |   2.00ms (181.82us) 739.00us ( 67.18us)        11\n",
      "  nlp_grad_f  |   6.00ms (500.00us)   5.26ms (438.75us)        12\n",
      "  nlp_hess_l  |   8.00ms (800.00us)   8.07ms (807.50us)        10\n",
      "   nlp_jac_g  |   2.00ms (166.67us)   1.44ms (119.67us)        12\n",
      "       total  |  28.00ms ( 28.00ms)  28.04ms ( 28.04ms)         1\n",
      "solution: f= 0.2588616214562781\n",
      "maximized objective =  0.5940884316073765\n",
      "mean(S) =  3.8000000164447316\n",
      "skew(S) =  0.16151271965585923\n",
      "      solver  :   t_proc      (avg)   t_wall      (avg)    n_eval\n",
      "       nlp_f  |  11.00ms (379.31us)  11.58ms (399.41us)        29\n",
      "       nlp_g  |   4.00ms (400.00us) 754.00us ( 75.40us)        10\n",
      "  nlp_grad_f  |   4.00ms (363.64us)   5.03ms (456.91us)        11\n",
      "  nlp_hess_l  |   4.00ms (444.44us)   6.77ms (752.67us)         9\n",
      "   nlp_jac_g  |   2.00ms (181.82us)   1.44ms (131.27us)        11\n",
      "       total  |  27.00ms ( 27.00ms)  26.56ms ( 26.56ms)         1\n",
      "solution: f= 0.2800414085426203\n",
      "maximized objective =  0.986750678392831\n",
      "mean(S) =  3.71547668142732\n",
      "skew(S) =  0.18187466310923395\n",
      "      solver  :   t_proc      (avg)   t_wall      (avg)    n_eval\n",
      "       nlp_f  |  10.00ms (434.78us)   8.89ms (386.70us)        23\n",
      "       nlp_g  |        0 (       0) 533.00us ( 66.62us)         8\n",
      "  nlp_grad_f  |   4.00ms (444.44us)   3.91ms (434.22us)         9\n",
      "  nlp_hess_l  |   4.00ms (571.43us)   5.14ms (735.00us)         7\n",
      "   nlp_jac_g  |   2.00ms (222.22us)   1.16ms (129.11us)         9\n",
      "       total  |  21.00ms ( 21.00ms)  20.52ms ( 20.52ms)         1\n",
      "solution: f= 0.32311425117261566\n",
      "maximized objective =  1.3600976268579033\n",
      "mean(S) =  3.554113221599881\n",
      "skew(S) =  0.24655202349637373\n",
      "      solver  :   t_proc      (avg)   t_wall      (avg)    n_eval\n",
      "       nlp_f  |   5.00ms (217.39us)   7.97ms (346.43us)        23\n",
      "       nlp_g  |   1.00ms (125.00us) 539.00us ( 67.37us)         8\n",
      "  nlp_grad_f  |   6.00ms (666.67us)   4.66ms (517.44us)         9\n",
      "  nlp_hess_l  |   6.00ms (857.14us)   5.30ms (757.57us)         7\n",
      "   nlp_jac_g  |   2.00ms (222.22us)   1.12ms (124.22us)         9\n",
      "       total  |  20.00ms ( 20.00ms)  20.76ms ( 20.76ms)         1\n",
      "solution: f= 0.3908167430248099\n",
      "maximized objective =  1.7020420789497095\n",
      "mean(S) =  3.333767160660254\n",
      "skew(S) =  0.39077603132258903\n",
      "      solver  :   t_proc      (avg)   t_wall      (avg)    n_eval\n",
      "       nlp_f  |   7.00ms (350.00us)   6.99ms (349.40us)        20\n",
      "       nlp_g  |   1.00ms (142.86us) 565.00us ( 80.71us)         7\n",
      "  nlp_grad_f  |   4.00ms (500.00us)   3.83ms (478.25us)         8\n",
      "  nlp_hess_l  |   5.00ms (833.33us)   4.75ms (791.00us)         6\n",
      "   nlp_jac_g  |        0 (       0) 961.00us (120.12us)         8\n",
      "       total  |  19.00ms ( 19.00ms)  18.42ms ( 18.42ms)         1\n",
      "solution: f= 0.48130547946580926\n",
      "maximized objective =  1.9972068800801042\n",
      "mean(S) =  3.1124420613894164\n",
      "skew(S) =  0.6094204574532799\n",
      "      solver  :   t_proc      (avg)   t_wall      (avg)    n_eval\n",
      "       nlp_f  |   6.00ms (300.00us)   6.89ms (344.45us)        20\n",
      "       nlp_g  |        0 (       0) 480.00us ( 68.57us)         7\n",
      "  nlp_grad_f  |   1.00ms (125.00us)   3.26ms (407.62us)         8\n",
      "  nlp_hess_l  |   7.00ms (  1.17ms)   5.39ms (898.17us)         6\n",
      "   nlp_jac_g  |   2.00ms (250.00us) 924.00us (115.50us)         8\n",
      "       total  |  18.00ms ( 18.00ms)  17.73ms ( 17.73ms)         1\n",
      "solution: f= 0.5353838742595557\n",
      "maximized objective =  2.2560723628914974\n",
      "mean(S) =  3.022638061568177\n",
      "skew(S) =  0.7457102437166703\n",
      "      solver  :   t_proc      (avg)   t_wall      (avg)    n_eval\n",
      "       nlp_f  |  12.00ms (521.74us)   8.96ms (389.78us)        23\n",
      "       nlp_g  |        0 (       0)   1.05ms (131.12us)         8\n",
      "  nlp_grad_f  |   2.00ms (222.22us)   3.92ms (435.44us)         9\n",
      "  nlp_hess_l  |   6.00ms (857.14us)   5.18ms (740.71us)         7\n",
      "   nlp_jac_g  |   1.00ms (111.11us)   1.10ms (122.56us)         9\n",
      "       total  |  21.00ms ( 21.00ms)  21.03ms ( 21.03ms)         1\n",
      "solution: f= 0.5725604913701785\n",
      "maximized objective =  2.495513451543668\n",
      "mean(S) =  2.979265134922481\n",
      "skew(S) =  0.855477256674041\n",
      "      solver  :   t_proc      (avg)   t_wall      (avg)    n_eval\n",
      "       nlp_f  |   9.00ms (391.30us)   8.30ms (360.91us)        23\n",
      "       nlp_g  |        0 (       0) 544.00us ( 68.00us)         8\n",
      "  nlp_grad_f  |   6.00ms (666.67us)   4.51ms (501.22us)         9\n",
      "  nlp_hess_l  |   6.00ms (857.14us)   5.79ms (827.71us)         7\n",
      "   nlp_jac_g  |        0 (       0)   1.52ms (169.00us)         9\n",
      "       total  |  21.00ms ( 21.00ms)  21.50ms ( 21.50ms)         1\n",
      "solution: f= 0.6100462224505225\n",
      "maximized objective =  2.7179915068370795\n",
      "mean(S) =  2.9502710596382147\n",
      "skew(S) =  0.9965178117782045\n",
      "      solver  :   t_proc      (avg)   t_wall      (avg)    n_eval\n",
      "       nlp_f  |  12.00ms (521.74us)   9.93ms (431.91us)        23\n",
      "       nlp_g  |   2.00ms (250.00us) 883.00us (110.37us)         8\n",
      "  nlp_grad_f  |   3.00ms (333.33us)   4.74ms (526.89us)         9\n",
      "  nlp_hess_l  |   6.00ms (857.14us)   7.15ms (  1.02ms)         7\n",
      "   nlp_jac_g  |   2.00ms (222.22us)   2.01ms (223.44us)         9\n",
      "       total  |  25.00ms ( 25.00ms)  25.78ms ( 25.78ms)         1\n",
      "solution: f= 0.6627811340556147\n",
      "maximized objective =  2.9168721573554675\n",
      "mean(S) =  2.9335278913101166\n",
      "skew(S) =  1.2679544958451807\n",
      "      solver  :   t_proc      (avg)   t_wall      (avg)    n_eval\n",
      "       nlp_f  |   7.00ms (280.00us)   9.14ms (365.64us)        25\n",
      "       nlp_g  |   2.00ms ( 90.91us)   1.50ms ( 68.05us)        22\n",
      "  nlp_grad_f  |   4.00ms (571.43us)   3.15ms (449.57us)         7\n",
      "  nlp_hess_l  |  10.00ms (769.23us)   9.66ms (743.00us)        13\n",
      "   nlp_jac_g  |   2.00ms (117.65us)   2.06ms (121.18us)        17\n",
      "       total  |  26.00ms ( 26.00ms)  26.36ms ( 26.36ms)         1\n",
      "no feasible solution\n",
      "      solver  :   t_proc      (avg)   t_wall      (avg)    n_eval\n",
      "       nlp_f  |   8.00ms (307.69us)   9.30ms (357.77us)        26\n",
      "       nlp_g  |   2.00ms ( 80.00us)   1.73ms ( 69.36us)        25\n",
      "  nlp_grad_f  |   3.00ms (500.00us)   2.59ms (431.00us)         6\n",
      "  nlp_hess_l  |   9.00ms (750.00us)   9.23ms (769.08us)        12\n",
      "   nlp_jac_g  |   2.00ms (125.00us)   2.45ms (153.25us)        16\n",
      "       total  |  26.00ms ( 26.00ms)  26.23ms ( 26.23ms)         1\n",
      "no feasible solution\n",
      "      solver  :   t_proc      (avg)   t_wall      (avg)    n_eval\n",
      "       nlp_f  |   9.00ms (409.09us)   8.46ms (384.41us)        22\n",
      "       nlp_g  |   1.00ms ( 47.62us)   1.40ms ( 66.62us)        21\n",
      "  nlp_grad_f  |   3.00ms (500.00us)   2.67ms (445.17us)         6\n",
      "  nlp_hess_l  |  12.00ms (  1.00ms)   9.17ms (764.25us)        12\n",
      "   nlp_jac_g  |        0 (       0)   1.86ms (116.31us)        16\n",
      "       total  |  25.00ms ( 25.00ms)  24.43ms ( 24.43ms)         1\n",
      "no feasible solution\n",
      "      solver  :   t_proc      (avg)   t_wall      (avg)    n_eval\n",
      "       nlp_f  |  11.00ms (478.26us)   8.02ms (348.57us)        23\n",
      "       nlp_g  |        0 (       0)   1.44ms ( 65.45us)        22\n",
      "  nlp_grad_f  |   3.00ms (500.00us)   3.25ms (541.17us)         6\n",
      "  nlp_hess_l  |   9.00ms (750.00us)   9.17ms (764.08us)        12\n",
      "   nlp_jac_g  |        0 (       0)   1.78ms (111.00us)        16\n",
      "       total  |  24.00ms ( 24.00ms)  24.62ms ( 24.62ms)         1\n",
      "no feasible solution\n",
      "      solver  :   t_proc      (avg)   t_wall      (avg)    n_eval\n",
      "       nlp_f  |  13.00ms (565.22us)   8.40ms (365.17us)        23\n",
      "       nlp_g  |        0 (       0)   1.52ms ( 69.32us)        22\n",
      "  nlp_grad_f  |   1.00ms (166.67us)   2.52ms (419.67us)         6\n",
      "  nlp_hess_l  |   8.00ms (666.67us)   9.71ms (808.75us)        12\n",
      "   nlp_jac_g  |   1.00ms ( 62.50us)   1.80ms (112.56us)        16\n",
      "       total  |  25.00ms ( 25.00ms)  25.06ms ( 25.06ms)         1\n",
      "no feasible solution\n",
      "      solver  :   t_proc      (avg)   t_wall      (avg)    n_eval\n",
      "       nlp_f  |   7.00ms (304.35us)   7.93ms (344.61us)        23\n",
      "       nlp_g  |   1.00ms ( 45.45us)   1.45ms ( 65.82us)        22\n",
      "  nlp_grad_f  |   3.00ms (500.00us)   3.16ms (526.83us)         6\n",
      "  nlp_hess_l  |   9.00ms (750.00us)   9.12ms (760.08us)        12\n",
      "   nlp_jac_g  |   3.00ms (187.50us)   1.88ms (117.44us)        16\n",
      "       total  |  25.00ms ( 25.00ms)  24.50ms ( 24.50ms)         1\n",
      "no feasible solution\n",
      "      solver  :   t_proc      (avg)   t_wall      (avg)    n_eval\n",
      "       nlp_f  |   8.00ms (363.64us)   8.16ms (371.05us)        22\n",
      "       nlp_g  |   1.00ms ( 47.62us)   1.38ms ( 65.95us)        21\n",
      "  nlp_grad_f  |   3.00ms (500.00us)   2.60ms (433.67us)         6\n",
      "  nlp_hess_l  |  10.00ms (833.33us)   8.83ms (736.08us)        12\n",
      "   nlp_jac_g  |   1.00ms ( 62.50us)   1.86ms (116.12us)        16\n",
      "       total  |  24.00ms ( 24.00ms)  23.64ms ( 23.64ms)         1\n",
      "no feasible solution\n",
      "      solver  :   t_proc      (avg)   t_wall      (avg)    n_eval\n",
      "       nlp_f  |   9.00ms (391.30us)   8.31ms (361.52us)        23\n",
      "       nlp_g  |   1.00ms ( 45.45us)   1.52ms ( 68.95us)        22\n",
      "  nlp_grad_f  |   3.00ms (500.00us)   2.52ms (419.67us)         6\n",
      "  nlp_hess_l  |  10.00ms (833.33us)   8.77ms (731.17us)        12\n",
      "   nlp_jac_g  |   1.00ms ( 62.50us)   1.95ms (121.81us)        16\n",
      "       total  |  24.00ms ( 24.00ms)  23.93ms ( 23.93ms)         1\n",
      "no feasible solution\n",
      "      solver  :   t_proc      (avg)   t_wall      (avg)    n_eval\n",
      "       nlp_f  |   8.00ms (333.33us)   8.44ms (351.87us)        24\n",
      "       nlp_g  |   2.00ms ( 86.96us)   2.01ms ( 87.61us)        23\n",
      "  nlp_grad_f  |   2.00ms (333.33us)   2.50ms (416.17us)         6\n",
      "  nlp_hess_l  |   9.00ms (750.00us)   8.80ms (733.08us)        12\n",
      "   nlp_jac_g  |   1.00ms ( 62.50us)   1.94ms (121.25us)        16\n",
      "       total  |  25.00ms ( 25.00ms)  24.64ms ( 24.64ms)         1\n",
      "no feasible solution\n",
      "      solver  :   t_proc      (avg)   t_wall      (avg)    n_eval\n",
      "       nlp_f  |  11.00ms (440.00us)   9.50ms (380.16us)        25\n",
      "       nlp_g  |        0 (       0)   1.56ms ( 65.17us)        24\n",
      "  nlp_grad_f  |   2.00ms (333.33us)   2.58ms (430.33us)         6\n",
      "  nlp_hess_l  |   9.00ms (750.00us)   8.83ms (735.58us)        12\n",
      "   nlp_jac_g  |   2.00ms (125.00us)   1.84ms (115.00us)        16\n",
      "       total  |  25.00ms ( 25.00ms)  25.19ms ( 25.19ms)         1\n",
      "no feasible solution\n",
      "      solver  :   t_proc      (avg)   t_wall      (avg)    n_eval\n",
      "       nlp_f  |  40.00ms (388.35us)  37.72ms (366.26us)       103\n",
      "       nlp_g  |   7.00ms ( 79.55us)   6.16ms ( 70.01us)        88\n",
      "  nlp_grad_f  |   8.00ms (470.59us)   7.09ms (416.88us)        17\n",
      "  nlp_hess_l  |  19.00ms (730.77us)  20.17ms (775.96us)        26\n",
      "   nlp_jac_g  |   2.00ms ( 66.67us)   3.62ms (120.70us)        30\n",
      "       total  |  76.00ms ( 76.00ms)  75.89ms ( 75.89ms)         1\n",
      "no feasible solution\n",
      "      solver  :   t_proc      (avg)   t_wall      (avg)    n_eval\n",
      "       nlp_f  | 116.00ms (364.78us) 115.17ms (362.18us)       318\n",
      "       nlp_g  |  18.00ms ( 78.26us)  16.76ms ( 72.87us)       230\n",
      "  nlp_grad_f  |  24.00ms (452.83us)  23.53ms (443.98us)        53\n",
      "  nlp_hess_l  |  42.00ms (792.45us)  44.24ms (834.77us)        53\n",
      "   nlp_jac_g  |   4.00ms ( 71.43us)   6.81ms (121.70us)        56\n",
      "       total  | 210.00ms (210.00ms) 208.90ms (208.90ms)         1\n",
      "no feasible solution\n",
      "      solver  :   t_proc      (avg)   t_wall      (avg)    n_eval\n",
      "       nlp_f  |  53.00ms (378.57us)  51.36ms (366.88us)       140\n",
      "       nlp_g  |   6.00ms ( 56.60us)   7.51ms ( 70.83us)       106\n",
      "  nlp_grad_f  |  11.00ms (458.33us)  11.63ms (484.67us)        24\n",
      "  nlp_hess_l  |  25.00ms (757.58us)  25.15ms (762.18us)        33\n",
      "   nlp_jac_g  |   5.00ms (135.14us)   4.59ms (124.14us)        37\n",
      "       total  | 101.00ms (101.00ms) 101.64ms (101.64ms)         1\n",
      "no feasible solution\n",
      "      solver  :   t_proc      (avg)   t_wall      (avg)    n_eval\n",
      "       nlp_f  |  39.00ms (351.35us)  40.43ms (364.20us)       111\n",
      "       nlp_g  |   9.00ms (102.27us)   6.81ms ( 77.36us)        88\n",
      "  nlp_grad_f  |  11.00ms (578.95us)   8.96ms (471.68us)        19\n",
      "  nlp_hess_l  |  21.00ms (724.14us)  23.08ms (795.83us)        29\n",
      "   nlp_jac_g  |   1.00ms ( 30.30us)   4.11ms (124.42us)        33\n",
      "       total  |  85.00ms ( 85.00ms)  85.60ms ( 85.60ms)         1\n",
      "no feasible solution\n",
      "      solver  :   t_proc      (avg)   t_wall      (avg)    n_eval\n",
      "       nlp_f  |  50.00ms (318.47us)  56.99ms (363.01us)       157\n",
      "       nlp_g  |   7.00ms ( 59.32us)   8.09ms ( 68.54us)       118\n",
      "  nlp_grad_f  |  14.00ms (583.33us)  10.98ms (457.62us)        24\n",
      "  nlp_hess_l  |  23.00ms (821.43us)  21.03ms (751.21us)        28\n",
      "   nlp_jac_g  |   7.00ms (218.75us)   4.37ms (136.66us)        32\n",
      "       total  | 103.00ms (103.00ms) 102.86ms (102.86ms)         1\n",
      "no feasible solution\n",
      "      solver  :   t_proc      (avg)   t_wall      (avg)    n_eval\n",
      "       nlp_f  |  52.00ms (385.19us)  50.13ms (371.35us)       135\n",
      "       nlp_g  |  10.00ms ( 84.03us)   8.55ms ( 71.89us)       119\n",
      "  nlp_grad_f  |   9.00ms (500.00us)   8.23ms (457.39us)        18\n",
      "  nlp_hess_l  |  21.00ms (724.14us)  23.24ms (801.45us)        29\n",
      "   nlp_jac_g  |   2.00ms ( 60.61us)   3.93ms (118.94us)        33\n",
      "       total  |  95.00ms ( 95.00ms)  95.60ms ( 95.60ms)         1\n",
      "no feasible solution\n",
      "      solver  :   t_proc      (avg)   t_wall      (avg)    n_eval\n",
      "       nlp_f  | 101.00ms (360.71us) 100.14ms (357.64us)       280\n",
      "       nlp_g  |  11.00ms ( 50.23us)  14.83ms ( 67.70us)       219\n",
      "  nlp_grad_f  |  15.00ms (348.84us)  18.00ms (418.72us)        43\n",
      "  nlp_hess_l  |  49.00ms (890.91us)  43.92ms (798.47us)        55\n",
      "   nlp_jac_g  |   9.00ms (152.54us)   6.90ms (117.00us)        59\n",
      "       total  | 186.00ms (186.00ms) 185.59ms (185.59ms)         1\n",
      "no feasible solution\n",
      "      solver  :   t_proc      (avg)   t_wall      (avg)    n_eval\n",
      "       nlp_f  |  35.00ms (336.54us)  36.71ms (353.01us)       104\n",
      "       nlp_g  |   8.00ms ( 85.11us)   7.05ms ( 75.01us)        94\n",
      "  nlp_grad_f  |   6.00ms (400.00us)   7.02ms (468.07us)        15\n",
      "  nlp_hess_l  |  24.00ms (888.89us)  21.79ms (807.19us)        27\n",
      "   nlp_jac_g  |   3.00ms ( 96.77us)   3.54ms (114.32us)        31\n",
      "       total  |  77.00ms ( 77.00ms)  77.28ms ( 77.28ms)         1\n",
      "no feasible solution\n",
      "      solver  :   t_proc      (avg)   t_wall      (avg)    n_eval\n",
      "       nlp_f  |  11.00ms (323.53us)  13.67ms (402.09us)        34\n",
      "       nlp_g  |   6.00ms (176.47us)   2.40ms ( 70.50us)        34\n",
      "  nlp_grad_f  |   4.00ms (800.00us)   2.36ms (472.00us)         5\n",
      "  nlp_hess_l  |   7.00ms (700.00us)   8.20ms (820.30us)        10\n",
      "   nlp_jac_g  |   1.00ms ( 71.43us)   1.80ms (128.43us)        14\n",
      "       total  |  29.00ms ( 29.00ms)  29.32ms ( 29.32ms)         1\n",
      "no feasible solution\n",
      "      solver  :   t_proc      (avg)   t_wall      (avg)    n_eval\n",
      "       nlp_f  |  30.00ms (416.67us)  26.75ms (371.54us)        72\n",
      "       nlp_g  |   8.00ms (105.26us)   5.59ms ( 73.54us)        76\n",
      "  nlp_grad_f  |   1.00ms (125.00us)   3.29ms (411.62us)         8\n",
      "  nlp_hess_l  |  12.00ms (600.00us)  15.31ms (765.70us)        20\n",
      "   nlp_jac_g  |   2.00ms ( 83.33us)   2.82ms (117.50us)        24\n",
      "       total  |  55.00ms ( 55.00ms)  55.49ms ( 55.49ms)         1\n",
      "no feasible solution\n",
      "      solver  :   t_proc      (avg)   t_wall      (avg)    n_eval\n",
      "       nlp_f  |  50.00ms (378.79us)  48.52ms (367.58us)       132\n",
      "       nlp_g  |   8.00ms ( 70.80us)   7.85ms ( 69.50us)       113\n",
      "  nlp_grad_f  |   8.00ms (470.59us)   7.74ms (455.47us)        17\n",
      "  nlp_hess_l  |  20.00ms (740.74us)  21.77ms (806.26us)        27\n",
      "   nlp_jac_g  |   5.00ms (161.29us)   4.16ms (134.10us)        31\n",
      "       total  |  91.00ms ( 91.00ms)  91.36ms ( 91.36ms)         1\n",
      "no feasible solution\n",
      "      solver  :   t_proc      (avg)   t_wall      (avg)    n_eval\n",
      "       nlp_f  | 129.00ms (405.66us) 116.66ms (366.85us)       318\n",
      "       nlp_g  |   8.00ms ( 35.71us)  16.64ms ( 74.29us)       224\n",
      "  nlp_grad_f  |  17.00ms (298.25us)  26.29ms (461.30us)        57\n",
      "  nlp_hess_l  |  52.00ms (912.28us)  46.68ms (818.91us)        57\n",
      "   nlp_jac_g  |   7.00ms (116.67us)   7.38ms (122.98us)        60\n",
      "       total  | 217.00ms (217.00ms) 216.25ms (216.25ms)         1\n",
      "no feasible solution\n",
      "      solver  :   t_proc      (avg)   t_wall      (avg)    n_eval\n",
      "       nlp_f  |  47.00ms (326.39us)  51.04ms (354.46us)       144\n",
      "       nlp_g  |  13.00ms (113.04us)   8.78ms ( 76.37us)       115\n",
      "  nlp_grad_f  |   9.00ms (391.30us)  10.48ms (455.57us)        23\n",
      "  nlp_hess_l  |  30.00ms (857.14us)  28.92ms (826.40us)        35\n",
      "   nlp_jac_g  |   4.00ms (102.56us)   4.61ms (118.18us)        39\n",
      "       total  | 106.00ms (106.00ms) 105.26ms (105.26ms)         1\n",
      "no feasible solution\n",
      "      solver  :   t_proc      (avg)   t_wall      (avg)    n_eval\n",
      "       nlp_f  |  34.00ms (343.43us)  35.71ms (360.68us)        99\n",
      "       nlp_g  |   8.00ms ( 97.56us)   6.04ms ( 73.61us)        82\n",
      "  nlp_grad_f  |   6.00ms (352.94us)   7.37ms (433.76us)        17\n",
      "  nlp_hess_l  |  25.00ms (862.07us)  24.04ms (828.93us)        29\n",
      "   nlp_jac_g  |   5.00ms (151.52us)   4.83ms (146.33us)        33\n",
      "       total  |  80.00ms ( 80.00ms)  79.39ms ( 79.39ms)         1\n",
      "no feasible solution\n",
      "      solver  :   t_proc      (avg)   t_wall      (avg)    n_eval\n",
      "       nlp_f  | 136.00ms (355.09us) 139.21ms (363.46us)       383\n",
      "       nlp_g  |  18.00ms ( 62.72us)  20.85ms ( 72.64us)       287\n",
      "  nlp_grad_f  |  31.00ms (516.67us)  27.38ms (456.40us)        60\n",
      "  nlp_hess_l  |  51.00ms (850.00us)  47.50ms (791.67us)        60\n",
      "   nlp_jac_g  |   5.00ms ( 79.37us)   7.88ms (125.02us)        63\n",
      "       total  | 245.00ms (245.00ms) 245.12ms (245.12ms)         1\n",
      "no feasible solution\n",
      "      solver  :   t_proc      (avg)   t_wall      (avg)    n_eval\n",
      "       nlp_f  |  49.00ms (335.62us)  51.75ms (354.44us)       146\n",
      "       nlp_g  |   7.00ms ( 66.04us)   7.57ms ( 71.40us)       106\n",
      "  nlp_grad_f  |  11.00ms (440.00us)  10.42ms (416.80us)        25\n",
      "  nlp_hess_l  |  26.00ms (866.67us)  24.19ms (806.30us)        30\n",
      "   nlp_jac_g  |   6.00ms (176.47us)   3.84ms (112.82us)        34\n",
      "       total  |  99.00ms ( 99.00ms)  99.02ms ( 99.02ms)         1\n",
      "no feasible solution\n",
      "      solver  :   t_proc      (avg)   t_wall      (avg)    n_eval\n",
      "       nlp_f  |  41.00ms (394.23us)  38.71ms (372.19us)       104\n",
      "       nlp_g  |   8.00ms ( 87.91us)   6.27ms ( 68.87us)        91\n",
      "  nlp_grad_f  |   3.00ms (214.29us)   6.35ms (453.50us)        14\n",
      "  nlp_hess_l  |  18.00ms (750.00us)  20.35ms (848.08us)        24\n",
      "   nlp_jac_g  |   3.00ms (107.14us)   3.25ms (116.18us)        28\n",
      "       total  |  76.00ms ( 76.00ms)  76.17ms ( 76.17ms)         1\n",
      "no feasible solution\n",
      "      solver  :   t_proc      (avg)   t_wall      (avg)    n_eval\n",
      "       nlp_f  |  53.00ms (365.52us)  53.26ms (367.30us)       145\n",
      "       nlp_g  |   9.00ms ( 79.65us)   7.84ms ( 69.40us)       113\n",
      "  nlp_grad_f  |  10.00ms (476.19us)   9.93ms (472.95us)        21\n",
      "  nlp_hess_l  |  21.00ms (807.69us)  21.47ms (825.65us)        26\n",
      "   nlp_jac_g  |   4.00ms (133.33us)   4.17ms (139.03us)        30\n",
      "       total  |  98.00ms ( 98.00ms)  98.05ms ( 98.05ms)         1\n",
      "no feasible solution\n",
      "      solver  :   t_proc      (avg)   t_wall      (avg)    n_eval\n",
      "       nlp_f  |  89.00ms (366.26us)  90.26ms (371.45us)       243\n",
      "       nlp_g  |  17.00ms ( 89.01us)  14.08ms ( 73.70us)       191\n",
      "  nlp_grad_f  |  14.00ms (411.76us)  16.40ms (482.24us)        34\n",
      "  nlp_hess_l  |  37.00ms (822.22us)  38.10ms (846.62us)        45\n",
      "   nlp_jac_g  |   8.00ms (163.27us)   6.13ms (125.04us)        49\n",
      "       total  | 168.00ms (168.00ms) 167.51ms (167.51ms)         1\n",
      "no feasible solution\n",
      "      solver  :   t_proc      (avg)   t_wall      (avg)    n_eval\n",
      "       nlp_f  |  38.00ms (365.38us)  38.14ms (366.77us)       104\n",
      "       nlp_g  |   5.00ms ( 53.76us)   6.47ms ( 69.54us)        93\n",
      "  nlp_grad_f  |   9.00ms (692.31us)   5.84ms (449.54us)        13\n",
      "  nlp_hess_l  |  15.00ms (750.00us)  15.14ms (757.00us)        20\n",
      "   nlp_jac_g  |   2.00ms ( 83.33us)   3.33ms (138.75us)        24\n",
      "       total  |  71.00ms ( 71.00ms)  70.13ms ( 70.13ms)         1\n",
      "no feasible solution\n",
      "      solver  :   t_proc      (avg)   t_wall      (avg)    n_eval\n",
      "       nlp_f  |   6.00ms (300.00us)   8.21ms (410.75us)        20\n",
      "       nlp_g  |        0 (       0) 610.00us ( 87.14us)         7\n",
      "  nlp_grad_f  |   6.00ms (750.00us)   3.64ms (455.12us)         8\n",
      "  nlp_hess_l  |   6.00ms (  1.00ms)   5.43ms (905.00us)         6\n",
      "   nlp_jac_g  |   1.00ms (125.00us)   1.02ms (127.62us)         8\n",
      "       total  |  20.00ms ( 20.00ms)  19.78ms ( 19.78ms)         1\n",
      "solution: f= 0.5430243300469182\n",
      "maximized objective =  0.5392038044127735\n",
      "mean(S) =  3.800000036899053\n",
      "skew(S) =  0.5062664687311113\n",
      "      solver  :   t_proc      (avg)   t_wall      (avg)    n_eval\n",
      "       nlp_f  |   8.00ms (400.00us)   6.92ms (346.25us)        20\n",
      "       nlp_g  |   1.00ms (142.86us) 467.00us ( 66.71us)         7\n",
      "  nlp_grad_f  |   3.00ms (375.00us)   3.68ms (460.50us)         8\n",
      "  nlp_hess_l  |   4.00ms (666.67us)   4.82ms (803.17us)         6\n",
      "   nlp_jac_g  |   1.00ms (125.00us) 916.00us (114.50us)         8\n",
      "       total  |  18.00ms ( 18.00ms)  17.80ms ( 17.80ms)         1\n",
      "solution: f= 0.5430243301906134\n",
      "maximized objective =  0.897854793177721\n",
      "mean(S) =  3.8000000365681816\n",
      "skew(S) =  0.5062664690380085\n",
      "      solver  :   t_proc      (avg)   t_wall      (avg)    n_eval\n",
      "       nlp_f  |  10.00ms (500.00us)   8.26ms (413.05us)        20\n",
      "       nlp_g  |   2.00ms (285.71us) 596.00us ( 85.14us)         7\n",
      "  nlp_grad_f  |   2.00ms (250.00us)   3.67ms (458.25us)         8\n",
      "  nlp_hess_l  |   4.00ms (666.67us)   4.71ms (785.83us)         6\n",
      "   nlp_jac_g  |        0 (       0)   1.24ms (154.62us)         8\n",
      "       total  |  19.00ms ( 19.00ms)  19.27ms ( 19.27ms)         1\n",
      "solution: f= 0.5430243304578074\n",
      "maximized objective =  1.2565057819426615\n",
      "mean(S) =  3.800000035952968\n",
      "skew(S) =  0.5062664696086686\n",
      "      solver  :   t_proc      (avg)   t_wall      (avg)    n_eval\n",
      "       nlp_f  |   6.00ms (300.00us)   7.31ms (365.50us)        20\n",
      "       nlp_g  |        0 (       0) 461.00us ( 65.86us)         7\n",
      "  nlp_grad_f  |   2.00ms (250.00us)   3.52ms (439.62us)         8\n",
      "  nlp_hess_l  |   5.00ms (833.33us)   4.39ms (731.50us)         6\n",
      "   nlp_jac_g  |   4.00ms (500.00us)   1.01ms (126.00us)         8\n",
      "       total  |  18.00ms ( 18.00ms)  17.43ms ( 17.43ms)         1\n",
      "solution: f= 0.5430243311275147\n",
      "maximized objective =  1.6151567707075651\n",
      "mean(S) =  3.8000000344109677\n",
      "skew(S) =  0.5062664710389994\n",
      "      solver  :   t_proc      (avg)   t_wall      (avg)    n_eval\n",
      "       nlp_f  |  10.00ms (384.62us)   9.25ms (355.69us)        26\n",
      "       nlp_g  |        0 (       0) 601.00us ( 66.78us)         9\n",
      "  nlp_grad_f  |   3.00ms (300.00us)   4.92ms (492.30us)        10\n",
      "  nlp_hess_l  |   6.00ms (750.00us)   6.50ms (812.87us)         8\n",
      "   nlp_jac_g  |   3.00ms (300.00us)   1.18ms (118.30us)        10\n",
      "       total  |  23.00ms ( 23.00ms)  23.22ms ( 23.22ms)         1\n",
      "solution: f= 0.5430243358886337\n",
      "maximized objective =  1.9738077594726766\n",
      "mean(S) =  3.800000023448489\n",
      "skew(S) =  0.506266481207581\n",
      "      solver  :   t_proc      (avg)   t_wall      (avg)    n_eval\n",
      "       nlp_f  |   9.00ms (450.00us)   7.39ms (369.50us)        20\n",
      "       nlp_g  |        0 (       0) 471.00us ( 67.29us)         7\n",
      "  nlp_grad_f  |   2.00ms (250.00us)   3.55ms (443.87us)         8\n",
      "  nlp_hess_l  |   4.00ms (666.67us)   4.32ms (719.50us)         6\n",
      "   nlp_jac_g  |   2.00ms (250.00us)   1.01ms (126.62us)         8\n",
      "       total  |  18.00ms ( 18.00ms)  17.88ms ( 17.88ms)         1\n",
      "solution: f= 0.6063720226815872\n",
      "maximized objective =  2.321538780562038\n",
      "mean(S) =  3.672319262474539\n",
      "skew(S) =  0.6406423704016325\n",
      "      solver  :   t_proc      (avg)   t_wall      (avg)    n_eval\n",
      "       nlp_f  |   8.00ms (307.69us)   9.43ms (362.69us)        26\n",
      "       nlp_g  |   1.00ms (111.11us) 617.00us ( 68.56us)         9\n",
      "  nlp_grad_f  |   7.00ms (700.00us)   4.28ms (427.80us)        10\n",
      "  nlp_hess_l  |   7.00ms (875.00us)   6.84ms (855.50us)         8\n",
      "   nlp_jac_g  |        0 (       0)   1.19ms (119.40us)        10\n",
      "       total  |  23.00ms ( 23.00ms)  23.16ms ( 23.16ms)         1\n",
      "solution: f= 0.6567284161765412\n",
      "maximized objective =  2.6403983867489114\n",
      "mean(S) =  3.596822315696998\n",
      "skew(S) =  0.7559591604056067\n",
      "      solver  :   t_proc      (avg)   t_wall      (avg)    n_eval\n",
      "       nlp_f  |  15.00ms (441.18us)  12.93ms (380.21us)        34\n",
      "       nlp_g  |   1.00ms ( 76.92us) 924.00us ( 71.08us)        13\n",
      "  nlp_grad_f  |   4.00ms (333.33us)   5.83ms (485.67us)        12\n",
      "  nlp_hess_l  |   8.00ms (800.00us)   8.02ms (802.00us)        10\n",
      "   nlp_jac_g  |   1.00ms ( 83.33us)   1.49ms (124.00us)        12\n",
      "       total  |  30.00ms ( 30.00ms)  30.07ms ( 30.07ms)         1\n",
      "solution: f= 0.6957442917011467\n",
      "maximized objective =  2.9414859052285824\n",
      "mean(S) =  3.5539747076752035\n",
      "skew(S) =  0.8649994774217405\n",
      "      solver  :   t_proc      (avg)   t_wall      (avg)    n_eval\n",
      "       nlp_f  |   9.00ms (310.34us)  10.32ms (355.76us)        29\n",
      "       nlp_g  |        0 (       0) 868.00us ( 72.33us)        12\n",
      "  nlp_grad_f  |   6.00ms (600.00us)   4.15ms (414.90us)        10\n",
      "  nlp_hess_l  |   7.00ms (875.00us)   6.04ms (755.12us)         8\n",
      "   nlp_jac_g  |   1.00ms (100.00us)   1.12ms (111.80us)        10\n",
      "       total  |  23.00ms ( 23.00ms)  23.26ms ( 23.26ms)         1\n",
      "solution: f= 0.7382330242014072\n",
      "maximized objective =  3.2248235168008432\n",
      "mean(S) =  3.522479898130046\n",
      "skew(S) =  1.0188280925573432\n",
      "      solver  :   t_proc      (avg)   t_wall      (avg)    n_eval\n",
      "       nlp_f  |  12.00ms (413.79us)  10.61ms (365.83us)        29\n",
      "       nlp_g  |        0 (       0) 686.00us ( 68.60us)        10\n",
      "  nlp_grad_f  |   4.00ms (363.64us)   4.68ms (425.45us)        11\n",
      "  nlp_hess_l  |   7.00ms (777.78us)   6.74ms (749.11us)         9\n",
      "   nlp_jac_g  |   1.00ms ( 90.91us)   1.22ms (111.18us)        11\n",
      "       total  |  25.00ms ( 25.00ms)  24.89ms ( 24.89ms)         1\n",
      "solution: f= 0.7992174231641955\n",
      "maximized objective =  3.4820164314453717\n",
      "mean(S) =  3.5038822380563253\n",
      "skew(S) =  1.317301576960993\n",
      "      solver  :   t_proc      (avg)   t_wall      (avg)    n_eval\n",
      "       nlp_f  |   7.00ms (304.35us)   8.27ms (359.57us)        23\n",
      "       nlp_g  |   1.00ms (125.00us) 614.00us ( 76.75us)         8\n",
      "  nlp_grad_f  |   6.00ms (666.67us)   3.71ms (412.78us)         9\n",
      "  nlp_hess_l  |   5.00ms (714.29us)   5.49ms (784.86us)         7\n",
      "   nlp_jac_g  |        0 (       0)   1.00ms (111.22us)         9\n",
      "       total  |  19.00ms ( 19.00ms)  19.86ms ( 19.86ms)         1\n",
      "solution: f= 0.4738677939669997\n",
      "maximized objective =  0.2772519922456734\n",
      "mean(S) =  3.800000019388007\n",
      "skew(S) =  0.2416686788401861\n",
      "      solver  :   t_proc      (avg)   t_wall      (avg)    n_eval\n",
      "       nlp_f  |   7.00ms (350.00us)   6.71ms (335.45us)        20\n",
      "       nlp_g  |        0 (       0) 524.00us ( 74.86us)         7\n",
      "  nlp_grad_f  |   1.00ms (125.00us)   3.28ms (410.62us)         8\n",
      "  nlp_hess_l  |   5.00ms (833.33us)   5.26ms (876.50us)         6\n",
      "   nlp_jac_g  |   4.00ms (500.00us) 927.00us (115.87us)         8\n",
      "       total  |  18.00ms ( 18.00ms)  17.49ms ( 17.49ms)         1\n",
      "solution: f= 0.5055428233366805\n",
      "maximized objective =  0.6630453066587774\n",
      "mean(S) =  3.74638525436279\n",
      "skew(S) =  0.2470082645347826\n",
      "      solver  :   t_proc      (avg)   t_wall      (avg)    n_eval\n",
      "       nlp_f  |   8.00ms (400.00us)   8.42ms (420.90us)        20\n",
      "       nlp_g  |        0 (       0) 646.00us ( 92.29us)         7\n",
      "  nlp_grad_f  |   6.00ms (750.00us)   4.72ms (589.62us)         8\n",
      "  nlp_hess_l  |   6.00ms (  1.00ms)   6.04ms (  1.01ms)         6\n",
      "   nlp_jac_g  |   2.00ms (250.00us)   1.12ms (139.50us)         8\n",
      "       total  |  22.00ms ( 22.00ms)  21.87ms ( 21.87ms)         1\n",
      "solution: f= 0.578598756842876\n",
      "maximized objective =  1.0367235410384685\n",
      "mean(S) =  3.6275999847873033\n",
      "skew(S) =  0.27250818712695546\n",
      "      solver  :   t_proc      (avg)   t_wall      (avg)    n_eval\n",
      "       nlp_f  |  11.00ms (478.26us)   8.20ms (356.65us)        23\n",
      "       nlp_g  |        0 (       0) 565.00us ( 70.62us)         8\n",
      "  nlp_grad_f  |   3.00ms (333.33us)   4.32ms (479.78us)         9\n",
      "  nlp_hess_l  |   4.00ms (571.43us)   5.18ms (740.14us)         7\n",
      "   nlp_jac_g  |   2.00ms (222.22us)   1.09ms (120.67us)         9\n",
      "       total  |  20.00ms ( 20.00ms)  20.13ms ( 20.13ms)         1\n",
      "solution: f= 0.6828442561263798\n",
      "maximized objective =  1.391037650532795\n",
      "mean(S) =  3.471506429084323\n",
      "skew(S) =  0.33512133579059705\n",
      "      solver  :   t_proc      (avg)   t_wall      (avg)    n_eval\n",
      "       nlp_f  |  10.00ms (384.62us)   9.15ms (352.04us)        26\n",
      "       nlp_g  |   1.00ms (111.11us) 662.00us ( 73.56us)         9\n",
      "  nlp_grad_f  |   6.00ms (600.00us)   5.15ms (515.50us)        10\n",
      "  nlp_hess_l  |   6.00ms (750.00us)   6.51ms (813.62us)         8\n",
      "   nlp_jac_g  |   1.00ms (100.00us)   1.90ms (189.60us)        10\n",
      "       total  |  24.00ms ( 24.00ms)  24.22ms ( 24.22ms)         1\n",
      "solution: f= 0.8414581225444936\n",
      "maximized objective =  1.7153764196382104\n",
      "mean(S) =  3.269061261453626\n",
      "skew(S) =  0.4668240718065756\n",
      "      solver  :   t_proc      (avg)   t_wall      (avg)    n_eval\n",
      "       nlp_f  |  15.00ms (394.74us)  14.08ms (370.47us)        38\n",
      "       nlp_g  |        0 (       0) 916.00us ( 70.46us)        13\n",
      "  nlp_grad_f  |   5.00ms (357.14us)   6.37ms (455.14us)        14\n",
      "  nlp_hess_l  |   9.00ms (750.00us)   8.86ms (738.08us)        12\n",
      "   nlp_jac_g  |   3.00ms (214.29us)   1.74ms (124.50us)        14\n",
      "       total  |  33.00ms ( 33.00ms)  32.86ms ( 32.86ms)         1\n",
      "solution: f= 0.9999996998373563\n",
      "maximized objective =  2.002121762489999\n",
      "mean(S) =  3.1134408159526576\n",
      "skew(S) =  0.6192085263855697\n",
      "      solver  :   t_proc      (avg)   t_wall      (avg)    n_eval\n",
      "       nlp_f  |   8.00ms (307.69us)   9.26ms (356.31us)        26\n",
      "       nlp_g  |   1.00ms (111.11us)   1.08ms (120.44us)         9\n",
      "  nlp_grad_f  |   3.00ms (300.00us)   4.32ms (431.60us)        10\n",
      "  nlp_hess_l  |   7.00ms (875.00us)   6.40ms (800.00us)         8\n",
      "   nlp_jac_g  |   4.00ms (400.00us)   1.20ms (120.30us)        10\n",
      "       total  |  24.00ms ( 24.00ms)  23.50ms ( 23.50ms)         1\n",
      "solution: f= 1.0000000051141953\n",
      "maximized objective =  2.273715882419537\n",
      "mean(S) =  3.1134405627730275\n",
      "skew(S) =  0.619208838950756\n",
      "      solver  :   t_proc      (avg)   t_wall      (avg)    n_eval\n",
      "       nlp_f  |   8.00ms (307.69us)  10.47ms (402.65us)        26\n",
      "       nlp_g  |        0 (       0) 670.00us ( 74.44us)         9\n",
      "  nlp_grad_f  |   8.00ms (800.00us)   4.27ms (427.10us)        10\n",
      "  nlp_hess_l  |   7.00ms (875.00us)   6.72ms (840.00us)         8\n",
      "   nlp_jac_g  |        0 (       0)   1.14ms (114.10us)        10\n",
      "       total  |  24.00ms ( 24.00ms)  24.15ms ( 24.15ms)         1\n",
      "solution: f= 1.000000007544303\n",
      "maximized objective =  2.545310002468368\n",
      "mean(S) =  3.1134405607576308\n",
      "skew(S) =  0.6192088414388812\n",
      "      solver  :   t_proc      (avg)   t_wall      (avg)    n_eval\n",
      "       nlp_f  |   9.00ms (346.15us)  10.06ms (386.77us)        26\n",
      "       nlp_g  |        0 (       0) 679.00us ( 75.44us)         9\n",
      "  nlp_grad_f  |   7.00ms (700.00us)   5.29ms (529.40us)        10\n",
      "  nlp_hess_l  |   7.00ms (875.00us)   6.51ms (814.00us)         8\n",
      "   nlp_jac_g  |   2.00ms (200.00us)   1.17ms (116.90us)        10\n",
      "       total  |  25.00ms ( 25.00ms)  24.74ms ( 24.74ms)         1\n",
      "solution: f= 1.0000000083579994\n",
      "maximized objective =  2.8169041225208504\n",
      "mean(S) =  3.1134405600827963\n",
      "skew(S) =  0.6192088422720052\n",
      "      solver  :   t_proc      (avg)   t_wall      (avg)    n_eval\n",
      "       nlp_f  |  12.00ms (461.54us)   9.69ms (372.58us)        26\n",
      "       nlp_g  |        0 (       0) 666.00us ( 74.00us)         9\n",
      "  nlp_grad_f  |   4.00ms (400.00us)   4.57ms (457.20us)        10\n",
      "  nlp_hess_l  |   7.00ms (875.00us)   6.86ms (857.37us)         8\n",
      "   nlp_jac_g  |        0 (       0)   1.14ms (114.30us)        10\n",
      "       total  |  24.00ms ( 24.00ms)  23.77ms ( 23.77ms)         1\n",
      "solution: f= 1.0000000087666634\n",
      "maximized objective =  3.0884982425733405\n",
      "mean(S) =  3.113440559743875\n",
      "skew(S) =  0.6192088426904262\n",
      "      solver  :   t_proc      (avg)   t_wall      (avg)    n_eval\n",
      "       nlp_f  |   8.00ms (307.69us)   9.49ms (365.08us)        26\n",
      "       nlp_g  |        0 (       0) 608.00us ( 67.56us)         9\n",
      "  nlp_grad_f  |   6.00ms (600.00us)   4.48ms (448.00us)        10\n",
      "  nlp_hess_l  |   7.00ms (875.00us)   7.06ms (883.12us)         8\n",
      "   nlp_jac_g  |   3.00ms (300.00us)   1.76ms (176.40us)        10\n",
      "       total  |  24.00ms ( 24.00ms)  24.43ms ( 24.43ms)         1\n",
      "solution: f= 0.18007064280201235\n",
      "maximized objective =  0.25253164300786235\n",
      "mean(S) =  3.800000029751897\n",
      "skew(S) =  0.21669862900037795\n",
      "      solver  :   t_proc      (avg)   t_wall      (avg)    n_eval\n",
      "       nlp_f  |  16.00ms (390.24us)  15.69ms (382.66us)        41\n",
      "       nlp_g  |   1.00ms ( 71.43us)   1.05ms ( 74.79us)        14\n",
      "  nlp_grad_f  |   5.00ms (333.33us)   6.90ms (459.93us)        15\n",
      "  nlp_hess_l  |  10.00ms (769.23us)   9.96ms (765.92us)        13\n",
      "   nlp_jac_g  |   4.00ms (266.67us)   2.15ms (143.47us)        15\n",
      "       total  |  36.00ms ( 36.00ms)  36.67ms ( 36.67ms)         1\n",
      "solution: f= 0.18039678768951178\n",
      "maximized objective =  0.6427119470369728\n",
      "mean(S) =  3.798590320577247\n",
      "skew(S) =  0.21688724846347138\n",
      "      solver  :   t_proc      (avg)   t_wall      (avg)    n_eval\n",
      "       nlp_f  |  15.00ms (517.24us)  10.96ms (377.79us)        29\n",
      "       nlp_g  |   1.00ms (100.00us) 727.00us ( 72.70us)        10\n",
      "  nlp_grad_f  |   5.00ms (454.55us)   5.54ms (503.36us)        11\n",
      "  nlp_hess_l  |   5.00ms (555.56us)   7.18ms (797.56us)         9\n",
      "   nlp_jac_g  |        0 (       0)   1.38ms (125.18us)        11\n",
      "       total  |  27.00ms ( 27.00ms)  26.63ms ( 26.63ms)         1\n",
      "solution: f= 0.2040320844429376\n",
      "maximized objective =  1.0266015294609245\n",
      "mean(S) =  3.699661812743266\n",
      "skew(S) =  0.23814489914022846\n",
      "      solver  :   t_proc      (avg)   t_wall      (avg)    n_eval\n",
      "       nlp_f  |   9.00ms (346.15us)   9.27ms (356.62us)        26\n",
      "       nlp_g  |        0 (       0) 649.00us ( 72.11us)         9\n",
      "  nlp_grad_f  |   6.00ms (600.00us)   4.92ms (492.40us)        10\n",
      "  nlp_hess_l  |   6.00ms (750.00us)   6.23ms (778.37us)         8\n",
      "   nlp_jac_g  |   2.00ms (200.00us)   1.19ms (118.70us)        10\n",
      "       total  |  23.00ms ( 23.00ms)  23.08ms ( 23.08ms)         1\n",
      "solution: f= 0.23876419941147448\n",
      "maximized objective =  1.3941687513528205\n",
      "mean(S) =  3.566848046150437\n",
      "skew(S) =  0.29145212434498063\n",
      "      solver  :   t_proc      (avg)   t_wall      (avg)    n_eval\n",
      "       nlp_f  |   7.00ms (304.35us)   8.36ms (363.61us)        23\n",
      "       nlp_g  |        0 (       0) 572.00us ( 71.50us)         8\n",
      "  nlp_grad_f  |   6.00ms (666.67us)   3.84ms (426.44us)         9\n",
      "  nlp_hess_l  |   6.00ms (857.14us)   5.47ms (780.86us)         7\n",
      "   nlp_jac_g  |   1.00ms (111.11us)   1.02ms (113.00us)         9\n",
      "       total  |  20.00ms ( 20.00ms)  20.08ms ( 20.08ms)         1\n",
      "solution: f= 0.28631814984503495\n",
      "maximized objective =  1.7371223509543645\n",
      "mean(S) =  3.4117981991044077\n",
      "skew(S) =  0.3913407575511993\n",
      "      solver  :   t_proc      (avg)   t_wall      (avg)    n_eval\n",
      "       nlp_f  |   5.00ms (217.39us)   7.90ms (343.65us)        23\n",
      "       nlp_g  |   1.00ms (125.00us) 543.00us ( 67.87us)         8\n",
      "  nlp_grad_f  |   5.00ms (555.56us)   4.13ms (459.00us)         9\n",
      "  nlp_hess_l  |   7.00ms (  1.00ms)   5.69ms (812.29us)         7\n",
      "   nlp_jac_g  |   1.00ms (111.11us)   1.02ms (113.22us)         9\n",
      "       total  |  20.00ms ( 20.00ms)  20.11ms ( 20.11ms)         1\n",
      "solution: f= 0.3276229674799309\n",
      "maximized objective =  2.053707216128472\n",
      "mean(S) =  3.303739580211643\n",
      "skew(S) =  0.4981806583292607\n",
      "      solver  :   t_proc      (avg)   t_wall      (avg)    n_eval\n",
      "       nlp_f  |   8.00ms (347.83us)   8.60ms (374.13us)        23\n",
      "       nlp_g  |        0 (       0) 551.00us ( 68.87us)         8\n",
      "  nlp_grad_f  |   4.00ms (444.44us)   3.83ms (425.22us)         9\n",
      "  nlp_hess_l  |   5.00ms (714.29us)   5.37ms (767.57us)         7\n",
      "   nlp_jac_g  |   1.00ms (111.11us)   1.02ms (113.44us)         9\n",
      "       total  |  21.00ms ( 21.00ms)  20.21ms ( 20.21ms)         1\n",
      "solution: f= 0.3600739465437037\n",
      "maximized objective =  2.3496895478778357\n",
      "mean(S) =  3.236384494290573\n",
      "skew(S) =  0.6026371287081876\n",
      "      solver  :   t_proc      (avg)   t_wall      (avg)    n_eval\n",
      "       nlp_f  |   9.00ms (391.30us)   8.03ms (349.17us)        23\n",
      "       nlp_g  |   1.00ms (125.00us) 539.00us ( 67.37us)         8\n",
      "  nlp_grad_f  |   4.00ms (444.44us)   4.53ms (503.00us)         9\n",
      "  nlp_hess_l  |   4.00ms (571.43us)   5.22ms (745.14us)         7\n",
      "   nlp_jac_g  |   2.00ms (222.22us)   1.14ms (126.22us)         9\n",
      "       total  |  20.00ms ( 20.00ms)  20.23ms ( 20.23ms)         1\n",
      "solution: f= 0.3911081314563198\n",
      "maximized objective =  2.627024298641011\n",
      "mean(S) =  3.186128017743036\n",
      "skew(S) =  0.7315263241244138\n",
      "      solver  :   t_proc      (avg)   t_wall      (avg)    n_eval\n",
      "       nlp_f  |   8.00ms (400.00us)   7.85ms (392.35us)        20\n",
      "       nlp_g  |        0 (       0) 516.00us ( 73.71us)         7\n",
      "  nlp_grad_f  |   5.00ms (625.00us)   3.92ms (490.25us)         8\n",
      "  nlp_hess_l  |   5.00ms (833.33us)   4.70ms (783.33us)         6\n",
      "   nlp_jac_g  |        0 (       0)   1.07ms (133.50us)         8\n",
      "       total  |  19.00ms ( 19.00ms)  18.98ms ( 18.98ms)         1\n",
      "solution: f= 0.4289749878837202\n",
      "maximized objective =  2.8815695963550003\n",
      "mean(S) =  3.142869252529456\n",
      "skew(S) =  0.945021677230295\n",
      "      solver  :   t_proc      (avg)   t_wall      (avg)    n_eval\n",
      "       nlp_f  |   5.00ms (294.12us)   6.19ms (363.88us)        17\n",
      "       nlp_g  |   1.00ms (166.67us) 427.00us ( 71.17us)         6\n",
      "  nlp_grad_f  |   3.00ms (428.57us)   3.93ms (561.29us)         7\n",
      "  nlp_hess_l  |   5.00ms (  1.00ms)   3.76ms (752.60us)         5\n",
      "   nlp_jac_g  |   1.00ms (142.86us) 879.00us (125.57us)         7\n",
      "       total  |  16.00ms ( 16.00ms)  16.00ms ( 16.00ms)         1\n",
      "solution: f= 0.49281583229156467\n",
      "maximized objective =  3.0954902147460417\n",
      "mean(S) =  3.111987709465667\n",
      "skew(S) =  1.4622382375031469\n",
      "      solver  :   t_proc      (avg)   t_wall      (avg)    n_eval\n",
      "       nlp_f  |   9.00ms (281.25us)  11.67ms (364.69us)        32\n",
      "       nlp_g  |        0 (       0) 815.00us ( 74.09us)        11\n",
      "  nlp_grad_f  |   6.00ms (500.00us)   5.04ms (419.83us)        12\n",
      "  nlp_hess_l  |  11.00ms (  1.10ms)   8.22ms (821.70us)        10\n",
      "   nlp_jac_g  |   1.00ms ( 83.33us)   1.37ms (114.17us)        12\n",
      "       total  |  28.00ms ( 28.00ms)  27.92ms ( 27.92ms)         1\n",
      "solution: f= 0.21259163898948127\n",
      "maximized objective =  0.23461808239153892\n",
      "mean(S) =  3.8000000322458174\n",
      "skew(S) =  0.19860412330206867\n",
      "      solver  :   t_proc      (avg)   t_wall      (avg)    n_eval\n",
      "       nlp_f  |  14.00ms (358.97us)  14.45ms (370.51us)        39\n",
      "       nlp_g  |        0 (       0) 992.00us ( 70.86us)        14\n",
      "  nlp_grad_f  |   9.00ms (642.86us)   7.19ms (513.79us)        14\n",
      "  nlp_hess_l  |   9.00ms (750.00us)   9.07ms (755.67us)        12\n",
      "   nlp_jac_g  |   2.00ms (142.86us)   1.78ms (127.14us)        14\n",
      "       total  |  35.00ms ( 35.00ms)  34.73ms ( 34.73ms)         1\n",
      "solution: f= 0.21259164347740844\n",
      "maximized objective =  0.6267700821085047\n",
      "mean(S) =  3.8000000156307476\n",
      "skew(S) =  0.19860412638737163\n",
      "      solver  :   t_proc      (avg)   t_wall      (avg)    n_eval\n",
      "       nlp_f  |  13.00ms (371.43us)  12.57ms (359.26us)        35\n",
      "       nlp_g  |        0 (       0) 827.00us ( 68.92us)        12\n",
      "  nlp_grad_f  |   6.00ms (461.54us)   5.63ms (433.15us)        13\n",
      "  nlp_hess_l  |   9.00ms (818.18us)   9.10ms (827.36us)        11\n",
      "   nlp_jac_g  |   2.00ms (153.85us)   1.57ms (120.85us)        13\n",
      "       total  |  30.00ms ( 30.00ms)  30.54ms ( 30.54ms)         1\n",
      "solution: f= 0.2301624867594443\n",
      "maximized objective =  1.0162485543660893\n",
      "mean(S) =  3.7361142304653496\n",
      "skew(S) =  0.2139860168116059\n",
      "      solver  :   t_proc      (avg)   t_wall      (avg)    n_eval\n",
      "       nlp_f  |  12.00ms (413.79us)  11.68ms (402.62us)        29\n",
      "       nlp_g  |        0 (       0) 782.00us ( 78.20us)        10\n",
      "  nlp_grad_f  |   5.00ms (454.55us)   5.05ms (459.36us)        11\n",
      "  nlp_hess_l  |   7.00ms (777.78us)   7.71ms (856.89us)         9\n",
      "   nlp_jac_g  |   3.00ms (272.73us)   1.45ms (131.73us)        11\n",
      "       total  |  28.00ms ( 28.00ms)  27.92ms ( 27.92ms)         1\n",
      "solution: f= 0.2708991246113372\n",
      "maximized objective =  1.3902997913989144\n",
      "mean(S) =  3.5976454856039237\n",
      "skew(S) =  0.2699886601692074\n",
      "      solver  :   t_proc      (avg)   t_wall      (avg)    n_eval\n",
      "       nlp_f  |  11.00ms (423.08us)  10.11ms (388.69us)        26\n",
      "       nlp_g  |   1.00ms (111.11us) 688.00us ( 76.44us)         9\n",
      "  nlp_grad_f  |   3.00ms (300.00us)   4.76ms (476.30us)        10\n",
      "  nlp_hess_l  |   5.00ms (625.00us)   6.49ms (811.37us)         8\n",
      "   nlp_jac_g  |   2.00ms (200.00us)   1.29ms (129.40us)        10\n",
      "       total  |  25.00ms ( 25.00ms)  24.29ms ( 24.29ms)         1\n",
      "solution: f= 0.35358340461442\n",
      "maximized objective =  1.7334863325860617\n",
      "mean(S) =  3.3632972646345443\n",
      "skew(S) =  0.42375850943687754\n",
      "      solver  :   t_proc      (avg)   t_wall      (avg)    n_eval\n",
      "       nlp_f  |  10.00ms (434.78us)   8.58ms (372.91us)        23\n",
      "       nlp_g  |   1.00ms (125.00us) 549.00us ( 68.62us)         8\n",
      "  nlp_grad_f  |   4.00ms (444.44us)   4.13ms (458.44us)         9\n",
      "  nlp_hess_l  |   5.00ms (714.29us)   5.44ms (777.14us)         7\n",
      "   nlp_jac_g  |        0 (       0)   1.07ms (118.78us)         9\n",
      "       total  |  20.00ms ( 20.00ms)  20.57ms ( 20.57ms)         1\n",
      "solution: f= 0.42045661025437037\n",
      "maximized objective =  2.0362324076475766\n",
      "mean(S) =  3.2231849484004704\n",
      "skew(S) =  0.5592016898528437\n",
      "      solver  :   t_proc      (avg)   t_wall      (avg)    n_eval\n",
      "       nlp_f  |   7.00ms (350.00us)   8.06ms (402.90us)        20\n",
      "       nlp_g  |        0 (       0) 537.00us ( 76.71us)         7\n",
      "  nlp_grad_f  |   3.00ms (375.00us)   3.49ms (436.12us)         8\n",
      "  nlp_hess_l  |   5.00ms (833.33us)   4.88ms (812.50us)         6\n",
      "   nlp_jac_g  |   3.00ms (375.00us)   1.05ms (131.50us)         8\n",
      "       total  |  19.00ms ( 19.00ms)  18.81ms ( 18.81ms)         1\n",
      "solution: f= 0.45851011057864516\n",
      "maximized objective =  2.317716470321531\n",
      "mean(S) =  3.163486373254768\n",
      "skew(S) =  0.6512985427600088\n",
      "      solver  :   t_proc      (avg)   t_wall      (avg)    n_eval\n",
      "       nlp_f  |   6.00ms (352.94us)   6.87ms (404.18us)        17\n",
      "       nlp_g  |   1.00ms (166.67us) 549.00us ( 91.50us)         6\n",
      "  nlp_grad_f  |   6.00ms (857.14us)   3.99ms (570.00us)         7\n",
      "  nlp_hess_l  |   4.00ms (800.00us)   4.45ms (889.60us)         5\n",
      "   nlp_jac_g  |        0 (       0) 897.00us (128.14us)         7\n",
      "       total  |  18.00ms ( 18.00ms)  17.76ms ( 17.76ms)         1\n",
      "solution: f= 0.4925794039750122\n",
      "maximized objective =  2.583459820468436\n",
      "mean(S) =  3.122129385751564\n",
      "skew(S) =  0.7572386113378485\n",
      "      solver  :   t_proc      (avg)   t_wall      (avg)    n_eval\n",
      "       nlp_f  |  12.00ms (600.00us)   9.14ms (457.10us)        20\n",
      "       nlp_g  |   1.00ms (142.86us) 538.00us ( 76.86us)         7\n",
      "  nlp_grad_f  |   4.00ms (500.00us)   4.48ms (560.00us)         8\n",
      "  nlp_hess_l  |   4.00ms (666.67us)   5.32ms (886.00us)         6\n",
      "   nlp_jac_g  |        0 (       0)   1.19ms (148.50us)         8\n",
      "       total  |  21.00ms ( 21.00ms)  21.56ms ( 21.56ms)         1\n",
      "solution: f= 0.5335148244558631\n",
      "maximized objective =  2.8306404418393902\n",
      "mean(S) =  3.087083936711899\n",
      "skew(S) =  0.9300825779712064\n",
      "      solver  :   t_proc      (avg)   t_wall      (avg)    n_eval\n",
      "       nlp_f  |   6.00ms (300.00us)   8.30ms (415.15us)        20\n",
      "       nlp_g  |   2.00ms (285.71us) 622.00us ( 88.86us)         7\n",
      "  nlp_grad_f  |   3.00ms (375.00us)   4.13ms (515.87us)         8\n",
      "  nlp_hess_l  |   7.00ms (  1.17ms)   6.35ms (  1.06ms)         6\n",
      "   nlp_jac_g  |   3.00ms (375.00us)   1.23ms (153.75us)         8\n",
      "       total  |  22.00ms ( 22.00ms)  21.52ms ( 21.52ms)         1\n",
      "solution: f= 0.6015293606087148\n",
      "maximized objective =  3.0451524630095816\n",
      "mean(S) =  3.0623235216669213\n",
      "skew(S) =  1.3452176559329916\n",
      "      solver  :   t_proc      (avg)   t_wall      (avg)    n_eval\n",
      "       nlp_f  |  19.00ms (542.86us)  15.11ms (431.60us)        35\n",
      "       nlp_g  |        0 (       0) 953.00us ( 79.42us)        12\n",
      "  nlp_grad_f  |   5.00ms (384.62us)   6.34ms (487.85us)        13\n",
      "  nlp_hess_l  |   8.00ms (727.27us)   9.68ms (879.64us)        11\n",
      "   nlp_jac_g  |   2.00ms (153.85us)   1.95ms (150.15us)        13\n",
      "       total  |  35.00ms ( 35.00ms)  35.14ms ( 35.14ms)         1\n",
      "solution: f= 0.19986758276538422\n",
      "maximized objective =  0.3065261465011386\n",
      "mean(S) =  3.7570968056345175\n",
      "skew(S) =  0.2716718974189106\n",
      "      solver  :   t_proc      (avg)   t_wall      (avg)    n_eval\n",
      "       nlp_f  |  15.00ms (454.55us)  11.99ms (363.48us)        33\n",
      "       nlp_g  |   1.00ms ( 83.33us) 812.00us ( 67.67us)        12\n",
      "  nlp_grad_f  |   3.00ms (250.00us)   5.06ms (422.08us)        12\n",
      "  nlp_hess_l  |   7.00ms (700.00us)   7.64ms (763.60us)        10\n",
      "   nlp_jac_g  |   1.00ms ( 83.33us)   1.41ms (117.75us)        12\n",
      "       total  |  28.00ms ( 28.00ms)  27.82ms ( 27.82ms)         1\n",
      "solution: f= 0.2254237170955362\n",
      "maximized objective =  0.6798956983915941\n",
      "mean(S) =  3.64866250128272\n",
      "skew(S) =  0.2793180843823238\n",
      "      solver  :   t_proc      (avg)   t_wall      (avg)    n_eval\n",
      "       nlp_f  |  14.00ms (466.67us)  12.38ms (412.77us)        30\n",
      "       nlp_g  |        0 (       0) 968.00us ( 88.00us)        11\n",
      "  nlp_grad_f  |   5.00ms (454.55us)   4.84ms (440.18us)        11\n",
      "  nlp_hess_l  |   8.00ms (888.89us)   7.95ms (883.11us)         9\n",
      "   nlp_jac_g  |   1.00ms ( 90.91us)   1.32ms (119.91us)        11\n",
      "       total  |  28.00ms ( 28.00ms)  28.44ms ( 28.44ms)         1\n",
      "solution: f= 0.25514271348640943\n",
      "maximized objective =  1.0392130696215982\n",
      "mean(S) =  3.528116982731944\n",
      "skew(S) =  0.3050759441717743\n",
      "      solver  :   t_proc      (avg)   t_wall      (avg)    n_eval\n",
      "       nlp_f  |   7.00ms (269.23us)   9.32ms (358.35us)        26\n",
      "       nlp_g  |   1.00ms (111.11us) 706.00us ( 78.44us)         9\n",
      "  nlp_grad_f  |   4.00ms (400.00us)   4.36ms (435.80us)        10\n",
      "  nlp_hess_l  |   8.00ms (  1.00ms)   7.12ms (890.25us)         8\n",
      "   nlp_jac_g  |   3.00ms (300.00us)   1.62ms (162.30us)        10\n",
      "       total  |  24.00ms ( 24.00ms)  23.97ms ( 23.97ms)         1\n",
      "solution: f= 0.29546321255012886\n",
      "maximized objective =  1.3794181680980033\n",
      "mean(S) =  3.3757734603139857\n",
      "skew(S) =  0.36619261777729584\n",
      "      solver  :   t_proc      (avg)   t_wall      (avg)    n_eval\n",
      "       nlp_f  |  11.00ms (478.26us)   8.96ms (389.74us)        23\n",
      "       nlp_g  |        0 (       0) 719.00us ( 89.87us)         8\n",
      "  nlp_grad_f  |   3.00ms (333.33us)   4.00ms (444.56us)         9\n",
      "  nlp_hess_l  |   7.00ms (  1.00ms)   6.65ms (950.00us)         7\n",
      "   nlp_jac_g  |        0 (       0)   1.10ms (122.56us)         9\n",
      "       total  |  23.00ms ( 23.00ms)  23.24ms ( 23.24ms)         1\n",
      "solution: f= 0.3631284143516104\n",
      "maximized objective =  1.6891942089684302\n",
      "mean(S) =  3.1543842804346234\n",
      "skew(S) =  0.5117568970287031\n",
      "      solver  :   t_proc      (avg)   t_wall      (avg)    n_eval\n",
      "       nlp_f  |   6.00ms (300.00us)   7.92ms (396.10us)        20\n",
      "       nlp_g  |        0 (       0) 527.00us ( 75.29us)         7\n",
      "  nlp_grad_f  |   5.00ms (625.00us)   3.56ms (444.62us)         8\n",
      "  nlp_hess_l  |   6.00ms (  1.00ms)   5.08ms (847.17us)         6\n",
      "   nlp_jac_g  |   1.00ms (125.00us) 966.00us (120.75us)         8\n",
      "       total  |  19.00ms ( 19.00ms)  18.86ms ( 18.86ms)         1\n",
      "solution: f= 0.468549036150871\n",
      "maximized objective =  1.948231187064312\n",
      "mean(S) =  2.9083516352833967\n",
      "skew(S) =  0.7534678362879285\n",
      "      solver  :   t_proc      (avg)   t_wall      (avg)    n_eval\n",
      "       nlp_f  |   6.00ms (300.00us)   7.69ms (384.35us)        20\n",
      "       nlp_g  |   2.00ms (285.71us) 579.00us ( 82.71us)         7\n",
      "  nlp_grad_f  |   6.00ms (750.00us)   3.68ms (460.37us)         8\n",
      "  nlp_hess_l  |   4.00ms (666.67us)   4.84ms (806.50us)         6\n",
      "   nlp_jac_g  |        0 (       0) 912.00us (114.00us)         8\n",
      "       total  |  19.00ms ( 19.00ms)  18.51ms ( 18.51ms)         1\n",
      "solution: f= 0.5181585695407835\n",
      "maximized objective =  2.171678016681982\n",
      "mean(S) =  2.8366091219992478\n",
      "skew(S) =  0.8615662349182684\n",
      "      solver  :   t_proc      (avg)   t_wall      (avg)    n_eval\n",
      "       nlp_f  |   6.00ms (300.00us)   7.21ms (360.30us)        20\n",
      "       nlp_g  |        0 (       0) 473.00us ( 67.57us)         7\n",
      "  nlp_grad_f  |   2.00ms (250.00us)   3.81ms (476.75us)         8\n",
      "  nlp_hess_l  |   7.00ms (  1.17ms)   5.01ms (834.50us)         6\n",
      "   nlp_jac_g  |   2.00ms (250.00us)   1.16ms (145.25us)         8\n",
      "       total  |  19.00ms ( 19.00ms)  18.60ms ( 18.60ms)         1\n",
      "solution: f= 0.5499918456773633\n",
      "maximized objective =  2.380564686205062\n",
      "mean(S) =  2.8052526906009803\n",
      "skew(S) =  0.9407687688628055\n",
      "      solver  :   t_proc      (avg)   t_wall      (avg)    n_eval\n",
      "       nlp_f  |   7.00ms (350.00us)   7.51ms (375.50us)        20\n",
      "       nlp_g  |        0 (       0) 503.00us ( 71.86us)         7\n",
      "  nlp_grad_f  |   4.00ms (500.00us)   4.13ms (516.12us)         8\n",
      "  nlp_hess_l  |   5.00ms (833.33us)   4.56ms (759.83us)         6\n",
      "   nlp_jac_g  |   2.00ms (250.00us) 999.00us (124.87us)         8\n",
      "       total  |  19.00ms ( 19.00ms)  18.65ms ( 18.65ms)         1\n",
      "solution: f= 0.5811059143991393\n",
      "maximized objective =  2.577515224034951\n",
      "mean(S) =  2.7853786207856834\n",
      "skew(S) =  1.036994909798225\n",
      "      solver  :   t_proc      (avg)   t_wall      (avg)    n_eval\n",
      "       nlp_f  |   9.00ms (450.00us)   7.52ms (376.15us)        20\n",
      "       nlp_g  |   1.00ms (142.86us) 684.00us ( 97.71us)         7\n",
      "  nlp_grad_f  |   2.00ms (250.00us)   3.34ms (417.87us)         8\n",
      "  nlp_hess_l  |   3.00ms (500.00us)   4.84ms (806.50us)         6\n",
      "   nlp_jac_g  |   1.00ms (125.00us) 963.00us (120.37us)         8\n",
      "       total  |  18.00ms ( 18.00ms)  18.15ms ( 18.15ms)         1\n",
      "solution: f= 0.6218955971259635\n",
      "maximized objective =  2.7591668548513826\n",
      "mean(S) =  2.774871956742308\n",
      "skew(S) =  1.2043617676497544\n"
     ]
    },
    {
     "data": {
      "application/vnd.plotly.v1+json": {
       "config": {
        "plotlyServerURL": "https://plot.ly"
       },
       "data": [
        {
         "hoverinfo": "text",
         "marker": {
          "color": "blue",
          "line": {
           "color": "black",
           "width": 2
          },
          "size": 12,
          "symbol": "circle"
         },
         "mode": "markers",
         "name": "min_mean_and_skew",
         "text": [
          "f: 0.650<br>cnt_r: 1<br>cnt_d: 1<br>alpha: 0.01",
          "f: 0.650<br>cnt_r: 1<br>cnt_d: 1<br>alpha: 0.11888888888888888",
          "f: 0.650<br>cnt_r: 1<br>cnt_d: 1<br>alpha: 0.22777777777777777",
          "f: 0.746<br>cnt_r: 1<br>cnt_d: 1<br>alpha: 0.33666666666666667",
          "f: 0.906<br>cnt_r: 1<br>cnt_d: 1<br>alpha: 0.44555555555555554",
          "f: 1.000<br>cnt_r: 1<br>cnt_d: 1<br>alpha: 0.5544444444444444",
          "f: 1.000<br>cnt_r: 1<br>cnt_d: 1<br>alpha: 0.6633333333333333",
          "f: 1.000<br>cnt_r: 1<br>cnt_d: 1<br>alpha: 0.7722222222222221",
          "f: 1.000<br>cnt_r: 1<br>cnt_d: 1<br>alpha: 0.8811111111111111",
          "f: 1.000<br>cnt_r: 1<br>cnt_d: 1<br>alpha: 0.99",
          "f: 0.251<br>cnt_r: 1<br>cnt_d: 2<br>alpha: 0.01",
          "f: 0.251<br>cnt_r: 1<br>cnt_d: 2<br>alpha: 0.11888888888888888",
          "f: 0.251<br>cnt_r: 1<br>cnt_d: 2<br>alpha: 0.22777777777777777",
          "f: 0.251<br>cnt_r: 1<br>cnt_d: 2<br>alpha: 0.33666666666666667",
          "f: 0.294<br>cnt_r: 1<br>cnt_d: 2<br>alpha: 0.44555555555555554",
          "f: 0.342<br>cnt_r: 1<br>cnt_d: 2<br>alpha: 0.5544444444444444",
          "f: 0.378<br>cnt_r: 1<br>cnt_d: 2<br>alpha: 0.6633333333333333",
          "f: 0.411<br>cnt_r: 1<br>cnt_d: 2<br>alpha: 0.7722222222222221",
          "f: 0.452<br>cnt_r: 1<br>cnt_d: 2<br>alpha: 0.8811111111111111",
          "f: 0.526<br>cnt_r: 1<br>cnt_d: 2<br>alpha: 0.99",
          "f: 0.295<br>cnt_r: 1<br>cnt_d: 3<br>alpha: 0.01",
          "f: 0.295<br>cnt_r: 1<br>cnt_d: 3<br>alpha: 0.11888888888888888",
          "f: 0.295<br>cnt_r: 1<br>cnt_d: 3<br>alpha: 0.22777777777777777",
          "f: 0.300<br>cnt_r: 1<br>cnt_d: 3<br>alpha: 0.33666666666666667",
          "f: 0.370<br>cnt_r: 1<br>cnt_d: 3<br>alpha: 0.44555555555555554",
          "f: 0.431<br>cnt_r: 1<br>cnt_d: 3<br>alpha: 0.5544444444444444",
          "f: 0.473<br>cnt_r: 1<br>cnt_d: 3<br>alpha: 0.6633333333333333",
          "f: 0.512<br>cnt_r: 1<br>cnt_d: 3<br>alpha: 0.7722222222222221",
          "f: 0.560<br>cnt_r: 1<br>cnt_d: 3<br>alpha: 0.8811111111111111",
          "f: 0.643<br>cnt_r: 1<br>cnt_d: 3<br>alpha: 0.99",
          "f: 0.259<br>cnt_r: 1<br>cnt_d: 4<br>alpha: 0.01",
          "f: 0.259<br>cnt_r: 1<br>cnt_d: 4<br>alpha: 0.11888888888888888",
          "f: 0.280<br>cnt_r: 1<br>cnt_d: 4<br>alpha: 0.22777777777777777",
          "f: 0.323<br>cnt_r: 1<br>cnt_d: 4<br>alpha: 0.33666666666666667",
          "f: 0.391<br>cnt_r: 1<br>cnt_d: 4<br>alpha: 0.44555555555555554",
          "f: 0.481<br>cnt_r: 1<br>cnt_d: 4<br>alpha: 0.5544444444444444",
          "f: 0.535<br>cnt_r: 1<br>cnt_d: 4<br>alpha: 0.6633333333333333",
          "f: 0.573<br>cnt_r: 1<br>cnt_d: 4<br>alpha: 0.7722222222222221",
          "f: 0.610<br>cnt_r: 1<br>cnt_d: 4<br>alpha: 0.8811111111111111",
          "f: 0.663<br>cnt_r: 1<br>cnt_d: 4<br>alpha: 0.99",
          "f: 0.543<br>cnt_r: 2<br>cnt_d: 4<br>alpha: 0.01",
          "f: 0.543<br>cnt_r: 2<br>cnt_d: 4<br>alpha: 0.11888888888888888",
          "f: 0.543<br>cnt_r: 2<br>cnt_d: 4<br>alpha: 0.22777777777777777",
          "f: 0.543<br>cnt_r: 2<br>cnt_d: 4<br>alpha: 0.33666666666666667",
          "f: 0.543<br>cnt_r: 2<br>cnt_d: 4<br>alpha: 0.44555555555555554",
          "f: 0.606<br>cnt_r: 2<br>cnt_d: 4<br>alpha: 0.5544444444444444",
          "f: 0.657<br>cnt_r: 2<br>cnt_d: 4<br>alpha: 0.6633333333333333",
          "f: 0.696<br>cnt_r: 2<br>cnt_d: 4<br>alpha: 0.7722222222222221",
          "f: 0.738<br>cnt_r: 2<br>cnt_d: 4<br>alpha: 0.8811111111111111",
          "f: 0.799<br>cnt_r: 2<br>cnt_d: 4<br>alpha: 0.99",
          "f: 0.474<br>cnt_r: 3<br>cnt_d: 1<br>alpha: 0.01",
          "f: 0.506<br>cnt_r: 3<br>cnt_d: 1<br>alpha: 0.11888888888888888",
          "f: 0.579<br>cnt_r: 3<br>cnt_d: 1<br>alpha: 0.22777777777777777",
          "f: 0.683<br>cnt_r: 3<br>cnt_d: 1<br>alpha: 0.33666666666666667",
          "f: 0.841<br>cnt_r: 3<br>cnt_d: 1<br>alpha: 0.44555555555555554",
          "f: 1.000<br>cnt_r: 3<br>cnt_d: 1<br>alpha: 0.5544444444444444",
          "f: 1.000<br>cnt_r: 3<br>cnt_d: 1<br>alpha: 0.6633333333333333",
          "f: 1.000<br>cnt_r: 3<br>cnt_d: 1<br>alpha: 0.7722222222222221",
          "f: 1.000<br>cnt_r: 3<br>cnt_d: 1<br>alpha: 0.8811111111111111",
          "f: 1.000<br>cnt_r: 3<br>cnt_d: 1<br>alpha: 0.99",
          "f: 0.180<br>cnt_r: 3<br>cnt_d: 2<br>alpha: 0.01",
          "f: 0.180<br>cnt_r: 3<br>cnt_d: 2<br>alpha: 0.11888888888888888",
          "f: 0.204<br>cnt_r: 3<br>cnt_d: 2<br>alpha: 0.22777777777777777",
          "f: 0.239<br>cnt_r: 3<br>cnt_d: 2<br>alpha: 0.33666666666666667",
          "f: 0.286<br>cnt_r: 3<br>cnt_d: 2<br>alpha: 0.44555555555555554",
          "f: 0.328<br>cnt_r: 3<br>cnt_d: 2<br>alpha: 0.5544444444444444",
          "f: 0.360<br>cnt_r: 3<br>cnt_d: 2<br>alpha: 0.6633333333333333",
          "f: 0.391<br>cnt_r: 3<br>cnt_d: 2<br>alpha: 0.7722222222222221",
          "f: 0.429<br>cnt_r: 3<br>cnt_d: 2<br>alpha: 0.8811111111111111",
          "f: 0.493<br>cnt_r: 3<br>cnt_d: 2<br>alpha: 0.99",
          "f: 0.213<br>cnt_r: 3<br>cnt_d: 3<br>alpha: 0.01",
          "f: 0.213<br>cnt_r: 3<br>cnt_d: 3<br>alpha: 0.11888888888888888",
          "f: 0.230<br>cnt_r: 3<br>cnt_d: 3<br>alpha: 0.22777777777777777",
          "f: 0.271<br>cnt_r: 3<br>cnt_d: 3<br>alpha: 0.33666666666666667",
          "f: 0.354<br>cnt_r: 3<br>cnt_d: 3<br>alpha: 0.44555555555555554",
          "f: 0.420<br>cnt_r: 3<br>cnt_d: 3<br>alpha: 0.5544444444444444",
          "f: 0.459<br>cnt_r: 3<br>cnt_d: 3<br>alpha: 0.6633333333333333",
          "f: 0.493<br>cnt_r: 3<br>cnt_d: 3<br>alpha: 0.7722222222222221",
          "f: 0.534<br>cnt_r: 3<br>cnt_d: 3<br>alpha: 0.8811111111111111",
          "f: 0.602<br>cnt_r: 3<br>cnt_d: 3<br>alpha: 0.99",
          "f: 0.200<br>cnt_r: 3<br>cnt_d: 4<br>alpha: 0.01",
          "f: 0.225<br>cnt_r: 3<br>cnt_d: 4<br>alpha: 0.11888888888888888",
          "f: 0.255<br>cnt_r: 3<br>cnt_d: 4<br>alpha: 0.22777777777777777",
          "f: 0.295<br>cnt_r: 3<br>cnt_d: 4<br>alpha: 0.33666666666666667",
          "f: 0.363<br>cnt_r: 3<br>cnt_d: 4<br>alpha: 0.44555555555555554",
          "f: 0.469<br>cnt_r: 3<br>cnt_d: 4<br>alpha: 0.5544444444444444",
          "f: 0.518<br>cnt_r: 3<br>cnt_d: 4<br>alpha: 0.6633333333333333",
          "f: 0.550<br>cnt_r: 3<br>cnt_d: 4<br>alpha: 0.7722222222222221",
          "f: 0.581<br>cnt_r: 3<br>cnt_d: 4<br>alpha: 0.8811111111111111",
          "f: 0.622<br>cnt_r: 3<br>cnt_d: 4<br>alpha: 0.99"
         ],
         "type": "scatter",
         "x": [
          3.8000000347205924,
          3.8000000318046054,
          3.799999981966589,
          3.6590132353402556,
          3.457216576126551,
          3.358762215886629,
          3.3587622079809356,
          3.3587622066499656,
          3.358762206100813,
          3.3587622058009883,
          3.8000000361700796,
          3.800000035343103,
          3.8000000331521355,
          3.8000000103537923,
          3.6558339405973825,
          3.5230983169561174,
          3.445867575025503,
          3.3886108482155133,
          3.3374110685492413,
          3.298196932228868,
          3.800000035868604,
          3.8000000347487686,
          3.800000031141023,
          3.783077313339484,
          3.5836131054884355,
          3.4454872338785854,
          3.3709619163137794,
          3.317373518003779,
          3.2704612020604773,
          3.2356401731807645,
          3.8000000323091867,
          3.8000000164447316,
          3.71547668142732,
          3.554113221599881,
          3.333767160660254,
          3.1124420613894164,
          3.022638061568177,
          2.979265134922481,
          2.9502710596382147,
          2.9335278913101166,
          3.800000036899053,
          3.8000000365681816,
          3.800000035952968,
          3.8000000344109677,
          3.800000023448489,
          3.672319262474539,
          3.596822315696998,
          3.5539747076752035,
          3.522479898130046,
          3.5038822380563253,
          3.800000019388007,
          3.74638525436279,
          3.6275999847873033,
          3.471506429084323,
          3.269061261453626,
          3.1134408159526576,
          3.1134405627730275,
          3.1134405607576308,
          3.1134405600827963,
          3.113440559743875,
          3.800000029751897,
          3.798590320577247,
          3.699661812743266,
          3.566848046150437,
          3.4117981991044077,
          3.303739580211643,
          3.236384494290573,
          3.186128017743036,
          3.142869252529456,
          3.111987709465667,
          3.8000000322458174,
          3.8000000156307476,
          3.7361142304653496,
          3.5976454856039237,
          3.3632972646345443,
          3.2231849484004704,
          3.163486373254768,
          3.122129385751564,
          3.087083936711899,
          3.0623235216669213,
          3.7570968056345175,
          3.64866250128272,
          3.528116982731944,
          3.3757734603139857,
          3.1543842804346234,
          2.9083516352833967,
          2.8366091219992478,
          2.8052526906009803,
          2.7853786207856834,
          2.774871956742308
         ],
         "y": [
          0.15305778792303948,
          0.1530577888507073,
          0.15305780470557706,
          0.21133939561507828,
          0.34208495544194173,
          0.4317785189921221,
          0.4317785272320252,
          0.43177852861926086,
          0.4317785291916286,
          0.4317785295041239,
          0.13421529789070466,
          0.13421529835555124,
          0.13421529958706963,
          0.13421531240191537,
          0.23188396883737472,
          0.3627249099810209,
          0.4823461317664473,
          0.6293114506419386,
          0.8829963560721629,
          1.5449825851988512,
          0.156396531260878,
          0.1563965318028773,
          0.1563965335490557,
          0.16478662204859537,
          0.2941845201655588,
          0.42984106286299306,
          0.5450827878762257,
          0.6825028383304359,
          0.9145766583653513,
          1.4986768134136,
          0.161512716679613,
          0.16151271965585923,
          0.18187466310923395,
          0.24655202349637373,
          0.39077603132258903,
          0.6094204574532799,
          0.7457102437166703,
          0.855477256674041,
          0.9965178117782045,
          1.2679544958451807,
          0.5062664687311113,
          0.5062664690380085,
          0.5062664696086686,
          0.5062664710389994,
          0.506266481207581,
          0.6406423704016325,
          0.7559591604056067,
          0.8649994774217405,
          1.0188280925573432,
          1.317301576960993,
          0.2416686788401861,
          0.2470082645347826,
          0.27250818712695546,
          0.33512133579059705,
          0.4668240718065756,
          0.6192085263855697,
          0.619208838950756,
          0.6192088414388812,
          0.6192088422720052,
          0.6192088426904262,
          0.21669862900037795,
          0.21688724846347138,
          0.23814489914022846,
          0.29145212434498063,
          0.3913407575511993,
          0.4981806583292607,
          0.6026371287081876,
          0.7315263241244138,
          0.945021677230295,
          1.4622382375031469,
          0.19860412330206867,
          0.19860412638737163,
          0.2139860168116059,
          0.2699886601692074,
          0.42375850943687754,
          0.5592016898528437,
          0.6512985427600088,
          0.7572386113378485,
          0.9300825779712064,
          1.3452176559329916,
          0.2716718974189106,
          0.2793180843823238,
          0.3050759441717743,
          0.36619261777729584,
          0.5117568970287031,
          0.7534678362879285,
          0.8615662349182684,
          0.9407687688628055,
          1.036994909798225,
          1.2043617676497544
         ]
        }
       ],
       "layout": {
        "showlegend": true,
        "template": {
         "data": {
          "bar": [
           {
            "error_x": {
             "color": "#2a3f5f"
            },
            "error_y": {
             "color": "#2a3f5f"
            },
            "marker": {
             "line": {
              "color": "#E5ECF6",
              "width": 0.5
             },
             "pattern": {
              "fillmode": "overlay",
              "size": 10,
              "solidity": 0.2
             }
            },
            "type": "bar"
           }
          ],
          "barpolar": [
           {
            "marker": {
             "line": {
              "color": "#E5ECF6",
              "width": 0.5
             },
             "pattern": {
              "fillmode": "overlay",
              "size": 10,
              "solidity": 0.2
             }
            },
            "type": "barpolar"
           }
          ],
          "carpet": [
           {
            "aaxis": {
             "endlinecolor": "#2a3f5f",
             "gridcolor": "white",
             "linecolor": "white",
             "minorgridcolor": "white",
             "startlinecolor": "#2a3f5f"
            },
            "baxis": {
             "endlinecolor": "#2a3f5f",
             "gridcolor": "white",
             "linecolor": "white",
             "minorgridcolor": "white",
             "startlinecolor": "#2a3f5f"
            },
            "type": "carpet"
           }
          ],
          "choropleth": [
           {
            "colorbar": {
             "outlinewidth": 0,
             "ticks": ""
            },
            "type": "choropleth"
           }
          ],
          "contour": [
           {
            "colorbar": {
             "outlinewidth": 0,
             "ticks": ""
            },
            "colorscale": [
             [
              0,
              "#0d0887"
             ],
             [
              0.1111111111111111,
              "#46039f"
             ],
             [
              0.2222222222222222,
              "#7201a8"
             ],
             [
              0.3333333333333333,
              "#9c179e"
             ],
             [
              0.4444444444444444,
              "#bd3786"
             ],
             [
              0.5555555555555556,
              "#d8576b"
             ],
             [
              0.6666666666666666,
              "#ed7953"
             ],
             [
              0.7777777777777778,
              "#fb9f3a"
             ],
             [
              0.8888888888888888,
              "#fdca26"
             ],
             [
              1,
              "#f0f921"
             ]
            ],
            "type": "contour"
           }
          ],
          "contourcarpet": [
           {
            "colorbar": {
             "outlinewidth": 0,
             "ticks": ""
            },
            "type": "contourcarpet"
           }
          ],
          "heatmap": [
           {
            "colorbar": {
             "outlinewidth": 0,
             "ticks": ""
            },
            "colorscale": [
             [
              0,
              "#0d0887"
             ],
             [
              0.1111111111111111,
              "#46039f"
             ],
             [
              0.2222222222222222,
              "#7201a8"
             ],
             [
              0.3333333333333333,
              "#9c179e"
             ],
             [
              0.4444444444444444,
              "#bd3786"
             ],
             [
              0.5555555555555556,
              "#d8576b"
             ],
             [
              0.6666666666666666,
              "#ed7953"
             ],
             [
              0.7777777777777778,
              "#fb9f3a"
             ],
             [
              0.8888888888888888,
              "#fdca26"
             ],
             [
              1,
              "#f0f921"
             ]
            ],
            "type": "heatmap"
           }
          ],
          "histogram": [
           {
            "marker": {
             "pattern": {
              "fillmode": "overlay",
              "size": 10,
              "solidity": 0.2
             }
            },
            "type": "histogram"
           }
          ],
          "histogram2d": [
           {
            "colorbar": {
             "outlinewidth": 0,
             "ticks": ""
            },
            "colorscale": [
             [
              0,
              "#0d0887"
             ],
             [
              0.1111111111111111,
              "#46039f"
             ],
             [
              0.2222222222222222,
              "#7201a8"
             ],
             [
              0.3333333333333333,
              "#9c179e"
             ],
             [
              0.4444444444444444,
              "#bd3786"
             ],
             [
              0.5555555555555556,
              "#d8576b"
             ],
             [
              0.6666666666666666,
              "#ed7953"
             ],
             [
              0.7777777777777778,
              "#fb9f3a"
             ],
             [
              0.8888888888888888,
              "#fdca26"
             ],
             [
              1,
              "#f0f921"
             ]
            ],
            "type": "histogram2d"
           }
          ],
          "histogram2dcontour": [
           {
            "colorbar": {
             "outlinewidth": 0,
             "ticks": ""
            },
            "colorscale": [
             [
              0,
              "#0d0887"
             ],
             [
              0.1111111111111111,
              "#46039f"
             ],
             [
              0.2222222222222222,
              "#7201a8"
             ],
             [
              0.3333333333333333,
              "#9c179e"
             ],
             [
              0.4444444444444444,
              "#bd3786"
             ],
             [
              0.5555555555555556,
              "#d8576b"
             ],
             [
              0.6666666666666666,
              "#ed7953"
             ],
             [
              0.7777777777777778,
              "#fb9f3a"
             ],
             [
              0.8888888888888888,
              "#fdca26"
             ],
             [
              1,
              "#f0f921"
             ]
            ],
            "type": "histogram2dcontour"
           }
          ],
          "mesh3d": [
           {
            "colorbar": {
             "outlinewidth": 0,
             "ticks": ""
            },
            "type": "mesh3d"
           }
          ],
          "parcoords": [
           {
            "line": {
             "colorbar": {
              "outlinewidth": 0,
              "ticks": ""
             }
            },
            "type": "parcoords"
           }
          ],
          "pie": [
           {
            "automargin": true,
            "type": "pie"
           }
          ],
          "scatter": [
           {
            "fillpattern": {
             "fillmode": "overlay",
             "size": 10,
             "solidity": 0.2
            },
            "type": "scatter"
           }
          ],
          "scatter3d": [
           {
            "line": {
             "colorbar": {
              "outlinewidth": 0,
              "ticks": ""
             }
            },
            "marker": {
             "colorbar": {
              "outlinewidth": 0,
              "ticks": ""
             }
            },
            "type": "scatter3d"
           }
          ],
          "scattercarpet": [
           {
            "marker": {
             "colorbar": {
              "outlinewidth": 0,
              "ticks": ""
             }
            },
            "type": "scattercarpet"
           }
          ],
          "scattergeo": [
           {
            "marker": {
             "colorbar": {
              "outlinewidth": 0,
              "ticks": ""
             }
            },
            "type": "scattergeo"
           }
          ],
          "scattergl": [
           {
            "marker": {
             "colorbar": {
              "outlinewidth": 0,
              "ticks": ""
             }
            },
            "type": "scattergl"
           }
          ],
          "scattermap": [
           {
            "marker": {
             "colorbar": {
              "outlinewidth": 0,
              "ticks": ""
             }
            },
            "type": "scattermap"
           }
          ],
          "scattermapbox": [
           {
            "marker": {
             "colorbar": {
              "outlinewidth": 0,
              "ticks": ""
             }
            },
            "type": "scattermapbox"
           }
          ],
          "scatterpolar": [
           {
            "marker": {
             "colorbar": {
              "outlinewidth": 0,
              "ticks": ""
             }
            },
            "type": "scatterpolar"
           }
          ],
          "scatterpolargl": [
           {
            "marker": {
             "colorbar": {
              "outlinewidth": 0,
              "ticks": ""
             }
            },
            "type": "scatterpolargl"
           }
          ],
          "scatterternary": [
           {
            "marker": {
             "colorbar": {
              "outlinewidth": 0,
              "ticks": ""
             }
            },
            "type": "scatterternary"
           }
          ],
          "surface": [
           {
            "colorbar": {
             "outlinewidth": 0,
             "ticks": ""
            },
            "colorscale": [
             [
              0,
              "#0d0887"
             ],
             [
              0.1111111111111111,
              "#46039f"
             ],
             [
              0.2222222222222222,
              "#7201a8"
             ],
             [
              0.3333333333333333,
              "#9c179e"
             ],
             [
              0.4444444444444444,
              "#bd3786"
             ],
             [
              0.5555555555555556,
              "#d8576b"
             ],
             [
              0.6666666666666666,
              "#ed7953"
             ],
             [
              0.7777777777777778,
              "#fb9f3a"
             ],
             [
              0.8888888888888888,
              "#fdca26"
             ],
             [
              1,
              "#f0f921"
             ]
            ],
            "type": "surface"
           }
          ],
          "table": [
           {
            "cells": {
             "fill": {
              "color": "#EBF0F8"
             },
             "line": {
              "color": "white"
             }
            },
            "header": {
             "fill": {
              "color": "#C8D4E3"
             },
             "line": {
              "color": "white"
             }
            },
            "type": "table"
           }
          ]
         },
         "layout": {
          "annotationdefaults": {
           "arrowcolor": "#2a3f5f",
           "arrowhead": 0,
           "arrowwidth": 1
          },
          "autotypenumbers": "strict",
          "coloraxis": {
           "colorbar": {
            "outlinewidth": 0,
            "ticks": ""
           }
          },
          "colorscale": {
           "diverging": [
            [
             0,
             "#8e0152"
            ],
            [
             0.1,
             "#c51b7d"
            ],
            [
             0.2,
             "#de77ae"
            ],
            [
             0.3,
             "#f1b6da"
            ],
            [
             0.4,
             "#fde0ef"
            ],
            [
             0.5,
             "#f7f7f7"
            ],
            [
             0.6,
             "#e6f5d0"
            ],
            [
             0.7,
             "#b8e186"
            ],
            [
             0.8,
             "#7fbc41"
            ],
            [
             0.9,
             "#4d9221"
            ],
            [
             1,
             "#276419"
            ]
           ],
           "sequential": [
            [
             0,
             "#0d0887"
            ],
            [
             0.1111111111111111,
             "#46039f"
            ],
            [
             0.2222222222222222,
             "#7201a8"
            ],
            [
             0.3333333333333333,
             "#9c179e"
            ],
            [
             0.4444444444444444,
             "#bd3786"
            ],
            [
             0.5555555555555556,
             "#d8576b"
            ],
            [
             0.6666666666666666,
             "#ed7953"
            ],
            [
             0.7777777777777778,
             "#fb9f3a"
            ],
            [
             0.8888888888888888,
             "#fdca26"
            ],
            [
             1,
             "#f0f921"
            ]
           ],
           "sequentialminus": [
            [
             0,
             "#0d0887"
            ],
            [
             0.1111111111111111,
             "#46039f"
            ],
            [
             0.2222222222222222,
             "#7201a8"
            ],
            [
             0.3333333333333333,
             "#9c179e"
            ],
            [
             0.4444444444444444,
             "#bd3786"
            ],
            [
             0.5555555555555556,
             "#d8576b"
            ],
            [
             0.6666666666666666,
             "#ed7953"
            ],
            [
             0.7777777777777778,
             "#fb9f3a"
            ],
            [
             0.8888888888888888,
             "#fdca26"
            ],
            [
             1,
             "#f0f921"
            ]
           ]
          },
          "colorway": [
           "#636efa",
           "#EF553B",
           "#00cc96",
           "#ab63fa",
           "#FFA15A",
           "#19d3f3",
           "#FF6692",
           "#B6E880",
           "#FF97FF",
           "#FECB52"
          ],
          "font": {
           "color": "#2a3f5f"
          },
          "geo": {
           "bgcolor": "white",
           "lakecolor": "white",
           "landcolor": "#E5ECF6",
           "showlakes": true,
           "showland": true,
           "subunitcolor": "white"
          },
          "hoverlabel": {
           "align": "left"
          },
          "hovermode": "closest",
          "mapbox": {
           "style": "light"
          },
          "paper_bgcolor": "white",
          "plot_bgcolor": "#E5ECF6",
          "polar": {
           "angularaxis": {
            "gridcolor": "white",
            "linecolor": "white",
            "ticks": ""
           },
           "bgcolor": "#E5ECF6",
           "radialaxis": {
            "gridcolor": "white",
            "linecolor": "white",
            "ticks": ""
           }
          },
          "scene": {
           "xaxis": {
            "backgroundcolor": "#E5ECF6",
            "gridcolor": "white",
            "gridwidth": 2,
            "linecolor": "white",
            "showbackground": true,
            "ticks": "",
            "zerolinecolor": "white"
           },
           "yaxis": {
            "backgroundcolor": "#E5ECF6",
            "gridcolor": "white",
            "gridwidth": 2,
            "linecolor": "white",
            "showbackground": true,
            "ticks": "",
            "zerolinecolor": "white"
           },
           "zaxis": {
            "backgroundcolor": "#E5ECF6",
            "gridcolor": "white",
            "gridwidth": 2,
            "linecolor": "white",
            "showbackground": true,
            "ticks": "",
            "zerolinecolor": "white"
           }
          },
          "shapedefaults": {
           "line": {
            "color": "#2a3f5f"
           }
          },
          "ternary": {
           "aaxis": {
            "gridcolor": "white",
            "linecolor": "white",
            "ticks": ""
           },
           "baxis": {
            "gridcolor": "white",
            "linecolor": "white",
            "ticks": ""
           },
           "bgcolor": "#E5ECF6",
           "caxis": {
            "gridcolor": "white",
            "linecolor": "white",
            "ticks": ""
           }
          },
          "title": {
           "x": 0.05
          },
          "xaxis": {
           "automargin": true,
           "gridcolor": "white",
           "linecolor": "white",
           "ticks": "",
           "title": {
            "standoff": 15
           },
           "zerolinecolor": "white",
           "zerolinewidth": 2
          },
          "yaxis": {
           "automargin": true,
           "gridcolor": "white",
           "linecolor": "white",
           "ticks": "",
           "title": {
            "standoff": 15
           },
           "zerolinecolor": "white",
           "zerolinewidth": 2
          }
         }
        },
        "title": {
         "text": "Pareto Plot: S_mean vs S_skew"
        },
        "xaxis": {
         "title": {
          "text": "S_mean"
         }
        },
        "yaxis": {
         "title": {
          "text": "S_skew"
         }
        }
       }
      }
     },
     "metadata": {},
     "output_type": "display_data"
    }
   ],
   "source": [
    "obj = 'min_mean_and_skew'\n",
    "cnt_r=0\n",
    "cnt_d=0\n",
    "solutions = []\n",
    "for R in [R1,R2,R3]:\n",
    "    cnt_r+=1\n",
    "    cnt_d=0\n",
    "    for D in [D1,D2,D3,D4]:\n",
    "        cnt_d+=1\n",
    "        for alpha in np.linspace(0.01,0.99,10):\n",
    "            try:\n",
    "                f_opt, S_mean, S_skew = inner_op(R,D,obj,verbose=True,alpha=alpha)\n",
    "                solutions.append({\n",
    "                    'f': f_opt,\n",
    "                    'cnt_r': cnt_r,\n",
    "                    'cnt_d': cnt_d,\n",
    "                    'S_mean': S_mean,\n",
    "                    'S_skew': S_skew,\n",
    "                    'alpha': alpha\n",
    "                })\n",
    "            except:\n",
    "                print('no feasible solution')\n",
    "\n",
    "\n",
    "pareto_plot([solutions],labels=['min_mean_and_skew'])\n",
    "solutions3=solutions"
   ]
  },
  {
   "cell_type": "markdown",
   "id": "007fb5ff",
   "metadata": {},
   "source": [
    "selected \"best\" solution to minimize mean and skew:\n",
    "- f = 0.363\n",
    "- combination: R3 + D4\n",
    "\n",
    "![](./min_mean_and_skew.png)"
   ]
  },
  {
   "cell_type": "code",
   "execution_count": 19,
   "id": "0b433ba4",
   "metadata": {},
   "outputs": [
    {
     "name": "stdout",
     "output_type": "stream",
     "text": [
      "mean: 3.15, skewness: 0.51, std: 0.98\n"
     ]
    }
   ],
   "source": [
    "analyze_system_vibration(system_vibration(R3,D4,0.363))"
   ]
  },
  {
   "cell_type": "markdown",
   "id": "8cb3adaa",
   "metadata": {},
   "source": [
    "### pareto plot of all 3 versions"
   ]
  },
  {
   "cell_type": "code",
   "execution_count": 17,
   "id": "b2715b90",
   "metadata": {},
   "outputs": [
    {
     "data": {
      "application/vnd.plotly.v1+json": {
       "config": {
        "plotlyServerURL": "https://plot.ly"
       },
       "data": [
        {
         "hoverinfo": "text",
         "marker": {
          "color": "blue",
          "line": {
           "color": "black",
           "width": 2
          },
          "size": 12,
          "symbol": "circle"
         },
         "mode": "markers",
         "name": "Target Mean",
         "text": [
          "f: 1.000<br>cnt_r: 1<br>cnt_d: 1<br>alpha: None",
          "f: 0.536<br>cnt_r: 1<br>cnt_d: 2<br>alpha: None",
          "f: 0.654<br>cnt_r: 1<br>cnt_d: 3<br>alpha: None",
          "f: 0.441<br>cnt_r: 1<br>cnt_d: 4<br>alpha: None",
          "f: 0.806<br>cnt_r: 2<br>cnt_d: 4<br>alpha: None",
          "f: 0.906<br>cnt_r: 3<br>cnt_d: 1<br>alpha: None",
          "f: 0.382<br>cnt_r: 3<br>cnt_d: 2<br>alpha: None",
          "f: 0.434<br>cnt_r: 3<br>cnt_d: 3<br>alpha: None",
          "f: 0.348<br>cnt_r: 3<br>cnt_d: 4<br>alpha: None"
         ],
         "type": "scatter",
         "x": [
          3.3587622079296127,
          3.297718627596512,
          3.235221422396986,
          3.199999999066843,
          3.5036844275665184,
          3.200000003880397,
          3.1999999988396124,
          3.1999999990014323,
          3.1999999989493904
         ],
         "y": [
          0.43177852728553007,
          1.640436698127766,
          1.5823191899082534,
          0.5116610019045683,
          1.3569249461633983,
          0.5267751674635063,
          0.6884677605435701,
          0.5901677757071782,
          0.4764472277561279
         ]
        },
        {
         "hoverinfo": "text",
         "marker": {
          "color": "red",
          "line": {
           "color": "black",
           "width": 2
          },
          "size": 12,
          "symbol": "circle"
         },
         "mode": "markers",
         "name": "Min Mean",
         "text": [
          "f: 1.000<br>cnt_r: 1<br>cnt_d: 1<br>alpha: None",
          "f: 0.536<br>cnt_r: 1<br>cnt_d: 2<br>alpha: None",
          "f: 0.654<br>cnt_r: 1<br>cnt_d: 3<br>alpha: None",
          "f: 0.669<br>cnt_r: 1<br>cnt_d: 4<br>alpha: None",
          "f: 0.806<br>cnt_r: 2<br>cnt_d: 4<br>alpha: None",
          "f: 1.000<br>cnt_r: 3<br>cnt_d: 1<br>alpha: None",
          "f: 0.501<br>cnt_r: 3<br>cnt_d: 2<br>alpha: None",
          "f: 0.610<br>cnt_r: 3<br>cnt_d: 3<br>alpha: None",
          "f: 0.627<br>cnt_r: 3<br>cnt_d: 4<br>alpha: None"
         ],
         "type": "scatter",
         "x": [
          3.358762205780144,
          3.2977186275965003,
          3.235221422396968,
          2.9333382128977594,
          3.503684427566534,
          3.1134405597210257,
          3.1116075196335995,
          3.062012032758349,
          2.7747590399937727
         ],
         "y": [
          0.43177852952585266,
          1.6404366992374195,
          1.582319208717656,
          1.3060743369908379,
          1.3569249479771792,
          0.619208842718643,
          1.538441377848992,
          1.4078073723978257,
          1.2270722263297469
         ]
        },
        {
         "hoverinfo": "text",
         "marker": {
          "color": "green",
          "line": {
           "color": "black",
           "width": 2
          },
          "size": 12,
          "symbol": "circle"
         },
         "mode": "markers",
         "name": "Min Mean & Skew",
         "text": [
          "f: 0.650<br>cnt_r: 1<br>cnt_d: 1<br>alpha: 0.01",
          "f: 0.650<br>cnt_r: 1<br>cnt_d: 1<br>alpha: 0.11888888888888888",
          "f: 0.650<br>cnt_r: 1<br>cnt_d: 1<br>alpha: 0.22777777777777777",
          "f: 0.746<br>cnt_r: 1<br>cnt_d: 1<br>alpha: 0.33666666666666667",
          "f: 0.906<br>cnt_r: 1<br>cnt_d: 1<br>alpha: 0.44555555555555554",
          "f: 1.000<br>cnt_r: 1<br>cnt_d: 1<br>alpha: 0.5544444444444444",
          "f: 1.000<br>cnt_r: 1<br>cnt_d: 1<br>alpha: 0.6633333333333333",
          "f: 1.000<br>cnt_r: 1<br>cnt_d: 1<br>alpha: 0.7722222222222221",
          "f: 1.000<br>cnt_r: 1<br>cnt_d: 1<br>alpha: 0.8811111111111111",
          "f: 1.000<br>cnt_r: 1<br>cnt_d: 1<br>alpha: 0.99",
          "f: 0.251<br>cnt_r: 1<br>cnt_d: 2<br>alpha: 0.01",
          "f: 0.251<br>cnt_r: 1<br>cnt_d: 2<br>alpha: 0.11888888888888888",
          "f: 0.251<br>cnt_r: 1<br>cnt_d: 2<br>alpha: 0.22777777777777777",
          "f: 0.251<br>cnt_r: 1<br>cnt_d: 2<br>alpha: 0.33666666666666667",
          "f: 0.294<br>cnt_r: 1<br>cnt_d: 2<br>alpha: 0.44555555555555554",
          "f: 0.342<br>cnt_r: 1<br>cnt_d: 2<br>alpha: 0.5544444444444444",
          "f: 0.378<br>cnt_r: 1<br>cnt_d: 2<br>alpha: 0.6633333333333333",
          "f: 0.411<br>cnt_r: 1<br>cnt_d: 2<br>alpha: 0.7722222222222221",
          "f: 0.452<br>cnt_r: 1<br>cnt_d: 2<br>alpha: 0.8811111111111111",
          "f: 0.526<br>cnt_r: 1<br>cnt_d: 2<br>alpha: 0.99",
          "f: 0.295<br>cnt_r: 1<br>cnt_d: 3<br>alpha: 0.01",
          "f: 0.295<br>cnt_r: 1<br>cnt_d: 3<br>alpha: 0.11888888888888888",
          "f: 0.295<br>cnt_r: 1<br>cnt_d: 3<br>alpha: 0.22777777777777777",
          "f: 0.300<br>cnt_r: 1<br>cnt_d: 3<br>alpha: 0.33666666666666667",
          "f: 0.370<br>cnt_r: 1<br>cnt_d: 3<br>alpha: 0.44555555555555554",
          "f: 0.431<br>cnt_r: 1<br>cnt_d: 3<br>alpha: 0.5544444444444444",
          "f: 0.473<br>cnt_r: 1<br>cnt_d: 3<br>alpha: 0.6633333333333333",
          "f: 0.512<br>cnt_r: 1<br>cnt_d: 3<br>alpha: 0.7722222222222221",
          "f: 0.560<br>cnt_r: 1<br>cnt_d: 3<br>alpha: 0.8811111111111111",
          "f: 0.643<br>cnt_r: 1<br>cnt_d: 3<br>alpha: 0.99",
          "f: 0.259<br>cnt_r: 1<br>cnt_d: 4<br>alpha: 0.01",
          "f: 0.259<br>cnt_r: 1<br>cnt_d: 4<br>alpha: 0.11888888888888888",
          "f: 0.280<br>cnt_r: 1<br>cnt_d: 4<br>alpha: 0.22777777777777777",
          "f: 0.323<br>cnt_r: 1<br>cnt_d: 4<br>alpha: 0.33666666666666667",
          "f: 0.391<br>cnt_r: 1<br>cnt_d: 4<br>alpha: 0.44555555555555554",
          "f: 0.481<br>cnt_r: 1<br>cnt_d: 4<br>alpha: 0.5544444444444444",
          "f: 0.535<br>cnt_r: 1<br>cnt_d: 4<br>alpha: 0.6633333333333333",
          "f: 0.573<br>cnt_r: 1<br>cnt_d: 4<br>alpha: 0.7722222222222221",
          "f: 0.610<br>cnt_r: 1<br>cnt_d: 4<br>alpha: 0.8811111111111111",
          "f: 0.663<br>cnt_r: 1<br>cnt_d: 4<br>alpha: 0.99",
          "f: 0.543<br>cnt_r: 2<br>cnt_d: 4<br>alpha: 0.01",
          "f: 0.543<br>cnt_r: 2<br>cnt_d: 4<br>alpha: 0.11888888888888888",
          "f: 0.543<br>cnt_r: 2<br>cnt_d: 4<br>alpha: 0.22777777777777777",
          "f: 0.543<br>cnt_r: 2<br>cnt_d: 4<br>alpha: 0.33666666666666667",
          "f: 0.543<br>cnt_r: 2<br>cnt_d: 4<br>alpha: 0.44555555555555554",
          "f: 0.606<br>cnt_r: 2<br>cnt_d: 4<br>alpha: 0.5544444444444444",
          "f: 0.657<br>cnt_r: 2<br>cnt_d: 4<br>alpha: 0.6633333333333333",
          "f: 0.696<br>cnt_r: 2<br>cnt_d: 4<br>alpha: 0.7722222222222221",
          "f: 0.738<br>cnt_r: 2<br>cnt_d: 4<br>alpha: 0.8811111111111111",
          "f: 0.799<br>cnt_r: 2<br>cnt_d: 4<br>alpha: 0.99",
          "f: 0.474<br>cnt_r: 3<br>cnt_d: 1<br>alpha: 0.01",
          "f: 0.506<br>cnt_r: 3<br>cnt_d: 1<br>alpha: 0.11888888888888888",
          "f: 0.579<br>cnt_r: 3<br>cnt_d: 1<br>alpha: 0.22777777777777777",
          "f: 0.683<br>cnt_r: 3<br>cnt_d: 1<br>alpha: 0.33666666666666667",
          "f: 0.841<br>cnt_r: 3<br>cnt_d: 1<br>alpha: 0.44555555555555554",
          "f: 1.000<br>cnt_r: 3<br>cnt_d: 1<br>alpha: 0.5544444444444444",
          "f: 1.000<br>cnt_r: 3<br>cnt_d: 1<br>alpha: 0.6633333333333333",
          "f: 1.000<br>cnt_r: 3<br>cnt_d: 1<br>alpha: 0.7722222222222221",
          "f: 1.000<br>cnt_r: 3<br>cnt_d: 1<br>alpha: 0.8811111111111111",
          "f: 1.000<br>cnt_r: 3<br>cnt_d: 1<br>alpha: 0.99",
          "f: 0.180<br>cnt_r: 3<br>cnt_d: 2<br>alpha: 0.01",
          "f: 0.180<br>cnt_r: 3<br>cnt_d: 2<br>alpha: 0.11888888888888888",
          "f: 0.204<br>cnt_r: 3<br>cnt_d: 2<br>alpha: 0.22777777777777777",
          "f: 0.239<br>cnt_r: 3<br>cnt_d: 2<br>alpha: 0.33666666666666667",
          "f: 0.286<br>cnt_r: 3<br>cnt_d: 2<br>alpha: 0.44555555555555554",
          "f: 0.328<br>cnt_r: 3<br>cnt_d: 2<br>alpha: 0.5544444444444444",
          "f: 0.360<br>cnt_r: 3<br>cnt_d: 2<br>alpha: 0.6633333333333333",
          "f: 0.391<br>cnt_r: 3<br>cnt_d: 2<br>alpha: 0.7722222222222221",
          "f: 0.429<br>cnt_r: 3<br>cnt_d: 2<br>alpha: 0.8811111111111111",
          "f: 0.493<br>cnt_r: 3<br>cnt_d: 2<br>alpha: 0.99",
          "f: 0.213<br>cnt_r: 3<br>cnt_d: 3<br>alpha: 0.01",
          "f: 0.213<br>cnt_r: 3<br>cnt_d: 3<br>alpha: 0.11888888888888888",
          "f: 0.230<br>cnt_r: 3<br>cnt_d: 3<br>alpha: 0.22777777777777777",
          "f: 0.271<br>cnt_r: 3<br>cnt_d: 3<br>alpha: 0.33666666666666667",
          "f: 0.354<br>cnt_r: 3<br>cnt_d: 3<br>alpha: 0.44555555555555554",
          "f: 0.420<br>cnt_r: 3<br>cnt_d: 3<br>alpha: 0.5544444444444444",
          "f: 0.459<br>cnt_r: 3<br>cnt_d: 3<br>alpha: 0.6633333333333333",
          "f: 0.493<br>cnt_r: 3<br>cnt_d: 3<br>alpha: 0.7722222222222221",
          "f: 0.534<br>cnt_r: 3<br>cnt_d: 3<br>alpha: 0.8811111111111111",
          "f: 0.602<br>cnt_r: 3<br>cnt_d: 3<br>alpha: 0.99",
          "f: 0.200<br>cnt_r: 3<br>cnt_d: 4<br>alpha: 0.01",
          "f: 0.225<br>cnt_r: 3<br>cnt_d: 4<br>alpha: 0.11888888888888888",
          "f: 0.255<br>cnt_r: 3<br>cnt_d: 4<br>alpha: 0.22777777777777777",
          "f: 0.295<br>cnt_r: 3<br>cnt_d: 4<br>alpha: 0.33666666666666667",
          "f: 0.363<br>cnt_r: 3<br>cnt_d: 4<br>alpha: 0.44555555555555554",
          "f: 0.469<br>cnt_r: 3<br>cnt_d: 4<br>alpha: 0.5544444444444444",
          "f: 0.518<br>cnt_r: 3<br>cnt_d: 4<br>alpha: 0.6633333333333333",
          "f: 0.550<br>cnt_r: 3<br>cnt_d: 4<br>alpha: 0.7722222222222221",
          "f: 0.581<br>cnt_r: 3<br>cnt_d: 4<br>alpha: 0.8811111111111111",
          "f: 0.622<br>cnt_r: 3<br>cnt_d: 4<br>alpha: 0.99"
         ],
         "type": "scatter",
         "x": [
          3.8000000347205924,
          3.8000000318046054,
          3.799999981966589,
          3.6590132353402556,
          3.457216576126551,
          3.358762215886629,
          3.3587622079809356,
          3.3587622066499656,
          3.358762206100813,
          3.3587622058009883,
          3.8000000361700796,
          3.800000035343103,
          3.8000000331521355,
          3.8000000103537923,
          3.6558339405973825,
          3.5230983169561174,
          3.445867575025503,
          3.3886108482155133,
          3.3374110685492413,
          3.298196932228868,
          3.800000035868604,
          3.8000000347487686,
          3.800000031141023,
          3.783077313339484,
          3.5836131054884355,
          3.4454872338785854,
          3.3709619163137794,
          3.317373518003779,
          3.2704612020604773,
          3.2356401731807645,
          3.8000000323091867,
          3.8000000164447316,
          3.71547668142732,
          3.554113221599881,
          3.333767160660254,
          3.1124420613894164,
          3.022638061568177,
          2.979265134922481,
          2.9502710596382147,
          2.9335278913101166,
          3.800000036899053,
          3.8000000365681816,
          3.800000035952968,
          3.8000000344109677,
          3.800000023448489,
          3.672319262474539,
          3.596822315696998,
          3.5539747076752035,
          3.522479898130046,
          3.5038822380563253,
          3.800000019388007,
          3.74638525436279,
          3.6275999847873033,
          3.471506429084323,
          3.269061261453626,
          3.1134408159526576,
          3.1134405627730275,
          3.1134405607576308,
          3.1134405600827963,
          3.113440559743875,
          3.800000029751897,
          3.798590320577247,
          3.699661812743266,
          3.566848046150437,
          3.4117981991044077,
          3.303739580211643,
          3.236384494290573,
          3.186128017743036,
          3.142869252529456,
          3.111987709465667,
          3.8000000322458174,
          3.8000000156307476,
          3.7361142304653496,
          3.5976454856039237,
          3.3632972646345443,
          3.2231849484004704,
          3.163486373254768,
          3.122129385751564,
          3.087083936711899,
          3.0623235216669213,
          3.7570968056345175,
          3.64866250128272,
          3.528116982731944,
          3.3757734603139857,
          3.1543842804346234,
          2.9083516352833967,
          2.8366091219992478,
          2.8052526906009803,
          2.7853786207856834,
          2.774871956742308
         ],
         "y": [
          0.15305778792303948,
          0.1530577888507073,
          0.15305780470557706,
          0.21133939561507828,
          0.34208495544194173,
          0.4317785189921221,
          0.4317785272320252,
          0.43177852861926086,
          0.4317785291916286,
          0.4317785295041239,
          0.13421529789070466,
          0.13421529835555124,
          0.13421529958706963,
          0.13421531240191537,
          0.23188396883737472,
          0.3627249099810209,
          0.4823461317664473,
          0.6293114506419386,
          0.8829963560721629,
          1.5449825851988512,
          0.156396531260878,
          0.1563965318028773,
          0.1563965335490557,
          0.16478662204859537,
          0.2941845201655588,
          0.42984106286299306,
          0.5450827878762257,
          0.6825028383304359,
          0.9145766583653513,
          1.4986768134136,
          0.161512716679613,
          0.16151271965585923,
          0.18187466310923395,
          0.24655202349637373,
          0.39077603132258903,
          0.6094204574532799,
          0.7457102437166703,
          0.855477256674041,
          0.9965178117782045,
          1.2679544958451807,
          0.5062664687311113,
          0.5062664690380085,
          0.5062664696086686,
          0.5062664710389994,
          0.506266481207581,
          0.6406423704016325,
          0.7559591604056067,
          0.8649994774217405,
          1.0188280925573432,
          1.317301576960993,
          0.2416686788401861,
          0.2470082645347826,
          0.27250818712695546,
          0.33512133579059705,
          0.4668240718065756,
          0.6192085263855697,
          0.619208838950756,
          0.6192088414388812,
          0.6192088422720052,
          0.6192088426904262,
          0.21669862900037795,
          0.21688724846347138,
          0.23814489914022846,
          0.29145212434498063,
          0.3913407575511993,
          0.4981806583292607,
          0.6026371287081876,
          0.7315263241244138,
          0.945021677230295,
          1.4622382375031469,
          0.19860412330206867,
          0.19860412638737163,
          0.2139860168116059,
          0.2699886601692074,
          0.42375850943687754,
          0.5592016898528437,
          0.6512985427600088,
          0.7572386113378485,
          0.9300825779712064,
          1.3452176559329916,
          0.2716718974189106,
          0.2793180843823238,
          0.3050759441717743,
          0.36619261777729584,
          0.5117568970287031,
          0.7534678362879285,
          0.8615662349182684,
          0.9407687688628055,
          1.036994909798225,
          1.2043617676497544
         ]
        }
       ],
       "layout": {
        "showlegend": true,
        "template": {
         "data": {
          "bar": [
           {
            "error_x": {
             "color": "#2a3f5f"
            },
            "error_y": {
             "color": "#2a3f5f"
            },
            "marker": {
             "line": {
              "color": "#E5ECF6",
              "width": 0.5
             },
             "pattern": {
              "fillmode": "overlay",
              "size": 10,
              "solidity": 0.2
             }
            },
            "type": "bar"
           }
          ],
          "barpolar": [
           {
            "marker": {
             "line": {
              "color": "#E5ECF6",
              "width": 0.5
             },
             "pattern": {
              "fillmode": "overlay",
              "size": 10,
              "solidity": 0.2
             }
            },
            "type": "barpolar"
           }
          ],
          "carpet": [
           {
            "aaxis": {
             "endlinecolor": "#2a3f5f",
             "gridcolor": "white",
             "linecolor": "white",
             "minorgridcolor": "white",
             "startlinecolor": "#2a3f5f"
            },
            "baxis": {
             "endlinecolor": "#2a3f5f",
             "gridcolor": "white",
             "linecolor": "white",
             "minorgridcolor": "white",
             "startlinecolor": "#2a3f5f"
            },
            "type": "carpet"
           }
          ],
          "choropleth": [
           {
            "colorbar": {
             "outlinewidth": 0,
             "ticks": ""
            },
            "type": "choropleth"
           }
          ],
          "contour": [
           {
            "colorbar": {
             "outlinewidth": 0,
             "ticks": ""
            },
            "colorscale": [
             [
              0,
              "#0d0887"
             ],
             [
              0.1111111111111111,
              "#46039f"
             ],
             [
              0.2222222222222222,
              "#7201a8"
             ],
             [
              0.3333333333333333,
              "#9c179e"
             ],
             [
              0.4444444444444444,
              "#bd3786"
             ],
             [
              0.5555555555555556,
              "#d8576b"
             ],
             [
              0.6666666666666666,
              "#ed7953"
             ],
             [
              0.7777777777777778,
              "#fb9f3a"
             ],
             [
              0.8888888888888888,
              "#fdca26"
             ],
             [
              1,
              "#f0f921"
             ]
            ],
            "type": "contour"
           }
          ],
          "contourcarpet": [
           {
            "colorbar": {
             "outlinewidth": 0,
             "ticks": ""
            },
            "type": "contourcarpet"
           }
          ],
          "heatmap": [
           {
            "colorbar": {
             "outlinewidth": 0,
             "ticks": ""
            },
            "colorscale": [
             [
              0,
              "#0d0887"
             ],
             [
              0.1111111111111111,
              "#46039f"
             ],
             [
              0.2222222222222222,
              "#7201a8"
             ],
             [
              0.3333333333333333,
              "#9c179e"
             ],
             [
              0.4444444444444444,
              "#bd3786"
             ],
             [
              0.5555555555555556,
              "#d8576b"
             ],
             [
              0.6666666666666666,
              "#ed7953"
             ],
             [
              0.7777777777777778,
              "#fb9f3a"
             ],
             [
              0.8888888888888888,
              "#fdca26"
             ],
             [
              1,
              "#f0f921"
             ]
            ],
            "type": "heatmap"
           }
          ],
          "histogram": [
           {
            "marker": {
             "pattern": {
              "fillmode": "overlay",
              "size": 10,
              "solidity": 0.2
             }
            },
            "type": "histogram"
           }
          ],
          "histogram2d": [
           {
            "colorbar": {
             "outlinewidth": 0,
             "ticks": ""
            },
            "colorscale": [
             [
              0,
              "#0d0887"
             ],
             [
              0.1111111111111111,
              "#46039f"
             ],
             [
              0.2222222222222222,
              "#7201a8"
             ],
             [
              0.3333333333333333,
              "#9c179e"
             ],
             [
              0.4444444444444444,
              "#bd3786"
             ],
             [
              0.5555555555555556,
              "#d8576b"
             ],
             [
              0.6666666666666666,
              "#ed7953"
             ],
             [
              0.7777777777777778,
              "#fb9f3a"
             ],
             [
              0.8888888888888888,
              "#fdca26"
             ],
             [
              1,
              "#f0f921"
             ]
            ],
            "type": "histogram2d"
           }
          ],
          "histogram2dcontour": [
           {
            "colorbar": {
             "outlinewidth": 0,
             "ticks": ""
            },
            "colorscale": [
             [
              0,
              "#0d0887"
             ],
             [
              0.1111111111111111,
              "#46039f"
             ],
             [
              0.2222222222222222,
              "#7201a8"
             ],
             [
              0.3333333333333333,
              "#9c179e"
             ],
             [
              0.4444444444444444,
              "#bd3786"
             ],
             [
              0.5555555555555556,
              "#d8576b"
             ],
             [
              0.6666666666666666,
              "#ed7953"
             ],
             [
              0.7777777777777778,
              "#fb9f3a"
             ],
             [
              0.8888888888888888,
              "#fdca26"
             ],
             [
              1,
              "#f0f921"
             ]
            ],
            "type": "histogram2dcontour"
           }
          ],
          "mesh3d": [
           {
            "colorbar": {
             "outlinewidth": 0,
             "ticks": ""
            },
            "type": "mesh3d"
           }
          ],
          "parcoords": [
           {
            "line": {
             "colorbar": {
              "outlinewidth": 0,
              "ticks": ""
             }
            },
            "type": "parcoords"
           }
          ],
          "pie": [
           {
            "automargin": true,
            "type": "pie"
           }
          ],
          "scatter": [
           {
            "fillpattern": {
             "fillmode": "overlay",
             "size": 10,
             "solidity": 0.2
            },
            "type": "scatter"
           }
          ],
          "scatter3d": [
           {
            "line": {
             "colorbar": {
              "outlinewidth": 0,
              "ticks": ""
             }
            },
            "marker": {
             "colorbar": {
              "outlinewidth": 0,
              "ticks": ""
             }
            },
            "type": "scatter3d"
           }
          ],
          "scattercarpet": [
           {
            "marker": {
             "colorbar": {
              "outlinewidth": 0,
              "ticks": ""
             }
            },
            "type": "scattercarpet"
           }
          ],
          "scattergeo": [
           {
            "marker": {
             "colorbar": {
              "outlinewidth": 0,
              "ticks": ""
             }
            },
            "type": "scattergeo"
           }
          ],
          "scattergl": [
           {
            "marker": {
             "colorbar": {
              "outlinewidth": 0,
              "ticks": ""
             }
            },
            "type": "scattergl"
           }
          ],
          "scattermap": [
           {
            "marker": {
             "colorbar": {
              "outlinewidth": 0,
              "ticks": ""
             }
            },
            "type": "scattermap"
           }
          ],
          "scattermapbox": [
           {
            "marker": {
             "colorbar": {
              "outlinewidth": 0,
              "ticks": ""
             }
            },
            "type": "scattermapbox"
           }
          ],
          "scatterpolar": [
           {
            "marker": {
             "colorbar": {
              "outlinewidth": 0,
              "ticks": ""
             }
            },
            "type": "scatterpolar"
           }
          ],
          "scatterpolargl": [
           {
            "marker": {
             "colorbar": {
              "outlinewidth": 0,
              "ticks": ""
             }
            },
            "type": "scatterpolargl"
           }
          ],
          "scatterternary": [
           {
            "marker": {
             "colorbar": {
              "outlinewidth": 0,
              "ticks": ""
             }
            },
            "type": "scatterternary"
           }
          ],
          "surface": [
           {
            "colorbar": {
             "outlinewidth": 0,
             "ticks": ""
            },
            "colorscale": [
             [
              0,
              "#0d0887"
             ],
             [
              0.1111111111111111,
              "#46039f"
             ],
             [
              0.2222222222222222,
              "#7201a8"
             ],
             [
              0.3333333333333333,
              "#9c179e"
             ],
             [
              0.4444444444444444,
              "#bd3786"
             ],
             [
              0.5555555555555556,
              "#d8576b"
             ],
             [
              0.6666666666666666,
              "#ed7953"
             ],
             [
              0.7777777777777778,
              "#fb9f3a"
             ],
             [
              0.8888888888888888,
              "#fdca26"
             ],
             [
              1,
              "#f0f921"
             ]
            ],
            "type": "surface"
           }
          ],
          "table": [
           {
            "cells": {
             "fill": {
              "color": "#EBF0F8"
             },
             "line": {
              "color": "white"
             }
            },
            "header": {
             "fill": {
              "color": "#C8D4E3"
             },
             "line": {
              "color": "white"
             }
            },
            "type": "table"
           }
          ]
         },
         "layout": {
          "annotationdefaults": {
           "arrowcolor": "#2a3f5f",
           "arrowhead": 0,
           "arrowwidth": 1
          },
          "autotypenumbers": "strict",
          "coloraxis": {
           "colorbar": {
            "outlinewidth": 0,
            "ticks": ""
           }
          },
          "colorscale": {
           "diverging": [
            [
             0,
             "#8e0152"
            ],
            [
             0.1,
             "#c51b7d"
            ],
            [
             0.2,
             "#de77ae"
            ],
            [
             0.3,
             "#f1b6da"
            ],
            [
             0.4,
             "#fde0ef"
            ],
            [
             0.5,
             "#f7f7f7"
            ],
            [
             0.6,
             "#e6f5d0"
            ],
            [
             0.7,
             "#b8e186"
            ],
            [
             0.8,
             "#7fbc41"
            ],
            [
             0.9,
             "#4d9221"
            ],
            [
             1,
             "#276419"
            ]
           ],
           "sequential": [
            [
             0,
             "#0d0887"
            ],
            [
             0.1111111111111111,
             "#46039f"
            ],
            [
             0.2222222222222222,
             "#7201a8"
            ],
            [
             0.3333333333333333,
             "#9c179e"
            ],
            [
             0.4444444444444444,
             "#bd3786"
            ],
            [
             0.5555555555555556,
             "#d8576b"
            ],
            [
             0.6666666666666666,
             "#ed7953"
            ],
            [
             0.7777777777777778,
             "#fb9f3a"
            ],
            [
             0.8888888888888888,
             "#fdca26"
            ],
            [
             1,
             "#f0f921"
            ]
           ],
           "sequentialminus": [
            [
             0,
             "#0d0887"
            ],
            [
             0.1111111111111111,
             "#46039f"
            ],
            [
             0.2222222222222222,
             "#7201a8"
            ],
            [
             0.3333333333333333,
             "#9c179e"
            ],
            [
             0.4444444444444444,
             "#bd3786"
            ],
            [
             0.5555555555555556,
             "#d8576b"
            ],
            [
             0.6666666666666666,
             "#ed7953"
            ],
            [
             0.7777777777777778,
             "#fb9f3a"
            ],
            [
             0.8888888888888888,
             "#fdca26"
            ],
            [
             1,
             "#f0f921"
            ]
           ]
          },
          "colorway": [
           "#636efa",
           "#EF553B",
           "#00cc96",
           "#ab63fa",
           "#FFA15A",
           "#19d3f3",
           "#FF6692",
           "#B6E880",
           "#FF97FF",
           "#FECB52"
          ],
          "font": {
           "color": "#2a3f5f"
          },
          "geo": {
           "bgcolor": "white",
           "lakecolor": "white",
           "landcolor": "#E5ECF6",
           "showlakes": true,
           "showland": true,
           "subunitcolor": "white"
          },
          "hoverlabel": {
           "align": "left"
          },
          "hovermode": "closest",
          "mapbox": {
           "style": "light"
          },
          "paper_bgcolor": "white",
          "plot_bgcolor": "#E5ECF6",
          "polar": {
           "angularaxis": {
            "gridcolor": "white",
            "linecolor": "white",
            "ticks": ""
           },
           "bgcolor": "#E5ECF6",
           "radialaxis": {
            "gridcolor": "white",
            "linecolor": "white",
            "ticks": ""
           }
          },
          "scene": {
           "xaxis": {
            "backgroundcolor": "#E5ECF6",
            "gridcolor": "white",
            "gridwidth": 2,
            "linecolor": "white",
            "showbackground": true,
            "ticks": "",
            "zerolinecolor": "white"
           },
           "yaxis": {
            "backgroundcolor": "#E5ECF6",
            "gridcolor": "white",
            "gridwidth": 2,
            "linecolor": "white",
            "showbackground": true,
            "ticks": "",
            "zerolinecolor": "white"
           },
           "zaxis": {
            "backgroundcolor": "#E5ECF6",
            "gridcolor": "white",
            "gridwidth": 2,
            "linecolor": "white",
            "showbackground": true,
            "ticks": "",
            "zerolinecolor": "white"
           }
          },
          "shapedefaults": {
           "line": {
            "color": "#2a3f5f"
           }
          },
          "ternary": {
           "aaxis": {
            "gridcolor": "white",
            "linecolor": "white",
            "ticks": ""
           },
           "baxis": {
            "gridcolor": "white",
            "linecolor": "white",
            "ticks": ""
           },
           "bgcolor": "#E5ECF6",
           "caxis": {
            "gridcolor": "white",
            "linecolor": "white",
            "ticks": ""
           }
          },
          "title": {
           "x": 0.05
          },
          "xaxis": {
           "automargin": true,
           "gridcolor": "white",
           "linecolor": "white",
           "ticks": "",
           "title": {
            "standoff": 15
           },
           "zerolinecolor": "white",
           "zerolinewidth": 2
          },
          "yaxis": {
           "automargin": true,
           "gridcolor": "white",
           "linecolor": "white",
           "ticks": "",
           "title": {
            "standoff": 15
           },
           "zerolinecolor": "white",
           "zerolinewidth": 2
          }
         }
        },
        "title": {
         "text": "Pareto Plot: S_mean vs S_skew"
        },
        "xaxis": {
         "title": {
          "text": "S_mean"
         }
        },
        "yaxis": {
         "title": {
          "text": "S_skew"
         }
        }
       }
      }
     },
     "metadata": {},
     "output_type": "display_data"
    }
   ],
   "source": [
    "pareto_plot([solutions1, solutions2, solutions3], labels=['Target Mean', 'Min Mean', 'Min Mean & Skew'])"
   ]
  },
  {
   "cell_type": "markdown",
   "id": "4b44103b",
   "metadata": {},
   "source": [
    "# proposed solution by InsideOpt\n",
    "- f = 0.74\n",
    "- R3+D1 combination\n",
    "\n",
    "should have \n",
    "- S_mean=3.39 mm/s\n",
    "- S_skew = 0.353"
   ]
  },
  {
   "cell_type": "code",
   "execution_count": 21,
   "id": "d4ba1018",
   "metadata": {},
   "outputs": [
    {
     "name": "stdout",
     "output_type": "stream",
     "text": [
      "proposed in puzzle solution: \n",
      "mean: 3.39, skewness: 0.38, std: 1.02\n",
      "my closest fit:\n",
      "mean: 3.27, skewness: 0.47, std: 1.02\n"
     ]
    }
   ],
   "source": [
    "print('proposed in puzzle solution: ')\n",
    "analyze_system_vibration(system_vibration(R3,D1,0.74))\n",
    "print('my closest fit:')\n",
    "analyze_system_vibration(system_vibration(R3,D1,0.841))"
   ]
  }
 ],
 "metadata": {
  "kernelspec": {
   "display_name": "optimizing-for-predictive-maintenance",
   "language": "python",
   "name": "python3"
  },
  "language_info": {
   "codemirror_mode": {
    "name": "ipython",
    "version": 3
   },
   "file_extension": ".py",
   "mimetype": "text/x-python",
   "name": "python",
   "nbconvert_exporter": "python",
   "pygments_lexer": "ipython3",
   "version": "3.12.6"
  }
 },
 "nbformat": 4,
 "nbformat_minor": 5
}
