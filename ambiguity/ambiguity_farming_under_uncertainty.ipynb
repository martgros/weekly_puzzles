{
 "cells": [
  {
   "cell_type": "code",
   "execution_count": 1,
   "id": "fa89aed9",
   "metadata": {},
   "outputs": [],
   "source": [
    "import casadi as ca\n",
    "import matplotlib.pyplot as plt\n",
    "import numpy as np"
   ]
  },
  {
   "cell_type": "markdown",
   "id": "11cdac3d",
   "metadata": {},
   "source": [
    "# formulate problem"
   ]
  },
  {
   "cell_type": "code",
   "execution_count": 2,
   "id": "fc0597d7",
   "metadata": {},
   "outputs": [],
   "source": [
    "opti = ca.Opti()\n",
    "\n",
    "# define optimization variables\n",
    "A_A = opti.variable()\n",
    "A_B = opti.variable()\n",
    "U_pA = opti.variable()\n",
    "U_pB = opti.variable()\n",
    "\n",
    "# set constant parameters\n",
    "c_fA = opti.parameter()\n",
    "c_fB = opti.parameter()\n",
    "p_pA = opti.parameter()\n",
    "p_pB = opti.parameter()\n",
    "s_A = opti.parameter()\n",
    "s_B = opti.parameter()\n",
    "A_tot = opti.parameter()\n",
    "B_min = opti.parameter()\n",
    "opti.set_value(c_fA, 150)\n",
    "opti.set_value(c_fB, 100)\n",
    "opti.set_value(p_pA, 3.9)\n",
    "opti.set_value(p_pB, 3.9)\n",
    "opti.set_value(s_A, 1.5)\n",
    "opti.set_value(s_B, 1.45)\n",
    "opti.set_value(A_tot, 100)\n",
    "opti.set_value(B_min, 50000)\n",
    "\n",
    "# set parameters for scenario 1\n",
    "c_vA1 = opti.parameter()\n",
    "c_vB1 = opti.parameter()\n",
    "y_A1 = opti.parameter()\n",
    "y_B1 = opti.parameter()\n",
    "p_A1 = opti.parameter()\n",
    "p_B1 = opti.parameter()\n",
    "opti.set_value(c_vA1, 50)\n",
    "opti.set_value(c_vB1, 150)\n",
    "opti.set_value(y_A1, 800)\n",
    "opti.set_value(y_B1, 150)\n",
    "opti.set_value(p_A1, 2.5)\n",
    "opti.set_value(p_B1, 5)\n",
    "\n",
    "# set parameters for scenario 2\n",
    "c_vA2 = opti.parameter()\n",
    "c_vB2 = opti.parameter()\n",
    "y_A2 = opti.parameter()\n",
    "y_B2 = opti.parameter()\n",
    "p_A2 = opti.parameter()\n",
    "p_B2 = opti.parameter()\n",
    "opti.set_value(c_vA2, 200)\n",
    "opti.set_value(c_vB2, 40)\n",
    "opti.set_value(y_A2, 300)\n",
    "opti.set_value(y_B2, 600)\n",
    "opti.set_value(p_A2, 4.5)\n",
    "opti.set_value(p_B2, 3)\n",
    "\n",
    "# harvested units in scenario 1\n",
    "H_A1 = y_A1 * A_A\n",
    "H_B1 = y_B1 * A_B\n",
    "# harvested units in scenario 2\n",
    "H_A2 = y_A2 * A_A\n",
    "H_B2 = y_B2 * A_B\n",
    "\n",
    "# cost\n",
    "C1 = -(c_fA + c_vA1) * A_A - (c_fB + c_vB1) * A_B\n",
    "B1 = ca.fmin(U_pA,H_A1) * p_pA + ca.fmin(U_pB,H_B1) * p_pB + ca.fmax(H_A1 - U_pA, 0) * p_A1 + ca.fmax(H_B1 - U_pB, 0) * p_B1\n",
    "P1 = ca.fmin(H_A1 - U_pA, 0) * s_A + ca.fmin(H_B1 - U_pB, 0) * s_B\n",
    "\n",
    "C2 = -(c_fA + c_vA2) * A_A - (c_fB + c_vB2) * A_B\n",
    "B2 =  ca.fmin(U_pA,H_A2) * p_pA +  ca.fmin(U_pB,H_B2) * p_pB + ca.fmax(H_A2 - U_pA, 0) * p_A2 + ca.fmax(H_B2 - U_pB, 0) * p_B2\n",
    "P2 = ca.fmin(H_A2 - U_pA, 0) * s_A + ca.fmin(H_B2 - U_pB, 0) * s_B\n",
    "\n",
    "# constraints\n",
    "opti.subject_to(A_A + A_B == A_tot)\n",
    "opti.subject_to(A_A>0)\n",
    "opti.subject_to(A_B>0)\n",
    "\n",
    "opti.subject_to(U_pA>=0)\n",
    "opti.subject_to(U_pB>=0)\n",
    "opti.subject_to(U_pA+U_pB<800*100) # add some realistic upper bound on presale units\n",
    "\n",
    "# constrain the presales --> do not allow to presell more than what can be harvested in the worst case\n",
    "opti.subject_to(U_pA <= A_A*y_A1)\n",
    "opti.subject_to(U_pA <= A_A*y_A2)\n",
    "opti.subject_to(U_pB <= A_B*y_B1)\n",
    "opti.subject_to(U_pB <= A_B*y_B2)\n",
    "\n",
    "opti.subject_to(C1 + B1 + P1 >= B_min)\n",
    "opti.subject_to(C2 + B2 + P2 >= B_min)\n"
   ]
  },
  {
   "cell_type": "code",
   "execution_count": 3,
   "id": "e4a4ebbe",
   "metadata": {},
   "outputs": [],
   "source": [
    "p_opts = {\"expand\":False,'verbose':0}\n",
    "s_opts = {\"print_level\": 0, \"sb\": \"yes\"}#{\"max_iter\": 20}\n",
    "opti.solver('ipopt', p_opts, s_opts)"
   ]
  },
  {
   "cell_type": "markdown",
   "id": "91f5ba1a",
   "metadata": {},
   "source": [
    "## First, solve for one single scenario\n",
    "\n",
    "### scenario 1 - wet summer"
   ]
  },
  {
   "cell_type": "code",
   "execution_count": 4,
   "id": "02471fb4",
   "metadata": {},
   "outputs": [
    {
     "name": "stdout",
     "output_type": "stream",
     "text": [
      "      solver  :   t_proc      (avg)   t_wall      (avg)    n_eval\n",
      "       nlp_f  |        0 (       0)  93.00us (  5.81us)        16\n",
      "       nlp_g  |        0 (       0) 233.00us ( 14.56us)        16\n",
      "  nlp_grad_f  |        0 (       0) 182.00us ( 10.71us)        17\n",
      "  nlp_hess_l  |        0 (       0)  28.00us (  1.87us)        15\n",
      "   nlp_jac_g  |   1.00ms ( 58.82us) 488.00us ( 28.71us)        17\n",
      "       total  |  35.00ms ( 35.00ms)  34.50ms ( 34.50ms)         1\n",
      "\n",
      "optimized scenario 1--------------------------------------------------------\n",
      "metric          | crop A   | crop B   |\n",
      "----------------|----------|----------|\n",
      "area            | 100.0    | 0.0      |\n",
      "pre-sells       | 30000    | 0        |\n",
      "harvested units | 80000.0  | 0.0      |\n",
      "\n",
      "scenario      | income [k$]  |\n",
      "--------------|--------------|\n",
      "1             | 222.0        |\n",
      "2             | 82.0         |\n",
      "---\n",
      "benefit B1: 241999.99999984604\n",
      "cost C1: -20000.000000002754\n",
      "penalty P1: 0.0\n"
     ]
    }
   ],
   "source": [
    "J = C1 + B1 + P1\n",
    "opti.minimize(-J)\n",
    "sol = opti.solve()\n",
    "print('')\n",
    "print('optimized scenario 1--------------------------------------------------------')\n",
    "# Prepare values for table output\n",
    "A_A_val = np.round(sol.value(A_A), 2)\n",
    "A_B_val = np.round(sol.value(A_B), 2)\n",
    "U_pA_val = int(np.round(sol.value(U_pA), 0))\n",
    "U_pB_val = int(np.round(sol.value(U_pB), 0))\n",
    "H_A1_val=np.round(sol.value(H_A1),0)\n",
    "H_B1_val=np.round(sol.value(H_B1),0)\n",
    "inc1=np.round((sol.value(C1)+sol.value(B1)+sol.value(P1))/1e3,2)\n",
    "inc2=np.round((sol.value(C2)+sol.value(B2)+sol.value(P2))/1e3,2)\n",
    "\n",
    "print(\"metric          | crop A   | crop B   |\")\n",
    "print(\"----------------|----------|----------|\")\n",
    "print(f\"area            | {A_A_val:<8} | {A_B_val:<8} |\")\n",
    "print(f\"pre-sells       | {U_pA_val:<8} | {U_pB_val:<8} |\")\n",
    "print(f\"harvested units | {H_A1_val:<8} | {H_B1_val:<8} |\")\n",
    "print('')\n",
    "print(\"scenario      | income [k$]  |\")\n",
    "print(\"--------------|--------------|\")\n",
    "print(f\"1             | {inc1:<12} |\")\n",
    "print(f\"2             | {inc2:<12} |\")\n",
    "\n",
    "print('---')\n",
    "print(\"benefit B1:\", sol.value(B1))\n",
    "print(\"cost C1:\", sol.value(C1))\n",
    "print(\"penalty P1:\", sol.value(P1))\n"
   ]
  },
  {
   "cell_type": "code",
   "execution_count": 5,
   "id": "60fc7efb",
   "metadata": {},
   "outputs": [
    {
     "name": "stdout",
     "output_type": "stream",
     "text": [
      "      solver  :   t_proc      (avg)   t_wall      (avg)    n_eval\n",
      "       nlp_f  |        0 (       0)  73.00us (  6.08us)        12\n",
      "       nlp_g  |   1.00ms ( 83.33us) 192.00us ( 16.00us)        12\n",
      "  nlp_grad_f  |        0 (       0) 163.00us ( 12.54us)        13\n",
      "  nlp_hess_l  |        0 (       0)  27.00us (  2.45us)        11\n",
      "   nlp_jac_g  |        0 (       0) 445.00us ( 34.23us)        13\n",
      "       total  |  16.00ms ( 16.00ms)  16.31ms ( 16.31ms)         1\n",
      "\n",
      "optimized scenario 2--------------------------------------------------------\n",
      "metric          | crop A   | crop B   |\n",
      "----------------|----------|----------|\n",
      "area            | 8.75     | 91.25    |\n",
      "pre-sells       | 2626     | 13687    |\n",
      "harvested units | 2626.0   | 54748.0  |\n",
      "\n",
      "scenario      | income [k$]  |\n",
      "--------------|--------------|\n",
      "1             | 50.0         |\n",
      "2             | 170.97       |\n"
     ]
    }
   ],
   "source": [
    "J = C2 + B2 + P2\n",
    "opti.minimize(-J)\n",
    "sol = opti.solve()\n",
    "print('')\n",
    "print('optimized scenario 2--------------------------------------------------------')\n",
    "# Prepare values for table output\n",
    "A_A_val = np.round(sol.value(A_A), 2)\n",
    "A_B_val = np.round(sol.value(A_B), 2)\n",
    "U_pA_val = int(np.round(sol.value(U_pA), 0))\n",
    "U_pB_val = int(np.round(sol.value(U_pB), 0))\n",
    "H_A2_val=np.round(sol.value(H_A2),0)\n",
    "H_B2_val=np.round(sol.value(H_B2),0)\n",
    "inc1=np.round((sol.value(C1)+sol.value(B1)+sol.value(P1))/1e3,2)\n",
    "inc2=np.round((sol.value(C2)+sol.value(B2)+sol.value(P2))/1e3,2)\n",
    "\n",
    "print(\"metric          | crop A   | crop B   |\")\n",
    "print(\"----------------|----------|----------|\")\n",
    "print(f\"area            | {A_A_val:<8} | {A_B_val:<8} |\")\n",
    "print(f\"pre-sells       | {U_pA_val:<8} | {U_pB_val:<8} |\")\n",
    "print(f\"harvested units | {H_A2_val:<8} | {H_B2_val:<8} |\")\n",
    "print('')\n",
    "print(\"scenario      | income [k$]  |\")\n",
    "print(\"--------------|--------------|\")\n",
    "print(f\"1             | {inc1:<12} |\")\n",
    "print(f\"2             | {inc2:<12} |\")"
   ]
  },
  {
   "cell_type": "markdown",
   "id": "f766ccd3",
   "metadata": {},
   "source": [
    "### optimize taking both scenarios into account (equally propable)"
   ]
  },
  {
   "cell_type": "code",
   "execution_count": 6,
   "id": "65265cec",
   "metadata": {},
   "outputs": [
    {
     "name": "stdout",
     "output_type": "stream",
     "text": [
      "      solver  :   t_proc      (avg)   t_wall      (avg)    n_eval\n",
      "       nlp_f  |        0 (       0) 172.00us (  8.19us)        21\n",
      "       nlp_g  |        0 (       0) 287.00us ( 13.67us)        21\n",
      "  nlp_grad_f  |        0 (       0) 361.00us ( 17.19us)        21\n",
      "  nlp_hess_l  |        0 (       0)  39.00us (  2.05us)        19\n",
      "   nlp_jac_g  |        0 (       0) 612.00us ( 29.14us)        21\n",
      "       total  |  27.00ms ( 27.00ms)  26.63ms ( 26.63ms)         1\n",
      "\n",
      "optimized for scenario 1&2 equally propable--------------------------------------------------------\n",
      "metric                        | crop A   | crop B   |\n",
      "------------------------------|----------|----------|\n",
      "area                         | 100.0    | 0.0      |\n",
      "pre-sells                    | 30000    | 0        |\n",
      "harvested units (scenario 1) | 80000.0  | 0.0      |\n",
      "harvested units (scenario 2) | 30000.0  | 0.0      |\n",
      "\n",
      "scenario      | income [k$]  |\n",
      "--------------|--------------|\n",
      "1             | 222.0        |\n",
      "2             | 82.0         |\n"
     ]
    }
   ],
   "source": [
    "J = C1 + B1 + P1 + C2 + B2 + P2\n",
    "opti.minimize(-J)\n",
    "sol = opti.solve()\n",
    "print('')\n",
    "print('optimized for scenario 1&2 equally propable--------------------------------------------------------')\n",
    "# Prepare values for table output\n",
    "A_A_val = np.round(sol.value(A_A), 2)\n",
    "A_B_val = np.round(sol.value(A_B), 2)\n",
    "U_pA_val = int(np.round(sol.value(U_pA), 0))\n",
    "U_pB_val = int(np.round(sol.value(U_pB), 0))\n",
    "\n",
    "H_A1_val=np.round(sol.value(H_A1),0)\n",
    "H_B1_val=np.round(sol.value(H_B1),0)\n",
    "H_A2_val=np.round(sol.value(H_A2),0)\n",
    "H_B2_val=np.round(sol.value(H_B2),0)\n",
    "inc1=np.round((sol.value(C1)+sol.value(B1)+sol.value(P1))/1e3,2)\n",
    "inc2=np.round((sol.value(C2)+sol.value(B2)+sol.value(P2))/1e3,2)\n",
    "\n",
    "print(\"metric                        | crop A   | crop B   |\")\n",
    "print(\"------------------------------|----------|----------|\")\n",
    "print(f\"area                         | {A_A_val:<8} | {A_B_val:<8} |\")\n",
    "print(f\"pre-sells                    | {U_pA_val:<8} | {U_pB_val:<8} |\")\n",
    "print(f\"harvested units (scenario 1) | {H_A1_val:<8} | {H_B1_val:<8} |\")\n",
    "print(f\"harvested units (scenario 2) | {H_A2_val:<8} | {H_B2_val:<8} |\")\n",
    "print('')\n",
    "print(\"scenario      | income [k$]  |\")\n",
    "print(\"--------------|--------------|\")\n",
    "print(f\"1             | {inc1:<12} |\")\n",
    "print(f\"2             | {inc2:<12} |\")"
   ]
  },
  {
   "cell_type": "markdown",
   "id": "a925d79d",
   "metadata": {},
   "source": [
    "final solution:\n",
    "- plant 100acres of crop A\n",
    "- presell 30000 units of crop A"
   ]
  },
  {
   "cell_type": "markdown",
   "id": "1c8ba394",
   "metadata": {},
   "source": [
    "### BACKUP: testing stuff - WiP\n",
    "\n",
    "\n",
    "find any solution in between by weighting in the cost function"
   ]
  },
  {
   "cell_type": "code",
   "execution_count": 7,
   "id": "550968e8",
   "metadata": {},
   "outputs": [
    {
     "name": "stdout",
     "output_type": "stream",
     "text": [
      "      solver  :   t_proc      (avg)   t_wall      (avg)    n_eval\n",
      "       nlp_f  |        0 (       0)  68.00us (  5.67us)        12\n",
      "       nlp_g  |   1.00ms ( 83.33us) 178.00us ( 14.83us)        12\n",
      "  nlp_grad_f  |   1.00ms ( 76.92us) 160.00us ( 12.31us)        13\n",
      "  nlp_hess_l  |        0 (       0)  26.00us (  2.36us)        11\n",
      "   nlp_jac_g  |        0 (       0) 411.00us ( 31.62us)        13\n",
      "       total  |  16.00ms ( 16.00ms)  15.46ms ( 15.46ms)         1\n",
      "      solver  :   t_proc      (avg)   t_wall      (avg)    n_eval\n",
      "       nlp_f  |        0 (       0)  53.00us (  4.42us)        12\n",
      "       nlp_g  |        0 (       0)  83.00us (  6.92us)        12\n",
      "  nlp_grad_f  |        0 (       0) 126.00us (  9.69us)        13\n",
      "  nlp_hess_l  |        0 (       0)  14.00us (  1.27us)        11\n",
      "   nlp_jac_g  |        0 (       0) 175.00us ( 13.46us)        13\n",
      "       total  |   8.00ms (  8.00ms)   8.29ms (  8.29ms)         1\n",
      "      solver  :   t_proc      (avg)   t_wall      (avg)    n_eval\n",
      "       nlp_f  |        0 (       0)  50.00us (  4.17us)        12\n",
      "       nlp_g  |        0 (       0)  81.00us (  6.75us)        12\n",
      "  nlp_grad_f  |        0 (       0) 119.00us (  9.15us)        13\n",
      "  nlp_hess_l  |        0 (       0)  10.00us (909.09ns)        11\n",
      "   nlp_jac_g  |        0 (       0) 155.00us ( 11.92us)        13\n",
      "       total  |   9.00ms (  9.00ms)   8.25ms (  8.25ms)         1\n",
      "      solver  :   t_proc      (avg)   t_wall      (avg)    n_eval\n",
      "       nlp_f  |        0 (       0)  35.00us (  2.92us)        12\n",
      "       nlp_g  |        0 (       0)  49.00us (  4.08us)        12\n",
      "  nlp_grad_f  |        0 (       0)  83.00us (  6.38us)        13\n",
      "  nlp_hess_l  |        0 (       0)   9.00us (818.18ns)        11\n",
      "   nlp_jac_g  |        0 (       0) 115.00us (  8.85us)        13\n",
      "       total  |   7.00ms (  7.00ms)   6.84ms (  6.84ms)         1\n",
      "      solver  :   t_proc      (avg)   t_wall      (avg)    n_eval\n",
      "       nlp_f  |        0 (       0)  42.00us (  2.47us)        17\n",
      "       nlp_g  |        0 (       0)  69.00us (  4.06us)        17\n",
      "  nlp_grad_f  |        0 (       0) 118.00us (  7.37us)        16\n",
      "  nlp_hess_l  |        0 (       0)   9.00us (642.86ns)        14\n",
      "   nlp_jac_g  |   1.00ms ( 62.50us) 173.00us ( 10.81us)        16\n",
      "       total  |  10.00ms ( 10.00ms)   9.52ms (  9.52ms)         1\n",
      "      solver  :   t_proc      (avg)   t_wall      (avg)    n_eval\n",
      "       nlp_f  |   1.00ms ( 47.62us)  86.00us (  4.10us)        21\n",
      "       nlp_g  |        0 (       0) 103.00us (  4.90us)        21\n",
      "  nlp_grad_f  |        0 (       0) 165.00us (  7.86us)        21\n",
      "  nlp_hess_l  |        0 (       0)  16.00us (842.11ns)        19\n",
      "   nlp_jac_g  |        0 (       0) 227.00us ( 10.81us)        21\n",
      "       total  |  13.00ms ( 13.00ms)  13.03ms ( 13.03ms)         1\n",
      "      solver  :   t_proc      (avg)   t_wall      (avg)    n_eval\n",
      "       nlp_f  |        0 (       0)  83.00us (  3.77us)        22\n",
      "       nlp_g  |        0 (       0) 175.00us (  7.95us)        22\n",
      "  nlp_grad_f  |        0 (       0) 146.00us (  7.68us)        19\n",
      "  nlp_hess_l  |        0 (       0)  14.00us (823.53ns)        17\n",
      "   nlp_jac_g  |        0 (       0) 205.00us ( 10.79us)        19\n",
      "       total  |  13.00ms ( 13.00ms)  13.00ms ( 13.00ms)         1\n",
      "      solver  :   t_proc      (avg)   t_wall      (avg)    n_eval\n",
      "       nlp_f  |        0 (       0)  86.00us (  4.53us)        19\n",
      "       nlp_g  |        0 (       0)  91.00us (  4.79us)        19\n",
      "  nlp_grad_f  |        0 (       0) 134.00us (  7.05us)        19\n",
      "  nlp_hess_l  |        0 (       0)  14.00us (823.53ns)        17\n",
      "   nlp_jac_g  |   1.00ms ( 52.63us) 230.00us ( 12.11us)        19\n",
      "       total  |  12.00ms ( 12.00ms)  12.04ms ( 12.04ms)         1\n",
      "      solver  :   t_proc      (avg)   t_wall      (avg)    n_eval\n",
      "       nlp_f  |        0 (       0) 100.00us (  5.00us)        20\n",
      "       nlp_g  |        0 (       0) 123.00us (  6.15us)        20\n",
      "  nlp_grad_f  |        0 (       0) 165.00us (  8.68us)        19\n",
      "  nlp_hess_l  |        0 (       0)  14.00us (823.53ns)        17\n",
      "   nlp_jac_g  |        0 (       0) 247.00us ( 13.00us)        19\n",
      "       total  |  15.00ms ( 15.00ms)  14.61ms ( 14.61ms)         1\n",
      "      solver  :   t_proc      (avg)   t_wall      (avg)    n_eval\n",
      "       nlp_f  |        0 (       0)  48.00us (  3.00us)        16\n",
      "       nlp_g  |        0 (       0)  91.00us (  5.69us)        16\n",
      "  nlp_grad_f  |        0 (       0) 155.00us (  9.12us)        17\n",
      "  nlp_hess_l  |        0 (       0)  15.00us (  1.00us)        15\n",
      "   nlp_jac_g  |   1.00ms ( 58.82us) 253.00us ( 14.88us)        17\n",
      "       total  |  12.00ms ( 12.00ms)  11.97ms ( 11.97ms)         1\n",
      "      solver  :   t_proc      (avg)   t_wall      (avg)    n_eval\n",
      "       nlp_f  |        0 (       0)  33.00us (  2.06us)        16\n",
      "       nlp_g  |        0 (       0)  85.00us (  5.31us)        16\n",
      "  nlp_grad_f  |        0 (       0)  88.00us (  5.18us)        17\n",
      "  nlp_hess_l  |        0 (       0)  11.00us (733.33ns)        15\n",
      "   nlp_jac_g  |        0 (       0) 184.00us ( 10.82us)        17\n",
      "       total  |  11.00ms ( 11.00ms)  11.00ms ( 11.00ms)         1\n"
     ]
    },
    {
     "data": {
      "text/plain": [
       "<matplotlib.legend.Legend at 0x24c9ea36210>"
      ]
     },
     "execution_count": 7,
     "metadata": {},
     "output_type": "execute_result"
    },
    {
     "data": {
      "image/png": "[encoded data removed]",
      "text/plain": [
       "<Figure size 640x480 with 1 Axes>"
      ]
     },
     "metadata": {},
     "output_type": "display_data"
    }
   ],
   "source": [
    "inc1_list = []\n",
    "inc2_list = []\n",
    "for alpha in range(0,11,1):\n",
    "    alpha_i = alpha/10\n",
    "    J = alpha_i*(C1 + B1 + P1) + (1-alpha_i)*(C2 + B2 + P2)\n",
    "    opti.minimize(-J)\n",
    "    sol = opti.solve()\n",
    "    inc1 = np.round((sol.value(C1)+sol.value(B1)+sol.value(P1))/1e3,2)\n",
    "    inc2 = np.round((sol.value(C2)+sol.value(B2)+sol.value(P2))/1e3,2)\n",
    "    inc1_list.append(inc1)\n",
    "    inc2_list.append(inc2)\n",
    "plt.plot(inc1_list,inc2_list,label='income tradeoff curve',marker='o')\n",
    "plt.xlabel('Income scenario 1 [k$]')\n",
    "plt.ylabel('Income scenario 2 [k$]')\n",
    "plt.legend()"
   ]
  },
  {
   "cell_type": "code",
   "execution_count": 8,
   "id": "7d14039f",
   "metadata": {},
   "outputs": [
    {
     "name": "stdout",
     "output_type": "stream",
     "text": [
      "      solver  :   t_proc      (avg)   t_wall      (avg)    n_eval\n",
      "       nlp_f  |        0 (       0) 107.00us (  6.69us)        16\n",
      "       nlp_g  |        0 (       0) 131.00us (  8.19us)        16\n",
      "  nlp_grad_f  |        0 (       0) 164.00us (  9.65us)        17\n",
      "  nlp_hess_l  |        0 (       0)  17.00us (  1.13us)        15\n",
      "   nlp_jac_g  |   1.00ms ( 58.82us) 220.00us ( 12.94us)        17\n",
      "       total  |  13.00ms ( 13.00ms)  12.29ms ( 12.29ms)         1\n",
      "222.0\n",
      "82.0\n"
     ]
    }
   ],
   "source": [
    "alpha=0.5\n",
    "J = alpha*(C1 + B1 + P1) + (1-alpha)*(C2 + B2 + P2)/(y_B2*100*p_B2)\n",
    "opti.minimize(-J)\n",
    "sol = opti.solve()\n",
    "inc1 = np.round((sol.value(C1)+sol.value(B1)+sol.value(P1))/1e3,2)\n",
    "inc2 = np.round((sol.value(C2)+sol.value(B2)+sol.value(P2))/1e3,2)\n",
    "print(inc1)\n",
    "print(inc2)"
   ]
  },
  {
   "cell_type": "code",
   "execution_count": 9,
   "id": "94536b62",
   "metadata": {},
   "outputs": [
    {
     "name": "stdout",
     "output_type": "stream",
     "text": [
      "126700.0\n",
      "127060.0\n"
     ]
    }
   ],
   "source": [
    "A_A = 59\n",
    "A_B = 100-A_A\n",
    "U_pA = 0\n",
    "U_pB = 0\n",
    "\n",
    "# numerical test\n",
    "y_A1 = 800\n",
    "y_B1 = 150\n",
    "y_A2 = 300\n",
    "y_B2 = 600\n",
    "c_fA = 150\n",
    "c_fB = 100\n",
    "c_vA1 = 50\n",
    "c_vB1 = 150\n",
    "c_vA2 = 200\n",
    "c_vB2 = 40\n",
    "p_pA = 3.9\n",
    "p_pB = 3.9\n",
    "s_A = 1.5\n",
    "s_B = 1.45\n",
    "p_A1 = 2.5\n",
    "p_B1 = 5\n",
    "p_A2 = 4.5\n",
    "p_B2 = 3\n",
    "\n",
    "# harvested units in scenario 1\n",
    "H_A1 = y_A1 * A_A\n",
    "H_B1 = y_B1 * A_B\n",
    "# harvested units in scenario 2\n",
    "H_A2 = y_A2 * A_A\n",
    "H_B2 = y_B2 * A_B\n",
    "\n",
    "# cost\n",
    "C1 = -(c_fA + c_vA1) * A_A - (c_fB + c_vB1) * A_B\n",
    "B1 = np.min([U_pA,H_A1]) * p_pA + np.min([U_pB,H_B1]) * p_pB + np.max([H_A1 - U_pA, 0]) * p_A1 + np.max([H_B1 - U_pB, 0]) * p_B1\n",
    "P1 = np.min([H_A1 - U_pA, 0]) * s_A + np.min([H_B1 - U_pB, 0]) * s_B\n",
    "\n",
    "C2 = -(c_fA + c_vA2) * A_A - (c_fB + c_vB2) * A_B\n",
    "B2 = np.min([U_pA,H_A2]) * p_pA + np.min([U_pB,H_B2]) * p_pB + np.max([H_A2 - U_pA, 0]) * p_A2 + np.max([H_B2 - U_pB, 0]) * p_B2\n",
    "P2 = np.min([H_A2 - U_pA, 0]) * s_A + np.min([H_B2 - U_pB, 0]) * s_B\n",
    "\n",
    "print(C1+B1+P1)\n",
    "print(C2+B2+P2)"
   ]
  },
  {
   "cell_type": "code",
   "execution_count": 10,
   "id": "7bd420dc",
   "metadata": {},
   "outputs": [
    {
     "data": {
      "text/plain": [
       "np.int64(0)"
      ]
     },
     "execution_count": 10,
     "metadata": {},
     "output_type": "execute_result"
    }
   ],
   "source": [
    "np.min((U_pA,H_A1))"
   ]
  }
 ],
 "metadata": {
  "kernelspec": {
   "display_name": "ambiguity",
   "language": "python",
   "name": "python3"
  },
  "language_info": {
   "codemirror_mode": {
    "name": "ipython",
    "version": 3
   },
   "file_extension": ".py",
   "mimetype": "text/x-python",
   "name": "python",
   "nbconvert_exporter": "python",
   "pygments_lexer": "ipython3",
   "version": "3.12.6"
  }
 },
 "nbformat": 4,
 "nbformat_minor": 5
}
