{
 "cells": [
  {
   "cell_type": "code",
   "execution_count": 1,
   "id": "3026c4a2",
   "metadata": {},
   "outputs": [],
   "source": [
    "from scipy.optimize import linprog"
   ]
  },
  {
   "cell_type": "code",
   "execution_count": 2,
   "id": "2f73ef07",
   "metadata": {},
   "outputs": [],
   "source": [
    "objective = [-250,-300]\n",
    "lhs_ineq = [[24,36],\n",
    "            [3,2.5],\n",
    "            [1.27,1.27]]\n",
    "rhs_ineq = [[2500*60],\n",
    "            [14000],\n",
    "            [6350]]\n",
    "\n",
    "bnd = [ (0, float(\"inf\")),\n",
    "        (0, float(\"inf\"))]"
   ]
  },
  {
   "cell_type": "code",
   "execution_count": 4,
   "id": "587e1503",
   "metadata": {},
   "outputs": [],
   "source": [
    "opt = linprog(c=objective, A_ub=lhs_ineq, b_ub=rhs_ineq,bounds=bnd,method=\"highs\")"
   ]
  },
  {
   "cell_type": "code",
   "execution_count": 24,
   "id": "136b8776",
   "metadata": {},
   "outputs": [
    {
     "data": {
      "text/plain": [
       "        message: Optimization terminated successfully. (HiGHS Status 7: Optimal)\n",
       "        success: True\n",
       "         status: 0\n",
       "            fun: -1375000.0\n",
       "              x: [ 2.500e+03  2.500e+03]\n",
       "            nit: 3\n",
       "          lower:  residual: [ 2.500e+03  2.500e+03]\n",
       "                 marginals: [ 0.000e+00  0.000e+00]\n",
       "          upper:  residual: [       inf        inf]\n",
       "                 marginals: [ 0.000e+00  0.000e+00]\n",
       "          eqlin:  residual: []\n",
       "                 marginals: []\n",
       "        ineqlin:  residual: [ 0.000e+00  2.500e+02  0.000e+00]\n",
       "                 marginals: [-4.167e+00 -0.000e+00 -1.181e+02]\n",
       " mip_node_count: 0\n",
       " mip_dual_bound: 0.0\n",
       "        mip_gap: 0.0"
      ]
     },
     "execution_count": 24,
     "metadata": {},
     "output_type": "execute_result"
    }
   ],
   "source": [
    "opt"
   ]
  },
  {
   "cell_type": "markdown",
   "id": "9d404f40",
   "metadata": {},
   "source": [
    "double check inequality conditions"
   ]
  },
  {
   "cell_type": "code",
   "execution_count": 17,
   "id": "aa3d9d68",
   "metadata": {},
   "outputs": [
    {
     "data": {
      "text/plain": [
       "array([[ True],\n",
       "       [ True],\n",
       "       [ True]])"
      ]
     },
     "execution_count": 17,
     "metadata": {},
     "output_type": "execute_result"
    }
   ],
   "source": [
    "import numpy as np\n",
    "tmp = np.array(lhs_ineq)@np.array([opt.x]).T\n",
    "tmp <= np.array(rhs_ineq)"
   ]
  },
  {
   "cell_type": "code",
   "execution_count": 21,
   "id": "b4235c69",
   "metadata": {},
   "outputs": [
    {
     "name": "stdout",
     "output_type": "stream",
     "text": [
      "classic solution (LP):\n",
      "optimal production quantities (tons): [2500. 2500.]\n",
      "maximized profit : 1375.0k$\n"
     ]
    }
   ],
   "source": [
    "print('classic solution (LP):')\n",
    "print(f\"optimal production quantities (tons): {opt.x}\")\n",
    "print(f\"maximized profit : {-opt.fun*1e-3}k$\")"
   ]
  }
 ],
 "metadata": {
  "kernelspec": {
   "display_name": "production_planning_twist",
   "language": "python",
   "name": "python3"
  },
  "language_info": {
   "codemirror_mode": {
    "name": "ipython",
    "version": 3
   },
   "file_extension": ".py",
   "mimetype": "text/x-python",
   "name": "python",
   "nbconvert_exporter": "python",
   "pygments_lexer": "ipython3",
   "version": "3.12.6"
  }
 },
 "nbformat": 4,
 "nbformat_minor": 5
}
